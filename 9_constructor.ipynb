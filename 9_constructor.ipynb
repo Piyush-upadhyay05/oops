{
 "cells": [
  {
   "cell_type": "markdown",
   "metadata": {},
   "source": [
    "### constructor\n",
    "\n",
    "- A constructor is a special method that is automatically called when an object of a class is created.\n",
    "\n",
    "- the constructor method is:\n",
    "       - def __init__(self, ...):\n"
   ]
  },
  {
   "cell_type": "markdown",
   "metadata": {},
   "source": [
    "### purpose of constructor \n",
    "\n",
    "- To initialize the object when it is created.\n",
    "\n",
    "- To assign default or passed values to object attributes."
   ]
  },
  {
   "cell_type": "markdown",
   "metadata": {},
   "source": [
    "### syntax "
   ]
  },
  {
   "cell_type": "code",
   "execution_count": 1,
   "metadata": {},
   "outputs": [],
   "source": [
    "class ClassName:\n",
    "    def __init__(self, parameter1, parameter2):\n",
    "        self.attribute1 = parameter1\n",
    "        self.attribute2 = parameter2\n"
   ]
  },
  {
   "cell_type": "markdown",
   "metadata": {},
   "source": [
    "example:"
   ]
  },
  {
   "cell_type": "code",
   "execution_count": null,
   "metadata": {},
   "outputs": [],
   "source": [
    "class Student:\n",
    "    def __init__(self, name, roll):\n",
    "        self.name = name\n",
    "        self.roll = roll\n"
   ]
  },
  {
   "cell_type": "markdown",
   "metadata": {},
   "source": [
    "### there are three type of constructor \n",
    "\n",
    "- # 1. default constructor \n",
    "      \n",
    "   - A constructor that takes no parameters (except self).\n",
    "   - example:\n",
    "\n",
    "\n"
   ]
  },
  {
   "cell_type": "code",
   "execution_count": null,
   "metadata": {},
   "outputs": [],
   "source": [
    "class Demo:\n",
    "    def __init__(self):\n",
    "        print(\"Default constructor called\")\n",
    "\n",
    "obj = Demo()\n"
   ]
  },
  {
   "cell_type": "markdown",
   "metadata": {},
   "source": [
    "- # 2. parameterized constructor\n",
    "\n",
    "    - Takes one or more arguments to initialize attributes.\n",
    "    - example \n"
   ]
  },
  {
   "cell_type": "code",
   "execution_count": null,
   "metadata": {},
   "outputs": [],
   "source": [
    "class Car:\n",
    "    def __init__(self, brand, model):\n",
    "        self.brand = brand\n",
    "        self.model = model\n",
    "\n",
    "car1 = Car(\"Tesla\", \"Model S\")\n"
   ]
  },
  {
   "cell_type": "markdown",
   "metadata": {},
   "source": [
    "- # Constructor Overloading (⚠ Not directly supported in Python)\n",
    "    - Python doesn't support constructor overloading like Java/C++. You can’t define  multiple __init__ methods in the same class.\n",
    "\n",
    "     But you can achieve similar behavior using default arguments or *args/**kwargs.\n"
   ]
  },
  {
   "cell_type": "markdown",
   "metadata": {},
   "source": [
    "a ) using default argument "
   ]
  },
  {
   "cell_type": "code",
   "execution_count": null,
   "metadata": {},
   "outputs": [],
   "source": [
    "class Demo:\n",
    "    def __init__(self, x=0, y=0):\n",
    "        self.x = x\n",
    "        self.y = y\n",
    "\n",
    "obj1 = Demo()\n",
    "obj2 = Demo(5)\n",
    "obj3 = Demo(3, 4)\n"
   ]
  },
  {
   "cell_type": "markdown",
   "metadata": {},
   "source": [
    "b ) using *args/**kwargs:"
   ]
  },
  {
   "cell_type": "code",
   "execution_count": null,
   "metadata": {},
   "outputs": [],
   "source": [
    "class Demo:\n",
    "    def __init__(self, *args):\n",
    "        if len(args) == 1:\n",
    "            self.x = args[0]\n",
    "        elif len(args) == 2:\n",
    "            self.x = args[0] + args[1]\n",
    "        else:\n",
    "            self.x = 0\n",
    "\n",
    "obj = Demo(1, 2)\n"
   ]
  },
  {
   "cell_type": "markdown",
   "metadata": {},
   "source": [
    "### example combining everything "
   ]
  },
  {
   "cell_type": "code",
   "execution_count": null,
   "metadata": {},
   "outputs": [],
   "source": [
    "class Movie:\n",
    "    def __init__(self, title=\"Unknown\", runtime=0, hero=\"Unknown\"):\n",
    "        self.title = title\n",
    "        self.runtime = runtime\n",
    "        self.hero = hero\n",
    "\n",
    "    def display(self):\n",
    "        print(f\"Title: {self.title}, Runtime: {self.runtime} mins, Hero: {self.hero}\")\n",
    "\n",
    "m1 = Movie(\"Inception\", 148, \"Leonardo\")\n",
    "m2 = Movie()  # Default values\n",
    "m1.display()\n",
    "m2.display()\n"
   ]
  }
 ],
 "metadata": {
  "kernelspec": {
   "display_name": "Python 3",
   "language": "python",
   "name": "python3"
  },
  "language_info": {
   "codemirror_mode": {
    "name": "ipython",
    "version": 3
   },
   "file_extension": ".py",
   "mimetype": "text/x-python",
   "name": "python",
   "nbconvert_exporter": "python",
   "pygments_lexer": "ipython3",
   "version": "3.13.3"
  }
 },
 "nbformat": 4,
 "nbformat_minor": 2
}
