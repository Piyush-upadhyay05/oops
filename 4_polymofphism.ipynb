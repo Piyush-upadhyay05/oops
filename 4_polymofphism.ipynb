{
 "cells": [
  {
   "cell_type": "markdown",
   "metadata": {},
   "source": [
    "### Polymorphism :\n",
    "\n",
    "- polymorphism in python is an ability of python object to take many forms \n",
    "\n",
    "- if a variable , object , method perfomrs diferent behaviour according to situation is called as polymorphism .  \n"
   ]
  },
  {
   "cell_type": "markdown",
   "metadata": {},
   "source": [
    "### common built in function :"
   ]
  },
  {
   "cell_type": "markdown",
   "metadata": {},
   "source": [
    "#### 1. len() function "
   ]
  },
  {
   "cell_type": "code",
   "execution_count": 1,
   "metadata": {},
   "outputs": [
    {
     "name": "stdout",
     "output_type": "stream",
     "text": [
      "5\n",
      "3\n",
      "2\n"
     ]
    }
   ],
   "source": [
    "print(len(\"hello\"))       # 5 (length of string)\n",
    "print(len([1, 2, 3]))      # 3 (length of list)\n",
    "print(len({'a': 1, 'b': 2})) # 2 (number of keys in dict)\n"
   ]
  },
  {
   "cell_type": "markdown",
   "metadata": {},
   "source": [
    "- ➡ len() is polymorphic because it behaves differently for different data types."
   ]
  },
  {
   "cell_type": "markdown",
   "metadata": {},
   "source": [
    "#### 2. + (add operaotr) :\n",
    "\n",
    "- it usually add \n",
    "\n",
    "- Polymorphic behavior through operator overloading.\n",
    "\n"
   ]
  },
  {
   "cell_type": "code",
   "execution_count": 2,
   "metadata": {},
   "outputs": [
    {
     "name": "stdout",
     "output_type": "stream",
     "text": [
      "8\n",
      "Hello World\n",
      "[1, 2, 3, 4]\n"
     ]
    }
   ],
   "source": [
    "print(3 + 5)             # 8 (integer addition)\n",
    "print(\"Hello \" + \"World\") # \"Hello World\" (string concatenation)\n",
    "print([1, 2] + [3, 4])   # [1, 2, 3, 4] (list merge)\n",
    "\n"
   ]
  },
  {
   "cell_type": "markdown",
   "metadata": {},
   "source": [
    "#### 3. * (multiplication operator)\n",
    "\n",
    "- Used for multiplication, but behavior varies:"
   ]
  },
  {
   "cell_type": "code",
   "execution_count": 3,
   "metadata": {},
   "outputs": [
    {
     "name": "stdout",
     "output_type": "stream",
     "text": [
      "8\n",
      "hahaha\n",
      "[1, 2, 1, 2]\n"
     ]
    }
   ],
   "source": [
    "print(4 * 2)           # 8 (integer multiplication)\n",
    "print(\"ha\" * 3)        # \"hahaha\" (string repetition)\n",
    "print([1, 2] * 2)      # [1, 2, 1, 2] (list repetition)\n"
   ]
  },
  {
   "cell_type": "markdown",
   "metadata": {},
   "source": [
    "-  One operator, multiple behaviors based on data type."
   ]
  },
  {
   "cell_type": "markdown",
   "metadata": {},
   "source": [
    "#### 4.max() and min() Functions\n",
    "\n",
    "- Returns the max/min value from a collection. It works with:\n",
    "\n",
    "   - Strings\n",
    "\n",
    "   - Lists\n",
    "\n",
    "   - Tuples, etc."
   ]
  },
  {
   "cell_type": "code",
   "execution_count": 5,
   "metadata": {},
   "outputs": [
    {
     "name": "stdout",
     "output_type": "stream",
     "text": [
      "3\n",
      "n\n",
      "1\n",
      "7\n",
      "8\n",
      "y\n"
     ]
    }
   ],
   "source": [
    "print(max([1, 2, 3]))\n",
    "print(max(\"banana\"))         \n",
    "print(min((4, 2, 7, 1)))       \n",
    "print(max([3, 5, 7]))        # Output: 7 (list)\n",
    "print(max((2, 8, 1)))        # Output: 8 (tuple)\n",
    "print(max(\"python\"))        # Output: 'y' (based on ASCII values)\n",
    "\n",
    "\n"
   ]
  },
  {
   "cell_type": "markdown",
   "metadata": {},
   "source": [
    "#### 5. type() - return the type of any object "
   ]
  },
  {
   "cell_type": "code",
   "execution_count": 6,
   "metadata": {},
   "outputs": [
    {
     "name": "stdout",
     "output_type": "stream",
     "text": [
      "<class 'int'>\n",
      "<class 'str'>\n",
      "<class 'list'>\n"
     ]
    }
   ],
   "source": [
    "print(type(100))           # <class 'int'>\n",
    "print(type(\"ChatGPT\"))     # <class 'str'>\n",
    "print(type([1, 2, 3]))      # <class 'list'>\n"
   ]
  },
  {
   "cell_type": "markdown",
   "metadata": {},
   "source": [
    "#### 6. sorted() – Sorting Various Sequences"
   ]
  },
  {
   "cell_type": "code",
   "execution_count": 7,
   "metadata": {},
   "outputs": [
    {
     "name": "stdout",
     "output_type": "stream",
     "text": [
      "[1, 5, 9]\n",
      "['e', 'h', 'l', 'l', 'o']\n",
      "[1, 2, 3]\n"
     ]
    }
   ],
   "source": [
    "print(sorted([5, 1, 9]))        # [1, 5, 9] (list)\n",
    "print(sorted(\"hello\"))         # ['e', 'h', 'l', 'l', 'o'] (string → list of chars)\n",
    "print(sorted((3, 2, 1)))        # [1, 2, 3] (tuple → sorted list)\n"
   ]
  },
  {
   "cell_type": "markdown",
   "metadata": {},
   "source": [
    "- The sorted() function adapts to input types while maintaining its core functionality.\n",
    "\n"
   ]
  },
  {
   "cell_type": "markdown",
   "metadata": {},
   "source": [
    "#### 7. reversed() - The built-in reversed() function returns a reverse iterator over a reversible object.\n",
    "\n",
    "- The same function reversed() behaves differently based on the type of the object passed each object defines its own way of reversal through a polymorphic method.\n"
   ]
  },
  {
   "cell_type": "code",
   "execution_count": 8,
   "metadata": {},
   "outputs": [
    {
     "name": "stdout",
     "output_type": "stream",
     "text": [
      "s\n",
      "y\n",
      "s\n",
      "o\n",
      "f\n",
      "n\n",
      "i\n",
      "for list now\n",
      "pandey\n",
      "yash\n",
      "jay\n"
     ]
    }
   ],
   "source": [
    "emp = [ 'jay','yash','pandey']\n",
    "company = \"infosys\"\n",
    "\n",
    "for i in reversed(company):\n",
    "    print(i)  \n",
    "\n",
    "print(\"for list now\")\n",
    "for i in reversed(emp):\n",
    "    print(i)"
   ]
  },
  {
   "cell_type": "markdown",
   "metadata": {},
   "source": [
    "### Polymorphism with inheritance :\n",
    "\n",
    "- Polymorphism with inheritance means that a child class (subclass) can override methods of a parent class (superclass), and we can use parent class references to refer to child class objects. The correct version of the method is chosen at runtime based on the actual object — not the reference type."
   ]
  },
  {
   "cell_type": "code",
   "execution_count": 35,
   "metadata": {},
   "outputs": [
    {
     "name": "stdout",
     "output_type": "stream",
     "text": [
      "maximun speed limit is 100\n",
      "the speed is 140\n",
      "the maximum gear is 7\n",
      "name is truck\n",
      "color is  red\n",
      "here the price is  2000000\n",
      "name is car\n",
      "color is  white\n",
      "here the price is  7000000\n"
     ]
    }
   ],
   "source": [
    "class Veh:\n",
    "    def __init__(self,name,color,price):\n",
    "        self.name= name\n",
    "        self.color= color\n",
    "        self.price=price\n",
    "    def get_detailes(self):\n",
    "        print(\"name is\",self.name)\n",
    "        print(\"color is \", self.color)\n",
    "        print(\"here the price is \", self.price)\n",
    "    def max_speed(self):\n",
    "        print(\"maximun speed limit is 100\")\n",
    "    def gear(self):\n",
    "        print(\"maximum gear is 6\")\n",
    "class Car(Veh):\n",
    "    def max_speed(self):\n",
    "        print(\"the speed is 140\")\n",
    "    def gear(self):\n",
    "        print(\"the maximum gear is 7\")\n",
    "\n",
    "\n",
    "V1=Veh(\"truck\",'red',price=2000000)\n",
    "C1=Car(\"car\",'white',price=7000000)\n",
    "V1.max_speed()\n",
    "C1.max_speed()\n",
    "C1.gear()\n",
    "V1.get_detailes()\n",
    "C1.get_detailes()\n",
    "    \n"
   ]
  },
  {
   "cell_type": "markdown",
   "metadata": {},
   "source": [
    "### Types of polymorphism :\n",
    "\n",
    "- 1. compile time (it has two features)\n",
    "   \n",
    "    - i. method overloading \n",
    "  \n",
    "    - ii. operator overloading \n",
    "\n",
    "- 2. run time polymorphism (features metho overriding) \n",
    "   \n",
    "    - i. method overriding \n",
    " \n",
    " "
   ]
  },
  {
   "cell_type": "markdown",
   "metadata": {},
   "source": [
    "## 1. compile time polymorphism :\n",
    "\n",
    "- This type of polymorphism is resolved during compile time.\n",
    "\n",
    "   - # i. method overloading \n",
    "     - Same method name with different parameter lists (number, type, or order of parameters)\n",
    "\n",
    "     - Not directly supported in Python (can be simulated using default arguments or *args, **kwargs) \n"
   ]
  },
  {
   "cell_type": "code",
   "execution_count": 36,
   "metadata": {},
   "outputs": [],
   "source": [
    "class MathOperation:\n",
    "    def add(self, a, b=None):\n",
    "        if b is not None:\n",
    "            return a + b\n",
    "        return a + a  # if only one argument, double it\n"
   ]
  },
  {
   "cell_type": "markdown",
   "metadata": {},
   "source": [
    " - # ii. operator overloading :\n"
   ]
  },
  {
   "cell_type": "code",
   "execution_count": 37,
   "metadata": {},
   "outputs": [],
   "source": [
    "class Point:\n",
    "    def __init__(self, x, y):\n",
    "        self.x = x\n",
    "        self.y = y\n",
    "\n",
    "    def __add__(self, other):\n",
    "        return Point(self.x + other.x, self.y + other.y)\n"
   ]
  },
  {
   "cell_type": "markdown",
   "metadata": {},
   "source": [
    "## 2. Run-Time Polymorphism (Dynamic Polymorphism)\n",
    "\n",
    "- This type of polymorphism is resolved during runtime.\n",
    "\n",
    "   - # i. method overring \n",
    "  \n",
    "      - Same method name in parent and child classes\n",
    "\n",
    "      - The child class provides a specific implementation\n",
    "\n",
    "\n",
    "\n"
   ]
  },
  {
   "cell_type": "code",
   "execution_count": null,
   "metadata": {},
   "outputs": [
    {
     "name": "stdout",
     "output_type": "stream",
     "text": [
      "Bark\n",
      "Meow\n"
     ]
    }
   ],
   "source": [
    "class Animal:\n",
    "    def sound(self):\n",
    "        print(\"Some sound\")\n",
    "\n",
    "class Dog(Animal):\n",
    "    def sound(self):\n",
    "        print(\"Bark\")\n",
    "\n",
    "class Cat(Animal):\n",
    "    def sound(self):\n",
    "        print(\"Meow\")\n",
    "\n",
    "def make_sound(animal):\n",
    "    animal.sound()\n",
    "\n",
    "dog = Dog()\n",
    "cat = Cat()\n",
    "\n",
    "make_sound(dog)  \n",
    "make_sound(cat)  \n"
   ]
  },
  {
   "cell_type": "markdown",
   "metadata": {},
   "source": [
    "#### how to change functionality in built in fucntion - using overriding you can change the functionality"
   ]
  },
  {
   "cell_type": "code",
   "execution_count": null,
   "metadata": {},
   "outputs": [
    {
     "name": "stdout",
     "output_type": "stream",
     "text": [
      "<__main__.cart object at 0x7053bea45010>\n"
     ]
    }
   ],
   "source": [
    "class cart:\n",
    "    pass\n",
    "c1 = cart()\n",
    "print(c1) # here you can see that the memory address is in the output because there \n",
    "        # is built-in function to print the memory address of the cart "
   ]
  },
  {
   "cell_type": "code",
   "execution_count": null,
   "metadata": {},
   "outputs": [
    {
     "name": "stdout",
     "output_type": "stream",
     "text": [
      "this is the cart class object\n"
     ]
    }
   ],
   "source": [
    "class cart:\n",
    "    def __str__(self):\n",
    "        return\"this is the cart class object\"\n",
    "c1 = cart()\n",
    "print(c1) # here you can see that you can modigfy the built in function using overiding "
   ]
  },
  {
   "cell_type": "code",
   "execution_count": null,
   "metadata": {},
   "outputs": [
    {
     "name": "stdout",
     "output_type": "stream",
     "text": [
      "total number of atoms in cart\n",
      "6\n"
     ]
    }
   ],
   "source": [
    "class cart:\n",
    "    def __init__(self, basket1,basket2,basket3):\n",
    "        self.clothing = basket1\n",
    "        self.electronix= basket2\n",
    "        self.others = basket3\n",
    "    def __len__(self):\n",
    "        print(\"total number of atoms in cart\")\n",
    "        return len(self.clothing)+len(self.electronix)+len(self.others)\n",
    "\n",
    "shantanu = cart(['shirt','t-shirt','pant'],['mobile','earphone'],['chair'])\n",
    "print(len(shantanu))\n",
    "# here you create your own built in function using overring "
   ]
  },
  {
   "cell_type": "markdown",
   "metadata": {},
   "source": [
    "### Polymorphism in functions and objects "
   ]
  },
  {
   "cell_type": "code",
   "execution_count": 6,
   "metadata": {},
   "outputs": [
    {
     "name": "stdout",
     "output_type": "stream",
     "text": [
      "diesel\n",
      "max speed is 200\n",
      "---------\n",
      "petrol\n",
      "max speed is 180\n"
     ]
    }
   ],
   "source": [
    "class BMW:\n",
    "    def fuel_type(self):\n",
    "        print(\"diesel\")\n",
    "    def max_speed(Self):\n",
    "        print(\"max speed is 200\")\n",
    "class Ferrari:\n",
    "    def fuel_type(self):\n",
    "        print(\"petrol\")\n",
    "    def max_speed(Self):\n",
    "        print(\"max speed is 180\")\n",
    "\n",
    "def car_detailes(obj):\n",
    "    obj.fuel_type()\n",
    "    obj.max_speed()\n",
    "bmw = BMW()\n",
    "ferrari = Ferrari()\n",
    "\n",
    "car_detailes(bmw)\n",
    "print(\"---------\")\n",
    "car_detailes(ferrari)\n",
    "\n",
    "# this is the example of polymorphism by using normal function and depending on object "
   ]
  }
 ],
 "metadata": {
  "kernelspec": {
   "display_name": "Python 3",
   "language": "python",
   "name": "python3"
  },
  "language_info": {
   "codemirror_mode": {
    "name": "ipython",
    "version": 3
   },
   "file_extension": ".py",
   "mimetype": "text/x-python",
   "name": "python",
   "nbconvert_exporter": "python",
   "pygments_lexer": "ipython3",
   "version": "3.13.3"
  }
 },
 "nbformat": 4,
 "nbformat_minor": 2
}
