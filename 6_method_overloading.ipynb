{
 "cells": [
  {
   "cell_type": "markdown",
   "metadata": {},
   "source": [
    "### Method overloading \n",
    "\n",
    "- Method Overloading means defining multiple methods with the same name but different parameters (number or type) in the same class. \n",
    "\n",
    "- in other words when a class contain two or more method with same name but different behaivour is called metho overloading .\n",
    "\n",
    "-  In some languages like Java or C++, it's directly supported.\n",
    "\n",
    "-  But Python does not support method overloading in the traditional way. Instead,  you can simulate it using:\n",
    "\n",
    "     - Default arguments\n",
    "\n",
    "     - Variable-length arguments (*args, **kwargs)\n",
    "\n",
    "     - Type checking (optional)\n",
    "\n"
   ]
  },
  {
   "cell_type": "code",
   "execution_count": null,
   "metadata": {},
   "outputs": [
    {
     "ename": "TypeError",
     "evalue": "addition.add() missing 1 required positional argument: 'num3'",
     "output_type": "error",
     "traceback": [
      "\u001b[31m---------------------------------------------------------------------------\u001b[39m",
      "\u001b[31mTypeError\u001b[39m                                 Traceback (most recent call last)",
      "\u001b[36mCell\u001b[39m\u001b[36m \u001b[39m\u001b[32mIn[6]\u001b[39m\u001b[32m, line 9\u001b[39m\n\u001b[32m      7\u001b[39m         \u001b[38;5;28mprint\u001b[39m(num1+num2+num3)\n\u001b[32m      8\u001b[39m a = addition()\n\u001b[32m----> \u001b[39m\u001b[32m9\u001b[39m \u001b[43ma\u001b[49m\u001b[43m.\u001b[49m\u001b[43madd\u001b[49m\u001b[43m(\u001b[49m\u001b[32;43m10\u001b[39;49m\u001b[43m,\u001b[49m\u001b[32;43m20\u001b[39;49m\u001b[43m)\u001b[49m \u001b[38;5;66;03m# in cpp and java it is correct but in python the last method is called always that why two argumente give type error \u001b[39;00m\n",
      "\u001b[31mTypeError\u001b[39m: addition.add() missing 1 required positional argument: 'num3'"
     ]
    }
   ],
   "source": [
    "class addition:\n",
    "\n",
    "    def add(self,num1,num2):\n",
    "        print(num1 + num2)\n",
    "\n",
    "    def add(self,num1,num2,num3):\n",
    "        print(num1+num2+num3)\n",
    "a = addition()\n",
    "a.add(10,20) # in cpp and java it is correct but in python the last method is called always that why two argumente give type error in python always last method is called ."
   ]
  },
  {
   "cell_type": "markdown",
   "metadata": {},
   "source": [
    "### how to achieve method overloading in python \n",
    "\n",
    "- to overload class method , we need to write method's logic so that different code executes inside the method accroding to parameters provided \n",
    "\n",
    "- in upper code we create a two method to get method overloading create only one method instead of two and in this one method us if else condition to get method overlaoding ."
   ]
  },
  {
   "cell_type": "code",
   "execution_count": null,
   "metadata": {},
   "outputs": [
    {
     "name": "stdout",
     "output_type": "stream",
     "text": [
      "additon is 30\n",
      "Additon is 60\n"
     ]
    }
   ],
   "source": [
    "class addition:\n",
    "    def add(self,num1=None,num2=None,num3=None):\n",
    "        if num1!=None and num2!=None and num3!=None:\n",
    "            print(\"Additon is\",num1+num2+num3)\n",
    "        elif num1!=None and num2!=None:\n",
    "           print(\"additon is\",num1+num2)\n",
    "        else:\n",
    "            print(\"incorrect parameters provide\")\n",
    "\n",
    "a = addition()\n",
    "a.add(10,20)\n",
    "a.add(10,20,30)\n",
    "# here how we achieve method overloading in python "
   ]
  },
  {
   "cell_type": "code",
   "execution_count": 14,
   "metadata": {},
   "outputs": [
    {
     "name": "stdout",
     "output_type": "stream",
     "text": [
      "area of square is 400\n",
      "the area of rectangle is 200\n"
     ]
    }
   ],
   "source": [
    "class Area:\n",
    "    def area(self,l=0,b=0): # in bracket put maximum number of parameter\n",
    "        if l!=0 and b!=0:\n",
    "            print(\"the area of rectangle is\",l*b)\n",
    "        elif l!=0:\n",
    "            print(\"area of square is\", l*l)\n",
    "        else:\n",
    "            print(\"enter value\")\n",
    "a = Area()\n",
    "a.area(20)\n",
    "a.area(10,20)\n",
    "                # "
   ]
  }
 ],
 "metadata": {
  "kernelspec": {
   "display_name": "Python 3",
   "language": "python",
   "name": "python3"
  },
  "language_info": {
   "codemirror_mode": {
    "name": "ipython",
    "version": 3
   },
   "file_extension": ".py",
   "mimetype": "text/x-python",
   "name": "python",
   "nbconvert_exporter": "python",
   "pygments_lexer": "ipython3",
   "version": "3.13.3"
  }
 },
 "nbformat": 4,
 "nbformat_minor": 2
}
