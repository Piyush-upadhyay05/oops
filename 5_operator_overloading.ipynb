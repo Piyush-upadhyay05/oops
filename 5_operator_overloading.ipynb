{
 "cells": [
  {
   "cell_type": "markdown",
   "metadata": {},
   "source": [
    "### operator overloading :\n",
    "\n",
    "- Operator Overloading allows us to define custom behavior for operators (+, -, *, etc.) when they are used with user-defined objects (instances of classes).\n",
    "\n",
    "- when same operator behaves differently depending on values \n",
    "\n",
    "- you can assign a new meaning to operators also and you can extend functionality of operators \n",
    "\n",
    "- you can also change the behaviour of operator using over-riding "
   ]
  },
  {
   "cell_type": "code",
   "execution_count": 4,
   "metadata": {},
   "outputs": [
    {
     "name": "stdout",
     "output_type": "stream",
     "text": [
      "helloworld\n",
      "helloworld\n",
      "helloworld\n",
      "['__abs__', '__add__', '__and__', '__bool__', '__ceil__', '__class__', '__delattr__', '__dir__', '__divmod__', '__doc__', '__eq__', '__float__', '__floor__', '__floordiv__', '__format__', '__ge__', '__getattribute__', '__getnewargs__', '__getstate__', '__gt__', '__hash__', '__index__', '__init__', '__init_subclass__', '__int__', '__invert__', '__le__', '__lshift__', '__lt__', '__mod__', '__mul__', '__ne__', '__neg__', '__new__', '__or__', '__pos__', '__pow__', '__radd__', '__rand__', '__rdivmod__', '__reduce__', '__reduce_ex__', '__repr__', '__rfloordiv__', '__rlshift__', '__rmod__', '__rmul__', '__ror__', '__round__', '__rpow__', '__rrshift__', '__rshift__', '__rsub__', '__rtruediv__', '__rxor__', '__setattr__', '__sizeof__', '__str__', '__sub__', '__subclasshook__', '__truediv__', '__trunc__', '__xor__', 'as_integer_ratio', 'bit_count', 'bit_length', 'conjugate', 'denominator', 'from_bytes', 'imag', 'is_integer', 'numerator', 'real', 'to_bytes']\n"
     ]
    }
   ],
   "source": [
    "# step 1 : check datatype of left operand \n",
    "# step 2 : go in that class\n",
    "# step 3 : call __add__() fucntion\n",
    "\n",
    "# example \n",
    "num1 = \"hello\"\n",
    "num2 = \"world\"\n",
    "print(num1 + num2)\n",
    "print(num1.__add__(num2))\n",
    "print(str.__add__(num1,num2))\n",
    "print(dir(int)) # dir is a built in function that return the all the list of  attributes , methods and special method ."
   ]
  },
  {
   "cell_type": "markdown",
   "metadata": {},
   "source": [
    "### how to achieve operator overloading in python "
   ]
  },
  {
   "cell_type": "code",
   "execution_count": null,
   "metadata": {},
   "outputs": [
    {
     "name": "stdout",
     "output_type": "stream",
     "text": [
      "total number of pages 500\n"
     ]
    }
   ],
   "source": [
    "class Book:\n",
    "    def __init__(self,title,pages):\n",
    "        self.title=title\n",
    "        self.pages=pages\n",
    "    def __add__(self,other):  # (b1,b2)\n",
    "       total =self.pages + other.pages\n",
    "       return total\n",
    "b1 = Book('one indian girl',300)\n",
    "b2 = Book('making india awesome',200)\n",
    "# print(\"total number of pages\", b1.pages+b2.pages)\n",
    "print(\"total number of pages\", b1 + b2)"
   ]
  },
  {
   "cell_type": "code",
   "execution_count": 21,
   "metadata": {},
   "outputs": [
    {
     "ename": "TypeError",
     "evalue": "unsupported operand type(s) for +: 'int' and 'Book'",
     "output_type": "error",
     "traceback": [
      "\u001b[31m---------------------------------------------------------------------------\u001b[39m",
      "\u001b[31mTypeError\u001b[39m                                 Traceback (most recent call last)",
      "\u001b[36mCell\u001b[39m\u001b[36m \u001b[39m\u001b[32mIn[21]\u001b[39m\u001b[32m, line 12\u001b[39m\n\u001b[32m     10\u001b[39m b3 = Book(\u001b[33m'\u001b[39m\u001b[33mhalf girlfriend\u001b[39m\u001b[33m'\u001b[39m,\u001b[32m400\u001b[39m)\n\u001b[32m     11\u001b[39m \u001b[38;5;66;03m# print(\"total number of pages\", b1.pages+b2.pages)\u001b[39;00m\n\u001b[32m---> \u001b[39m\u001b[32m12\u001b[39m \u001b[38;5;28mprint\u001b[39m(\u001b[33m\"\u001b[39m\u001b[33mtotal number of pages\u001b[39m\u001b[33m\"\u001b[39m, \u001b[43mb1\u001b[49m\u001b[43m \u001b[49m\u001b[43m+\u001b[49m\u001b[43m \u001b[49m\u001b[43mb2\u001b[49m\u001b[43m \u001b[49m\u001b[43m+\u001b[49m\u001b[43mb3\u001b[49m)\n\u001b[32m     14\u001b[39m \u001b[38;5;66;03m# why it is showing error ?\u001b[39;00m\n\u001b[32m     15\u001b[39m \u001b[38;5;66;03m# This happens because of how Python evaluates chained additions:\u001b[39;00m\n\u001b[32m     16\u001b[39m \u001b[38;5;66;03m# is actually evaluated like this:\u001b[39;00m\n\u001b[32m     17\u001b[39m \u001b[38;5;66;03m# (b1 + b2) + b3\u001b[39;00m\n",
      "\u001b[31mTypeError\u001b[39m: unsupported operand type(s) for +: 'int' and 'Book'"
     ]
    }
   ],
   "source": [
    "class Book:\n",
    "    def __init__(self,title,pages):\n",
    "        self.title=title\n",
    "        self.pages=pages\n",
    "    def __add__(self,other):  # (b1,b2)\n",
    "       total =self.pages + other.pages\n",
    "       return total\n",
    "b1 = Book('one indian girl',300)\n",
    "b2 = Book('making india awesome',200)\n",
    "b3 = Book('half girlfriend',400)\n",
    "# print(\"total number of pages\", b1.pages+b2.pages)\n",
    "print(\"total number of pages\", b1 + b2 +b3)\n",
    "\n",
    "# why it is showing error ?\n",
    "# This happens because of how Python evaluates chained additions:\n",
    "# is actually evaluated like this:\n",
    "# (b1 + b2) + b3\n"
   ]
  },
  {
   "cell_type": "code",
   "execution_count": 3,
   "metadata": {},
   "outputs": [
    {
     "name": "stdout",
     "output_type": "stream",
     "text": [
      "total number of pages 900\n"
     ]
    }
   ],
   "source": [
    "class Book:\n",
    "    def __init__(self,title,pages):\n",
    "        self.title=title\n",
    "        self.pages=pages\n",
    "    def __add__(self,other):  # (b1,b2)\n",
    "       total =self.pages + other.pages\n",
    "       return Book('all books',total)\n",
    "\n",
    "    def __str__(self):\n",
    "        return str(self.pages)\n",
    "b1 = Book('one indian girl',300)\n",
    "b2 = Book('making india awesome',200)\n",
    "b3 = Book('half girlfriend',400)\n",
    "print(\"total number of pages\", b1 + b2 +b3)\n",
    "\n"
   ]
  },
  {
   "cell_type": "code",
   "execution_count": 20,
   "metadata": {},
   "outputs": [
    {
     "name": "stdout",
     "output_type": "stream",
     "text": [
      "total number of pages: 900\n",
      "Combined title: one indian girl & making india awesome & half girlfriend\n"
     ]
    }
   ],
   "source": [
    "# fixed code \n",
    "class Book:\n",
    "    def __init__(self, title, pages):\n",
    "        self.title = title\n",
    "        self.pages = pages\n",
    "\n",
    "    def __add__(self, other):\n",
    "        # Combine titles and pages\n",
    "        new_title = self.title + \" & \" + other.title\n",
    "        total_pages = self.pages + other.pages\n",
    "        return Book(new_title, total_pages)\n",
    "\n",
    "    def __str__(self):\n",
    "        return f\"Title: {self.title}, Pages: {self.pages}\"\n",
    "\n",
    "b1 = Book('one indian girl', 300)\n",
    "b2 = Book('making india awesome', 200)\n",
    "b3 = Book('half girlfriend', 400)\n",
    "\n",
    "# Now it works!\n",
    "result = b1 + b2 + b3\n",
    "print(\"total number of pages:\", result.pages)\n",
    "print(\"Combined title:\", result.title)\n"
   ]
  },
  {
   "cell_type": "markdown",
   "metadata": {},
   "source": [
    "### overloading comparison operator :\n",
    "\n",
    "- Overloading comparison operators in Python allows you to define how instances of your custom classes should behave when compared using operators like ==, !=, <, >, <=, and >=.\n",
    "\n",
    "- This is done by defining special methods (also called magic methods) in your class"
   ]
  },
  {
   "cell_type": "code",
   "execution_count": 1,
   "metadata": {},
   "outputs": [
    {
     "name": "stdout",
     "output_type": "stream",
     "text": [
      "True\n"
     ]
    }
   ],
   "source": [
    "# overladung > operator \n",
    "class hotel:\n",
    "    def __init__(self,name,fare):\n",
    "        self.name=name\n",
    "        self.fare=fare\n",
    "    def __gt__(self,other): # (h1,h2)\n",
    "        return self.fare > other.fare  # h1.fare>h2.fare\n",
    "h1 = hotel('taj hotel',20000)\n",
    "h2 = hotel('panchratna',10000)\n",
    "\n",
    "print(h1>h2)\n"
   ]
  }
 ],
 "metadata": {
  "kernelspec": {
   "display_name": "Python 3",
   "language": "python",
   "name": "python3"
  },
  "language_info": {
   "codemirror_mode": {
    "name": "ipython",
    "version": 3
   },
   "file_extension": ".py",
   "mimetype": "text/x-python",
   "name": "python",
   "nbconvert_exporter": "python",
   "pygments_lexer": "ipython3",
   "version": "3.13.3"
  }
 },
 "nbformat": 4,
 "nbformat_minor": 2
}
