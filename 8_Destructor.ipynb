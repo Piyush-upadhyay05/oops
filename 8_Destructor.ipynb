{
 "cells": [
  {
   "cell_type": "markdown",
   "metadata": {},
   "source": [
    "### Destructor :\n",
    "\n",
    "- A special method which destroyes object and relaeases resources tied to the object \n",
    "\n",
    "- Destructor is automatically called when object is destroyed \n",
    "\n",
    "- releasing object tied to destroyed object \n",
    "\n",
    "- destructors are special methods used to perform clean-up actions when an object is destroyed or deleted.\n",
    "\n",
    "- destructor is defined using special method \n",
    "\n",
    "       - def __del__(self):\n",
    "- It is automatically called when an object goes out of scope or is explicitly deleted using del."
   ]
  },
  {
   "cell_type": "code",
   "execution_count": 3,
   "metadata": {},
   "outputs": [
    {
     "name": "stdout",
     "output_type": "stream",
     "text": [
      "Constructor is called\n",
      "Destructor is called\n"
     ]
    }
   ],
   "source": [
    "class MyClass:\n",
    "    def __init__(self):\n",
    "        print(\"Constructor is called\")\n",
    "\n",
    "    def __del__(self):\n",
    "        print(\"Destructor is called\")\n",
    "\n",
    "obj = MyClass()\n",
    "del obj\n"
   ]
  },
  {
   "cell_type": "code",
   "execution_count": 6,
   "metadata": {},
   "outputs": [
    {
     "name": "stdout",
     "output_type": "stream",
     "text": [
      "File opened.\n",
      "File closed automatically.\n"
     ]
    }
   ],
   "source": [
    "# example \n",
    "class FileHandler:\n",
    "    def __init__(self, filename):\n",
    "        self.file = open(filename, 'w')\n",
    "        print(\"File opened.\")\n",
    "\n",
    "    def write_data(self, data):\n",
    "        self.file.write(data)\n",
    "\n",
    "    def __del__(self):\n",
    "        self.file.close()\n",
    "        print(\"File closed automatically.\")\n",
    "\n",
    "f = FileHandler(\"sample.txt\")\n",
    "f.write_data(\"Hello, Piyush!\")\n",
    "del f  # Destructor is called, file gets closed.\n",
    "\n"
   ]
  }
 ],
 "metadata": {
  "kernelspec": {
   "display_name": "Python 3",
   "language": "python",
   "name": "python3"
  },
  "language_info": {
   "codemirror_mode": {
    "name": "ipython",
    "version": 3
   },
   "file_extension": ".py",
   "mimetype": "text/x-python",
   "name": "python",
   "nbconvert_exporter": "python",
   "pygments_lexer": "ipython3",
   "version": "3.13.3"
  }
 },
 "nbformat": 4,
 "nbformat_minor": 2
}
