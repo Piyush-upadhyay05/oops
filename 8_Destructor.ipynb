{
 "cells": [
  {
   "cell_type": "markdown",
   "metadata": {},
   "source": [
    "### Destructor :\n",
    "\n",
    "- A special method which destroyes object and relaeases resources tied to the object \n",
    "\n",
    "- Destructor is automatically called when object is destroyed \n",
    "\n",
    "- releasing object tied to destroyed object \n",
    "\n",
    "- destructors are special methods used to perform clean-up actions when an object is destroyed or deleted.\n",
    "\n",
    "- destructor is defined using special method \n",
    "\n",
    "       - def __del__(self):\n",
    "- It is automatically called when an object goes out of scope or is explicitly deleted using del."
   ]
  },
  {
   "cell_type": "code",
   "execution_count": 3,
   "metadata": {},
   "outputs": [
    {
     "name": "stdout",
     "output_type": "stream",
     "text": [
      "Constructor is called\n",
      "Destructor is called\n"
     ]
    }
   ],
   "source": [
    "class MyClass:\n",
    "    def __init__(self):\n",
    "        print(\"Constructor is called\")\n",
    "\n",
    "    def __del__(self):\n",
    "        print(\"Destructor is called\")\n",
    "\n",
    "obj = MyClass()\n",
    "del obj\n"
   ]
  },
  {
   "cell_type": "code",
   "execution_count": 6,
   "metadata": {},
   "outputs": [
    {
     "name": "stdout",
     "output_type": "stream",
     "text": [
      "File opened.\n",
      "File closed automatically.\n"
     ]
    }
   ],
   "source": [
    "# example \n",
    "class FileHandler:\n",
    "    def __init__(self, filename):\n",
    "        self.file = open(filename, 'w')\n",
    "        print(\"File opened.\")\n",
    "\n",
    "    def write_data(self, data):\n",
    "        self.file.write(data)\n",
    "\n",
    "    def __del__(self):\n",
    "        self.file.close()\n",
    "        print(\"File closed automatically.\")\n",
    "\n",
    "f = FileHandler(\"sample.txt\")\n",
    "f.write_data(\"Hello, Piyush!\")\n",
    "del f  # Destructor is called, file gets closed.\n",
    "\n"
   ]
  },
  {
   "cell_type": "markdown",
   "metadata": {},
   "source": [
    "### what is the purpose of destrucrtor \n",
    "\n",
    "- The purpose of a destructor is to define actions that should happen when an object is no longer in use—like closing files, releasing network connections, or freeing up memory."
   ]
  },
  {
   "cell_type": "markdown",
   "metadata": {},
   "source": [
    "### Here's a simple breakdown:\n",
    "\n",
    "- 1. 🧹 Purpose of Destructor:\n",
    "\n",
    "- 2. To perform clean-up operations before the object is removed from memory.\n",
    "\n",
    "- 3. To release external resources like files or sockets.\n",
    "\n",
    "- 4. To signal when an object is being garbage-collected."
   ]
  },
  {
   "cell_type": "code",
   "execution_count": 1,
   "metadata": {},
   "outputs": [],
   "source": [
    "# synrax \n",
    "class MyClass:\n",
    "    def __del__(self):\n",
    "        print(\"Destructor called, object is being deleted\")\n"
   ]
  },
  {
   "cell_type": "markdown",
   "metadata": {},
   "source": [
    "### Why is it called?\n",
    "To:\n",
    "\n",
    "- reference counting reaches to 0\n",
    "\n",
    "- when variable goes out of scope \n",
    "\n",
    "- in python the special method __del__ is used to define a destructor \n",
    "\n"
   ]
  },
  {
   "cell_type": "markdown",
   "metadata": {},
   "source": [
    "- object is created using __new__() method \n",
    "\n",
    "- object is initialized using __init__() method \n"
   ]
  },
  {
   "cell_type": "markdown",
   "metadata": {},
   "source": [
    "### working of destructor ;\n",
    "\n",
    "- 1. object is created \n",
    "  \n",
    "    - when you create an object python calls the __init__ function \n",
    "\n",
    "- 2. object goes out of scope or is deleted \n",
    "    \n",
    "    - Once there are no more references to obj, Python automatically destroys it and calls __del__  "
   ]
  },
  {
   "cell_type": "code",
   "execution_count": 2,
   "metadata": {},
   "outputs": [
    {
     "name": "stdout",
     "output_type": "stream",
     "text": [
      "Constructor called\n",
      "Destructor called\n"
     ]
    }
   ],
   "source": [
    "class Demo:\n",
    "    def __init__(self):\n",
    "        print(\"Constructor called\")\n",
    "\n",
    "    def __del__(self):\n",
    "        print(\"Destructor called\")\n",
    "\n",
    "obj = Demo()  # __init__ is called\n",
    "del obj  # manually delete the object\n",
    "\n"
   ]
  },
  {
   "cell_type": "markdown",
   "metadata": {},
   "source": [
    "- 3. behind the scenec (refrence counting)\n",
    "   \n",
    "   - Python uses a system called reference counting. An object is destroyed when its reference count becomes zero. "
   ]
  },
  {
   "cell_type": "code",
   "execution_count": 3,
   "metadata": {},
   "outputs": [
    {
     "name": "stdout",
     "output_type": "stream",
     "text": [
      "Constructor called\n",
      "Destructor called\n"
     ]
    }
   ],
   "source": [
    "# example \n",
    "a = Demo()\n",
    "b = a     # Now the object has two references\n",
    "\n",
    "del a     # One reference deleted\n",
    "del b     # Now reference count is 0 → __del__ is called\n"
   ]
  },
  {
   "cell_type": "code",
   "execution_count": 10,
   "metadata": {},
   "outputs": [
    {
     "name": "stdout",
     "output_type": "stream",
     "text": [
      "destructor is called\n"
     ]
    }
   ],
   "source": [
    "# example of destructor \n",
    "import time\n",
    "class employee:\n",
    "    def __init__(self, nm,sal):\n",
    "        self.name = nm\n",
    "        self.salary=sal\n",
    "\n",
    "    def display(self):\n",
    "        print(f\"name is {self.name}\\nand the salary is {self.salary}\")\n",
    "\n",
    "    def __del__(self):\n",
    "        print(\"destructor is called\")\n",
    "e1 = employee(\"piyush\",50000)\n",
    "e2=e1\n",
    "\n",
    "del e1\n",
    "\n",
    "time.sleep(5) # this is used to increase the time of code to run this 5 means the code is run afte the 5 second \n"
   ]
  },
  {
   "cell_type": "markdown",
   "metadata": {},
   "source": [
    "### Disadvanages of desstructor :\n",
    "\n",
    "- 1. circular refrenncing :\n",
    "   - If two or more objects reference each other (a circular reference), Python’s garbage collector may not immediately delete them.\n",
    "   \n",
    "   -  As a result, __del__() might never be called.\n",
    "\n"
   ]
  },
  {
   "cell_type": "code",
   "execution_count": 17,
   "metadata": {},
   "outputs": [],
   "source": [
    "import time\n",
    "\n",
    "class Employee:\n",
    "    def __init__(self, obj2):\n",
    "        self.obj2 = obj2\n",
    "\n",
    "    def __del__(self):\n",
    "        print(\"Employee class destructor called\")\n",
    "\n",
    "class Account:\n",
    "    def __init__(self, num):\n",
    "        self.account_number = num\n",
    "        self.obj1 = Employee(self)\n",
    "\n",
    "    def __del__(self):\n",
    "        print(\"Account class destructor called\")\n",
    "\n",
    "# Object creation and deletion should be outside class\n",
    "ac = Account(1234)\n",
    "del ac\n",
    "\n",
    "time.sleep(5)  # Wait to ensure destructor messages are shown\n"
   ]
  },
  {
   "cell_type": "markdown",
   "metadata": {},
   "source": [
    "- 2. exception occurs in __init__()\n",
    "\n",
    "  - destructor called \n",
    "  - object is not initialized and destructor is clearing resources \n",
    "  - it may lead to another exception"
   ]
  },
  {
   "cell_type": "code",
   "execution_count": 19,
   "metadata": {},
   "outputs": [
    {
     "ename": "neagtiveage",
     "evalue": "age cannot be negative",
     "output_type": "error",
     "traceback": [
      "\u001b[31m---------------------------------------------------------------------------\u001b[39m",
      "\u001b[31mneagtiveage\u001b[39m                               Traceback (most recent call last)",
      "\u001b[36mCell\u001b[39m\u001b[36m \u001b[39m\u001b[32mIn[19]\u001b[39m\u001b[32m, line 10\u001b[39m\n\u001b[32m      8\u001b[39m     \u001b[38;5;28;01mdef\u001b[39;00m\u001b[38;5;250m \u001b[39m\u001b[34m__del__\u001b[39m(\u001b[38;5;28mself\u001b[39m):\n\u001b[32m      9\u001b[39m         \u001b[38;5;28mprint\u001b[39m(\u001b[33m\"\u001b[39m\u001b[33mdestructor is called\u001b[39m\u001b[33m\"\u001b[39m)\n\u001b[32m---> \u001b[39m\u001b[32m10\u001b[39m ag = \u001b[43mage\u001b[49m\u001b[43m(\u001b[49m\u001b[43m-\u001b[49m\u001b[32;43m10\u001b[39;49m\u001b[43m)\u001b[49m\n",
      "\u001b[36mCell\u001b[39m\u001b[36m \u001b[39m\u001b[32mIn[19]\u001b[39m\u001b[32m, line 7\u001b[39m, in \u001b[36mage.__init__\u001b[39m\u001b[34m(self, age)\u001b[39m\n\u001b[32m      5\u001b[39m \u001b[38;5;28;01mdef\u001b[39;00m\u001b[38;5;250m \u001b[39m\u001b[34m__init__\u001b[39m(\u001b[38;5;28mself\u001b[39m,age):\n\u001b[32m      6\u001b[39m     \u001b[38;5;28;01mif\u001b[39;00m age<\u001b[32m0\u001b[39m:\n\u001b[32m----> \u001b[39m\u001b[32m7\u001b[39m         \u001b[38;5;28;01mraise\u001b[39;00m neagtiveage(\u001b[33m\"\u001b[39m\u001b[33mage cannot be negative\u001b[39m\u001b[33m\"\u001b[39m)\n",
      "\u001b[31mneagtiveage\u001b[39m: age cannot be negative"
     ]
    }
   ],
   "source": [
    "class neagtiveage(Exception):\n",
    "    pass\n",
    "\n",
    "class age:\n",
    "    def __init__(self,age):\n",
    "        if age<0:\n",
    "            raise neagtiveage(\"age cannot be negative\")\n",
    "    def __del__(self):\n",
    "        print(\"destructor is called\")\n",
    "ag = age(-10)"
   ]
  }
 ],
 "metadata": {
  "kernelspec": {
   "display_name": "Python 3",
   "language": "python",
   "name": "python3"
  },
  "language_info": {
   "codemirror_mode": {
    "name": "ipython",
    "version": 3
   },
   "file_extension": ".py",
   "mimetype": "text/x-python",
   "name": "python",
   "nbconvert_exporter": "python",
   "pygments_lexer": "ipython3",
   "version": "3.13.3"
  }
 },
 "nbformat": 4,
 "nbformat_minor": 2
}
