{
 "cells": [
  {
   "cell_type": "markdown",
   "metadata": {},
   "source": [
    "### Top 21 magic metthod \n"
   ]
  },
  {
   "cell_type": "markdown",
   "metadata": {},
   "source": [
    "## what is magic  method \n",
    "\n",
    "- In Python, magic methods are special built-in methods that:\n",
    "\n",
    "   - Start and end with double underscores (e.g. \\_\\_init\\_\\_, \\_\\_str\\_\\_)\n",
    "\n",
    "   - Are automatically called by Python when you perform certain operations\n",
    "\n",
    "   - Allow you to define how your objects behave with operators, functions, etc.\n",
    "\n",
    "   - naming convention - \\_\\_methodname\\_\\_ (this underscore called dunder)\n",
    "   \n",
    "   - we dont need to call magic method explicitely . python automatically called magic method as a response to certain operations such as instantiation  "
   ]
  },
  {
   "cell_type": "markdown",
   "metadata": {},
   "source": [
    "Example :"
   ]
  },
  {
   "cell_type": "code",
   "execution_count": null,
   "metadata": {},
   "outputs": [
    {
     "name": "stdout",
     "output_type": "stream",
     "text": [
      "30\n",
      "30\n"
     ]
    }
   ],
   "source": [
    "print(10 + 20 )\n",
    "\n",
    "print((10).__add__(20)) # this magic operator is run behind when we use the + operator \n",
    "# no need to call explicitely "
   ]
  },
  {
   "cell_type": "code",
   "execution_count": null,
   "metadata": {},
   "outputs": [
    {
     "name": "stdout",
     "output_type": "stream",
     "text": [
      "init is running \n"
     ]
    }
   ],
   "source": [
    "class bank:\n",
    "    def __init__(self,balance,adhar_no,acc_no,name):\n",
    "        print(\"init is running \")\n",
    "        self.balance = balance\n",
    "        self.adhar_number = adhar_no\n",
    "        self.account_number = acc_no\n",
    "        self.name = name\n",
    "\n",
    "b1 = bank(10000 , '5906 0106 1314' , 'IBH7790' , \"piyush upadhyay\")\n",
    "\n",
    "# Creates a blank object b1\n",
    "\n",
    "# Automatically calls __init__ with the arguments\n",
    "\n",
    "# Initializes the object's attributes\n",
    "\n",
    " # Prints:\n",
    " # output\n",
    "\n",
    " # instantiation"
   ]
  },
  {
   "cell_type": "markdown",
   "metadata": {},
   "source": [
    "#### top 21 magic method \n",
    "\n",
    "1. \\_\\_init\\_\\_()\n",
    "2. \\_\\_new\\_\\_()\n",
    "3. \\_\\_repr\\_\\_()\n",
    "4. \\_\\_len\\_\\_()\n",
    "5. \\_\\_call\\_\\_()\n",
    "6. \\_\\_getitem\\_\\_()\n",
    "7. \\_\\_setitem\\_\\_()\n",
    "8. \\_\\_delitem\\_\\_()\n",
    "9. \\_\\_contains\\_\\_()\n",
    "10. \\_\\_iter\\_\\_()\n",
    "11. \\_\\_add\\_\\_()\n",
    "12. \\_\\_eq\\_\\_()\n",
    "13. \\_\\_gt\\_\\_()\n",
    "14. \\_\\_module\\_\\_()\n",
    "15. \\_\\_bases\\_\\_()\n",
    "16. \\_\\_all\\_\\_()\n",
    "17. \\_\\_default\\_\\_()\n",
    "18. \\_\\_name\\_\\_()\n",
    "19. \\_\\_doc\\_\\_()\n",
    "20. \\_\\_dict\\_\\_()\n",
    "21. \\_\\_str\\_\\_()"
   ]
  },
  {
   "cell_type": "markdown",
   "metadata": {},
   "source": [
    "## 1. \\_\\_init\\_\\_()\n",
    "\n",
    "- The __init__() method is called automatically when a new object is created from a class. It's used to initialize the attributes of the new object."
   ]
  },
  {
   "cell_type": "code",
   "execution_count": 1,
   "metadata": {},
   "outputs": [
    {
     "name": "stdout",
     "output_type": "stream",
     "text": [
      "init is running \n"
     ]
    }
   ],
   "source": [
    "class bank:\n",
    "    def __init__(self,balance,adhar_no,acc_no,name):\n",
    "        print(\"init is running \")\n",
    "        self.balance = balance\n",
    "        self.adhar_number = adhar_no\n",
    "        self.account_number = acc_no\n",
    "        self.name = name\n",
    "\n",
    "b1 = bank(10000 , '5906 0106 1314' , 'IBH7790' , \"piyush upadhyay\")\n",
    "\n",
    "# Creates a blank object b1\n",
    "\n",
    "# Automatically calls __init__ with the arguments\n",
    "\n",
    "# Initializes the object's attributes\n",
    "\n",
    " # Prints:\n",
    " # output\n",
    "\n",
    " # instantiation"
   ]
  },
  {
   "cell_type": "markdown",
   "metadata": {},
   "source": [
    "## 2. \\_\\_new\\_\\_() \n",
    "\n",
    "- __new__() is a static method responsible for creating and returning a new instance of a class. It’s mostly used when:\n",
    "\n",
    "    - You are subclassing immutable types like int, str, or tuple.\n",
    "\n",
    "    - You want to control the instantiation process (e.g., in a singleton pattern)"
   ]
  },
  {
   "cell_type": "markdown",
   "metadata": {},
   "source": [
    "## 🔄 Comparison: `__init__()` vs `__new__()`\n",
    "\n",
    "| **Feature**         | `__new__()`                                              | `__init__()`                                    |\n",
    "|---------------------|----------------------------------------------------------|-------------------------------------------------|\n",
    "| **Purpose**         | Creates and returns a new instance of a class            | Initializes the instance after it’s created     |\n",
    "| **Called when**     | Before the object is created                             | Immediately after the object is created         |\n",
    "| **Return value**    | Must return a new instance of the class (or subclass)    | Returns nothing (`None`)                        |\n",
    "| **Common use case** | Singleton pattern, immutable objects (`int`, `str`, etc.)| Normal object attribute initialization          |\n",
    "| **Used in**         | Very rarely (advanced use cases)                         | Very common                                     |\n"
   ]
  },
  {
   "cell_type": "markdown",
   "metadata": {},
   "source": []
  }
 ],
 "metadata": {
  "kernelspec": {
   "display_name": "Python 3",
   "language": "python",
   "name": "python3"
  },
  "language_info": {
   "codemirror_mode": {
    "name": "ipython",
    "version": 3
   },
   "file_extension": ".py",
   "mimetype": "text/x-python",
   "name": "python",
   "nbconvert_exporter": "python",
   "pygments_lexer": "ipython3",
   "version": "3.13.3"
  }
 },
 "nbformat": 4,
 "nbformat_minor": 2
}
