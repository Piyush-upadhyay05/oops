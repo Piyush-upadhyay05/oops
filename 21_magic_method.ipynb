{
 "cells": [
  {
   "cell_type": "markdown",
   "metadata": {},
   "source": [
    "### Top 21 magic metthod \n"
   ]
  },
  {
   "cell_type": "markdown",
   "metadata": {},
   "source": [
    "## what is magic  method \n",
    "\n",
    "- In Python, magic methods are special built-in methods that:\n",
    "\n",
    "   - Start and end with double underscores (e.g. \\_\\_init\\_\\_, \\_\\_str\\_\\_)\n",
    "\n",
    "   - Are automatically called by Python when you perform certain operations\n",
    "\n",
    "   - Allow you to define how your objects behave with operators, functions, etc.\n",
    "\n",
    "   - naming convention - \\_\\_methodname\\_\\_ (this underscore called dunder)\n",
    "   \n",
    "   - we dont need to call magic method explicitely . python automatically called magic method as a response to certain operations such as instantiation  "
   ]
  },
  {
   "cell_type": "markdown",
   "metadata": {},
   "source": [
    "Example :"
   ]
  },
  {
   "cell_type": "code",
   "execution_count": null,
   "metadata": {},
   "outputs": [
    {
     "name": "stdout",
     "output_type": "stream",
     "text": [
      "30\n",
      "30\n"
     ]
    }
   ],
   "source": [
    "print(10 + 20 )\n",
    "\n",
    "print((10).__add__(20)) # this magic operator is run behind when we use the + operator \n",
    "# no need to call explicitely "
   ]
  },
  {
   "cell_type": "code",
   "execution_count": null,
   "metadata": {},
   "outputs": [
    {
     "name": "stdout",
     "output_type": "stream",
     "text": [
      "init is running \n"
     ]
    }
   ],
   "source": [
    "class bank:\n",
    "    def __init__(self,balance,adhar_no,acc_no,name):\n",
    "        print(\"init is running \")\n",
    "        self.balance = balance\n",
    "        self.adhar_number = adhar_no\n",
    "        self.account_number = acc_no\n",
    "        self.name = name\n",
    "\n",
    "b1 = bank(10000 , '5906 0106 1314' , 'IBH7790' , \"piyush upadhyay\")\n",
    "\n",
    "# Creates a blank object b1\n",
    "\n",
    "# Automatically calls __init__ with the arguments\n",
    "\n",
    "# Initializes the object's attributes\n",
    "\n",
    " # Prints:\n",
    " # output\n",
    "\n",
    " # instantiation"
   ]
  },
  {
   "cell_type": "markdown",
   "metadata": {},
   "source": [
    "#### top 21 magic method \n",
    "\n",
    "1. \\_\\_init\\_\\_()\n",
    "2. \\_\\_new\\_\\_()\n",
    "3. \\_\\_repr\\_\\_()\n",
    "4. \\_\\_len\\_\\_()\n",
    "5. \\_\\_call\\_\\_()\n",
    "6. \\_\\_getitem\\_\\_()\n",
    "7. \\_\\_setitem\\_\\_()\n",
    "8. \\_\\_delitem\\_\\_()\n",
    "9. \\_\\_contains\\_\\_()\n",
    "10. \\_\\_iter\\_\\_()\n",
    "11. \\_\\_add\\_\\_()\n",
    "12. \\_\\_eq\\_\\_()\n",
    "13. \\_\\_gt\\_\\_()\n",
    "14. \\_\\_module\\_\\_()\n",
    "15. \\_\\_bases\\_\\_()\n",
    "16. \\_\\_all\\_\\_()\n",
    "17. \\_\\_default\\_\\_()\n",
    "18. \\_\\_name\\_\\_()\n",
    "19. \\_\\_doc\\_\\_()\n",
    "20. \\_\\_dict\\_\\_()\n",
    "21. \\_\\_str\\_\\_()"
   ]
  },
  {
   "cell_type": "markdown",
   "metadata": {},
   "source": [
    "## 1. \\_\\_init\\_\\_()\n",
    "\n",
    "- The __init__() method is called automatically when a new object is created from a class. It's used to initialize the attributes of the new object."
   ]
  },
  {
   "cell_type": "code",
   "execution_count": null,
   "metadata": {},
   "outputs": [
    {
     "name": "stdout",
     "output_type": "stream",
     "text": [
      "init is running \n",
      "bank balance is 10000\n",
      "updated bank balance is  11000\n"
     ]
    }
   ],
   "source": [
    "class bank:\n",
    "    def __init__(self,balance,adhar_no,acc_no,name):\n",
    "        print(\"init is running \")\n",
    "        self.bank_balance = balance\n",
    "        self.adhar_number = adhar_no\n",
    "        self.account_number = acc_no\n",
    "        self.name = name\n",
    "\n",
    "b1 = bank(10000 , '5906 0106 1314' , 'IBH7790' , \"piyush upadhyay\")\n",
    "print(\"bank balance is\",b1.bank_balance)\n",
    "b1.bank_balance = b1.bank_balance + 1000\n",
    "print(\"updated bank balance is \" , b1.bank_balance)\n",
    "\n",
    "# Creates a blank object b1\n",
    "\n",
    "# Automatically calls __init__ with the arguments\n",
    "\n",
    "# Initializes the object's attributes\n",
    "\n",
    " # Prints:\n",
    " # output\n",
    "\n",
    " # instantiation"
   ]
  },
  {
   "cell_type": "markdown",
   "metadata": {},
   "source": [
    "## 2. \\_\\_new\\_\\_() \n",
    "\n",
    "- __new__() is a static method responsible for creating and returning a new instance of a class. It’s mostly used when:\n",
    "\n",
    "    - You are subclassing immutable types like int, str, or tuple.\n",
    "\n",
    "    - You want to control the instantiation process (e.g., in a singleton pattern)"
   ]
  },
  {
   "cell_type": "markdown",
   "metadata": {},
   "source": [
    "- python calls the \\_\\_new\\_\\_() method as the first instantiation process.\n",
    "\n",
    "- first `__new()__` method  allocate the memory for object and then create the memory in object and then `__init` method  is called "
   ]
  },
  {
   "cell_type": "code",
   "execution_count": null,
   "metadata": {},
   "outputs": [],
   "source": [
    "class bank:\n",
    "    bank_name = \"BOI\"\n",
    "    def __init__(self,balance,adhar_no,acc_no,name):\n",
    "        print(\"init is running \")\n",
    "        self.bank_balance = balance\n",
    "        self.adhar_number = adhar_no\n",
    "        self.account_number = acc_no\n",
    "        self.name = name\n",
    "    def display(self):\n",
    "        pass\n",
    "\n",
    "b1 = bank(10000 , '5906 0106 1314' , 'IBH7790' , \"piyush upadhyay\")\n",
    "\n",
    "# __new__() --> __init__() this is the step "
   ]
  },
  {
   "cell_type": "markdown",
   "metadata": {},
   "source": [
    "## 🔄 Comparison: `__init__()` vs `__new__()`\n",
    "\n",
    "| **Feature**         | `__new__()`                                              | `__init__()`                                    |\n",
    "|---------------------|----------------------------------------------------------|-------------------------------------------------|\n",
    "| **Purpose**         | Creates and returns a new instance of a class            | Initializes the instance after it’s created     |\n",
    "| **Called when**     | Before the object is created                             | Immediately after the object is created         |\n",
    "| **Return value**    | Must return a new instance of the class (or subclass)    | Returns nothing (`None`)                        |\n",
    "| **Common use case** | Singleton pattern, immutable objects (`int`, `str`, etc.)| Normal object attribute initialization          |\n",
    "| **Used in**         | Very rarely (advanced use cases)                         | Very common                                     |\n"
   ]
  },
  {
   "cell_type": "markdown",
   "metadata": {},
   "source": [
    "## 3. \\_\\_dict\\_\\_()\n",
    "\n",
    "- The __dict__ magic method in Python is not really a method — it's an attribute that stores a dictionary representing the namespace of an object. It contains all the writable attributes (i.e., variables) of that object.\n",
    "\n",
    "- It shows the internal dictionary where an object’s (usually an instance’s) attributes are stored.\n",
    "\n",
    "- It is automatically created and managed by Python for most user-defined objects.\n",
    "\n",
    "- it gives the dicionary containing instance variable and their value if you call it with object "
   ]
  },
  {
   "cell_type": "code",
   "execution_count": null,
   "metadata": {},
   "outputs": [
    {
     "name": "stdout",
     "output_type": "stream",
     "text": [
      "init is running \n",
      "{'bank_balance': 10000, 'adhar_number': '5906 0106 1314', 'account_number': 'IBH7790', 'name': 'piyush upadhyay'}\n",
      "{'__module__': '__main__', '__firstlineno__': 1, 'bank_name': 'BOI', '__init__': <function bank.__init__ at 0x7fcb3a9e07c0>, 'display': <function bank.display at 0x7fcb3a9e0680>, '__static_attributes__': ('account_number', 'adhar_number', 'bank_balance', 'name'), '__dict__': <attribute '__dict__' of 'bank' objects>, '__weakref__': <attribute '__weakref__' of 'bank' objects>, '__doc__': None}\n"
     ]
    }
   ],
   "source": [
    "class bank:\n",
    "    bank_name = \"BOI\"\n",
    "    def __init__(self,balance,adhar_no,acc_no,name):\n",
    "        print(\"init is running \")\n",
    "        self.bank_balance = balance\n",
    "        self.adhar_number = adhar_no\n",
    "        self.account_number = acc_no\n",
    "        self.name = name\n",
    "    def display(self):\n",
    "        pass\n",
    "\n",
    "b1 = bank(10000 , '5906 0106 1314' , 'IBH7790' , \"piyush upadhyay\")\n",
    "\n",
    "\n",
    "print(b1.__dict__)\n",
    "\n",
    "# accessing dict in class \n",
    "\n",
    "print(bank.__dict__)\n",
    "\n",
    "# __dict__ return the namespace of object/class"
   ]
  },
  {
   "cell_type": "markdown",
   "metadata": {},
   "source": [
    "## 4. `__str__()` method\n",
    "\n",
    "- in python , the `__str__()` method is a special nethod used to define the string representation of an object \n",
    "\n"
   ]
  },
  {
   "cell_type": "code",
   "execution_count": null,
   "metadata": {},
   "outputs": [
    {
     "name": "stdout",
     "output_type": "stream",
     "text": [
      "init is running \n",
      "10000\n"
     ]
    }
   ],
   "source": [
    "class bank:\n",
    "    bank_name = \"BOI\"\n",
    "    def __init__(self,balance,adhar_no,acc_no,name):\n",
    "        print(\"init is running \")\n",
    "        self.bank_balance = balance\n",
    "        self.adhar_number = adhar_no\n",
    "        self.account_number = acc_no\n",
    "        self.name = name\n",
    "    def __str__(self):\n",
    "        # return \"this is the object of a bank class\"\n",
    "        # return self.name\n",
    "        # str method only return the string value if you call the str to return integer value it shows an error \n",
    "        # if you want to return the integer value you convert into string \n",
    "        return str(self.bank_balance)\n",
    "\n",
    "\n",
    "b1 = bank(10000 , '5906 0106 1314' , 'IBH7790' , \"Piyush upadhyay\")\n",
    "print(b1) # if you call print(b1) then in python internally called b1.__str__() this is how the __Str__() magic mehtod works \n"
   ]
  },
  {
   "cell_type": "markdown",
   "metadata": {},
   "source": [
    "## 5. `__repr__` method \n",
    "\n",
    "- `__repr__`() is a special method (a \"magic\" or \"dunder\" method) in Python that returns a string representation of an object.\n",
    "\n",
    "- its main goal is to give a clear, unambiguous representation of the object, ideally one that could be used to recreate the object if passed to eval()."
   ]
  },
  {
   "cell_type": "markdown",
   "metadata": {},
   "source": [
    "### purpose\n",
    "\n",
    "- It's meant for developers (not end users).\n",
    "\n",
    "- It helps in debugging, logging, and introspection.\n",
    "\n",
    "- It should return a string that is ideally a valid Python expression."
   ]
  },
  {
   "cell_type": "markdown",
   "metadata": {},
   "source": [
    "- example without `__repr__()`"
   ]
  },
  {
   "cell_type": "code",
   "execution_count": null,
   "metadata": {},
   "outputs": [
    {
     "name": "stdout",
     "output_type": "stream",
     "text": [
      "<__main__.Student object at 0x7fcb3a9a1be0>\n"
     ]
    }
   ],
   "source": [
    "\n",
    "\n",
    "class Student:\n",
    "    def __init__(self, name, age):\n",
    "        self.name = name\n",
    "        self.age = age\n",
    "\n",
    "s1 = Student(\"Piyush\", 21)\n",
    "print(s1)\n",
    "\n",
    "# output is not usefull\n"
   ]
  },
  {
   "cell_type": "markdown",
   "metadata": {},
   "source": [
    "-  example with `__repr__()`"
   ]
  },
  {
   "cell_type": "code",
   "execution_count": 14,
   "metadata": {},
   "outputs": [
    {
     "name": "stdout",
     "output_type": "stream",
     "text": [
      "Student(name='Piyush', age=21)\n"
     ]
    }
   ],
   "source": [
    "class Student:\n",
    "    def __init__(self, name, age):\n",
    "        self.name = name\n",
    "        self.age = age\n",
    "\n",
    "    def __repr__(self):\n",
    "        return f\"Student(name='{self.name}', age={self.age})\"\n",
    "\n",
    "s1 = Student(\"Piyush\", 21)\n",
    "print(s1)\n"
   ]
  },
  {
   "cell_type": "markdown",
   "metadata": {},
   "source": [
    "## 🔁 Difference Between `__repr__()` and `__str__()`\n",
    "\n",
    "| Feature   | `__repr__()`                        | `__str__()`                         |\n",
    "|-----------|-------------------------------------|-------------------------------------|\n",
    "| **Goal**  | Precise, developer-friendly         | Readable, user-friendly             |\n",
    "| **Used by** | `repr(obj)`, shell, containers     | `print(obj)`, `str(obj)`            |\n",
    "| **Fallback** | Used if `__str__()` not defined  | Never used as fallback for `__repr__()` |\n"
   ]
  },
  {
   "cell_type": "markdown",
   "metadata": {},
   "source": [
    "- Advance example"
   ]
  },
  {
   "cell_type": "code",
   "execution_count": 15,
   "metadata": {},
   "outputs": [
    {
     "name": "stdout",
     "output_type": "stream",
     "text": [
      "Book('Python 101', 'Piyush')\n",
      "Book('Python 101', 'Piyush')\n"
     ]
    }
   ],
   "source": [
    "class Book:\n",
    "    def __init__(self, title, author):\n",
    "        self.title = title\n",
    "        self.author = author\n",
    "\n",
    "    def __repr__(self):\n",
    "        return f\"Book('{self.title}', '{self.author}')\"\n",
    "\n",
    "b1 = Book(\"Python 101\", \"Piyush\")\n",
    "print(b1)            # Uses __repr__\n",
    "print(repr(b1))      # Explicit call\n"
   ]
  },
  {
   "cell_type": "markdown",
   "metadata": {},
   "source": [
    "### If you use both str and repr methods in a code example, which one will have higher priority?\"\n",
    "\n",
    "\n",
    "- Python uses `__str__()` first when:\n",
    "\n",
    "  - You explicitly call print(obj)\n",
    "\n",
    "  - You call str(obj)\n",
    "\n",
    "  - `__str__()`is preferred for user-facing display.\n",
    "\n",
    "- Python uses __repr__() when:\n",
    "  \n",
    "  - You call repr(obj)\n",
    "\n",
    "  - You inspect the object in the Python shell\n",
    "\n",
    "  - You print objects inside a container (like a list or dict)\n",
    "\n",
    "   - `__str__()` is not defined → then `__repr__()` is used as a fallback\n",
    "\n",
    "\n",
    "\n"
   ]
  },
  {
   "cell_type": "code",
   "execution_count": null,
   "metadata": {},
   "outputs": [
    {
     "name": "stdout",
     "output_type": "stream",
     "text": [
      "My name is Piyush\n",
      "Person('Piyush')\n",
      "My name is Piyush\n"
     ]
    }
   ],
   "source": [
    "class Person:\n",
    "    def __init__(self, name):\n",
    "        self.name = name\n",
    "\n",
    "    def __str__(self):\n",
    "        return f\"My name is {self.name}\"\n",
    "\n",
    "    def __repr__(self):\n",
    "        return f\"Person('{self.name}')\"\n",
    "\n",
    "p = Person(\"Piyush\")\n",
    "\n",
    "print(str(p))    # 👈 Calls __str__()\n",
    "print(repr(p))   # 👈 Calls __repr__()\n",
    "print(p)         # 👈 Also calls __str__() if it exists\n",
    "\n",
    "# str is higher priority thsn repr"
   ]
  },
  {
   "cell_type": "code",
   "execution_count": null,
   "metadata": {},
   "outputs": [
    {
     "name": "stdout",
     "output_type": "stream",
     "text": [
      "Person('Piyush')\n",
      "My name is Piyush\n",
      "Person('Piyush')\n"
     ]
    }
   ],
   "source": [
    "class Person:\n",
    "    def __init__(self, name):\n",
    "        self.name = name\n",
    "\n",
    "    def __repr__(self):\n",
    "        return f\"My name is {self.name}\"\n",
    "\n",
    "    def __str__(self):\n",
    "        return f\"Person('{self.name}')\"\n",
    "\n",
    "p = Person(\"Piyush\")\n",
    "\n",
    "print(str(p))    # 👈 Calls __str__()\n",
    "print(repr(p))   # 👈 Calls __repr__()\n",
    "print(p)     \n",
    "\n",
    "# again the same output because the str is higher priority than repr "
   ]
  },
  {
   "cell_type": "markdown",
   "metadata": {},
   "source": [
    "## `__len__()` method \n",
    "\n",
    "- the `__len__()` method is special method used to define the length of the object \n",
    "- len function always return integer "
   ]
  },
  {
   "cell_type": "code",
   "execution_count": 28,
   "metadata": {},
   "outputs": [
    {
     "name": "stdout",
     "output_type": "stream",
     "text": [
      "init is running \n",
      "200\n",
      "5\n",
      "5\n"
     ]
    }
   ],
   "source": [
    "class bank:\n",
    "    bank_name = \"BOI\"\n",
    "    def __init__(self,balance,adhar_no,acc_no,name):\n",
    "        print(\"init is running \")\n",
    "        self.bank_balance = balance\n",
    "        self.adhar_number = adhar_no\n",
    "        self.account_number = acc_no\n",
    "        self.name = name\n",
    "    def __len__(self):\n",
    "        return 200\n",
    "\n",
    "\n",
    "b1 = bank(10000 , '5906 0106 1314' , 'IBH7790' , \"Piyush upadhyay\")\n",
    "print(len(b1)) # b1.__len__() in b1 object . means search the len fucntion into the class \n",
    "\n",
    "\n",
    "data = [10,12,13,14,16]\n",
    "print(len(data))\n",
    "print(data.__len__())"
   ]
  },
  {
   "cell_type": "code",
   "execution_count": null,
   "metadata": {},
   "outputs": [
    {
     "name": "stdout",
     "output_type": "stream",
     "text": [
      "init is running \n",
      "4\n",
      "{'bank_balance': 10000, 'adhar_number': '5906 0106 1314', 'account_number': 'IBH7790', 'name': 'Piyush upadhyay'}\n",
      "{'bank_balance': 10000, 'adhar_number': '5906 0106 1314', 'name': 'Piyush upadhyay'}\n",
      "3\n"
     ]
    }
   ],
   "source": [
    "# to print the len of instance variable \n",
    "\n",
    "class bank:\n",
    "    bank_name = \"BOI\"\n",
    "    def __init__(self,balance,adhar_no,acc_no,name):\n",
    "        print(\"init is running \")\n",
    "        self.bank_balance = balance\n",
    "        self.adhar_number = adhar_no\n",
    "        self.account_number = acc_no\n",
    "        self.name = name\n",
    "    def __len__(self):\n",
    "        return len(self.__dict__)\n",
    "\n",
    "\n",
    "b1 = bank(10000 , '5906 0106 1314' , 'IBH7790' , \"Piyush upadhyay\")\n",
    "print(len(b1)) # b1.__len__() in b1 object . means search the len fucntion into the class \n",
    "print(b1.__dict__)\n",
    "\n",
    "del b1.account_number\n",
    "print(b1.__dict__)\n",
    "print(len(b1))"
   ]
  },
  {
   "cell_type": "markdown",
   "metadata": {},
   "source": [
    "## 6. `__getitem__` method \n",
    "\n",
    "- getitem method is a special method that enables the instance of a class to be accessed using the indexing syntax"
   ]
  },
  {
   "cell_type": "code",
   "execution_count": null,
   "metadata": {},
   "outputs": [
    {
     "name": "stdout",
     "output_type": "stream",
     "text": [
      "30\n",
      "init is running \n",
      "5906 0106 1314\n",
      "IBH7790\n",
      "Piyush upadhyay\n",
      "5906 0106 1314\n"
     ]
    }
   ],
   "source": [
    "class bank:\n",
    "    bank_name = \"BOI\"\n",
    "    def __init__(self,balance,adhar_no,acc_no,name):\n",
    "        print(\"init is running \")\n",
    "        self.bank_balance = balance\n",
    "        self.adhar_number = adhar_no\n",
    "        self.account_number = acc_no\n",
    "        self.name = name\n",
    "    def __getitem__(self,key):\n",
    "        return self.__dict__[key]\n",
    "\n",
    "data = [10,20,30]\n",
    "print(data[2]) # data,__getitem__(data))\n",
    "\n",
    "b1 = bank(10000 , '5906 0106 1314' , 'IBH7790' , \"Piyush upadhyay\")\n",
    "print(b1['adhar_number']) # b1.__getitem__(adhar_number)\n",
    "print(b1['account_number'])\n",
    "print(b1['name'])\n",
    "\n",
    "print(b1.__dict__['adhar_number']) # same thing working on the getitem method in class "
   ]
  },
  {
   "cell_type": "markdown",
   "metadata": {},
   "source": [
    "## 7. `__Setitem__` magic method \n",
    "\n",
    "- special method that enables the instance of a class to support assignment using the index syntax ([])"
   ]
  },
  {
   "cell_type": "code",
   "execution_count": 52,
   "metadata": {},
   "outputs": [
    {
     "name": "stdout",
     "output_type": "stream",
     "text": [
      "init is running \n",
      "{'bank_balance': 10000, 'adhar_number': '5906 0106 1314', 'account_number': 'IBH7790', 'name': 'Piyush upadhyay'}\n",
      "{'bank_balance': 21000, 'adhar_number': '5906 0106 1314', 'account_number': 'IBH7790', 'name': 'Piyush upadhyay'}\n"
     ]
    }
   ],
   "source": [
    "class bank:\n",
    "    bank_name = \"BOI\"\n",
    "    def __init__(self,balance,adhar_no,acc_no,name):\n",
    "        print(\"init is running \")\n",
    "        self.bank_balance = balance\n",
    "        self.adhar_number = adhar_no\n",
    "        self.account_number = acc_no\n",
    "        self.name = name\n",
    "    def __getitem__(self,instance_variable):\n",
    "        return self.__dict__[instance_variable]\n",
    "\n",
    "    def __setitem__(self,instance_variable,new_value):\n",
    "        b1.__dict__[instance_variable] = new_value\n",
    "\n",
    "b1 = bank(10000 , '5906 0106 1314' , 'IBH7790' , \"Piyush upadhyay\")\n",
    "print(b1.__dict__)\n",
    "       \n",
    "b1['bank_balance'] = b1['bank_balance'] + 11000 # bb1.__setitem__(self,instance_variable,new_value)\n",
    "\n",
    "print(b1.__dict__)"
   ]
  },
  {
   "cell_type": "markdown",
   "metadata": {},
   "source": [
    "## 8. `__delitem__()` method \n",
    "\n",
    "- "
   ]
  },
  {
   "cell_type": "code",
   "execution_count": 56,
   "metadata": {},
   "outputs": [
    {
     "name": "stdout",
     "output_type": "stream",
     "text": [
      "init is running \n",
      "{'bank_balance': 10000, 'adhar_number': '5906 0106 1314', 'account_number': 'IBH7790', 'name': 'Piyush upadhyay'}\n",
      "{'bank_balance': 10000, 'account_number': 'IBH7790', 'name': 'Piyush upadhyay'}\n"
     ]
    }
   ],
   "source": [
    "class bank:\n",
    "    bank_name = \"BOI\"\n",
    "    def __init__(self,balance,adhar_no,acc_no,name):\n",
    "        print(\"init is running \")\n",
    "        self.bank_balance = balance\n",
    "        self.adhar_number = adhar_no\n",
    "        self.account_number = acc_no\n",
    "        self.name = name\n",
    "    def __delitem__(self,instance_variable):\n",
    "        del self.__dict__[instance_variable]\n",
    "\n",
    "b1 = bank(10000 , '5906 0106 1314' , 'IBH7790' , \"Piyush upadhyay\")\n",
    "\n",
    "# del b1.adhar_number\n",
    "print(b1.__dict__)\n",
    "\n",
    "# consider you have to delete using square bracket \n",
    "\n",
    "del b1['adhar_number']\n",
    "\n",
    "print(b1.__dict__)\n"
   ]
  }
 ],
 "metadata": {
  "kernelspec": {
   "display_name": "Python 3",
   "language": "python",
   "name": "python3"
  },
  "language_info": {
   "codemirror_mode": {
    "name": "ipython",
    "version": 3
   },
   "file_extension": ".py",
   "mimetype": "text/x-python",
   "name": "python",
   "nbconvert_exporter": "python",
   "pygments_lexer": "ipython3",
   "version": "3.13.3"
  }
 },
 "nbformat": 4,
 "nbformat_minor": 2
}
