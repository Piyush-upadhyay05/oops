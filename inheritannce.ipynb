{
 "cells": [
  {
   "cell_type": "markdown",
   "metadata": {},
   "source": [
    "### Inheritance \n",
    "\n",
    "- Inheritance is a mechanism that allows one class (called the child class or subclass) to acquire the properties and behaviors (methods and attributes) of another class (called the parent class or superclass).\n",
    "\n",
    "- It promotes code reusability and allows you to create a hierarchy of classes.\n",
    "\n",
    "- in other words deriving a new class from an exixting class so that new class inherit the all member (attributes and method) from existing class is called inheritance \n",
    "  \n",
    "   - old class - base class , parent class , existing class , super class\n",
    "   - new class - child class , sub class , derivede class \n",
    "\n",
    "- all class created in python is object class \n",
    "   - how to create a child class :\n",
    "  \n",
    "         "
   ]
  },
  {
   "cell_type": "code",
   "execution_count": null,
   "metadata": {},
   "outputs": [],
   "source": [
    "# syntax :\n",
    "class parenet(object):\n",
    "       #  attributes + method \n",
    "       pass\n",
    "class child(parenet):\n",
    "    #  attributes + method\n",
    "    pass\n"
   ]
  },
  {
   "cell_type": "code",
   "execution_count": 5,
   "metadata": {},
   "outputs": [
    {
     "name": "stdout",
     "output_type": "stream",
     "text": [
      "the bonus of employee\n",
      "the bonus of manager class\n",
      "the bonus of employee\n",
      "2000\n"
     ]
    }
   ],
   "source": [
    "# syntax of inheritance \n",
    "class employee: # parent class\n",
    "    bonus = 2000\n",
    "    def display(self):\n",
    "        print(\"the bonus of employee\")\n",
    "\n",
    "class manager(employee): # child class # inheritance\n",
    "    bonus1 = 5000\n",
    "    def show(self):\n",
    "        print(\"the bonus of manager class\")\n",
    "\n",
    "e1 = employee()\n",
    "m1 = manager()\n",
    "\n",
    "e1.display()\n",
    "m1.show()\n",
    "m1.display()\n",
    "print(m1.bonus)"
   ]
  },
  {
   "cell_type": "code",
   "execution_count": 7,
   "metadata": {},
   "outputs": [
    {
     "name": "stdout",
     "output_type": "stream",
     "text": [
      "the bonus of employee\n",
      "the bonus of manager class\n",
      "the bonus of employee\n",
      "2000\n",
      "5000\n"
     ]
    }
   ],
   "source": [
    "class employee(manager): # parent class\n",
    "    bonus = 2000\n",
    "    def display(self):\n",
    "        print(\"the bonus of employee\")\n",
    "\n",
    "class manager(employee): # child class # inheritance\n",
    "    bonus1 = 5000\n",
    "    def show(self):\n",
    "        print(\"the bonus of manager class\")\n",
    "\n",
    "e1 = employee()\n",
    "m1 = manager()\n",
    "\n",
    "e1.display()\n",
    "m1.show()\n",
    "m1.display()\n",
    "print(m1.bonus)\n",
    "print(e1.bonus1)"
   ]
  },
  {
   "cell_type": "markdown",
   "metadata": {},
   "source": [
    "### why we use inheritance:\n",
    "\n",
    "- Code Reusability – Reuse parent class methods/attributes in child classes.\n",
    "\n",
    "- Hierarchical Structure – Organize code logically (e.g., Animal → Dog).\n",
    "\n",
    "- Extensibility – Easily add new features to child classes.\n",
    "\n",
    "- Polymorphism Support – Same method name, different behaviors in subclasses.\n",
    "\n",
    "- Easy Maintenance – Changes in parent class affect all child classes.\n",
    "\n",
    "- DRY Principle – Avoid code duplication (Don't Repeat Yourself)."
   ]
  },
  {
   "cell_type": "markdown",
   "metadata": {},
   "source": [
    "### how we use constructor in inheritance\n",
    "\n",
    "- how constructor works in inheritance :\n",
    "   \n",
    "   - # 1. parent constructor is not inherited automatically\n",
    "       - If the child class has its own __init__(), it won’t call the parent’s __init__() automatically.\n",
    "   - # 2. use super() to call parent constructor "
   ]
  },
  {
   "cell_type": "code",
   "execution_count": 9,
   "metadata": {},
   "outputs": [],
   "source": [
    "class Parent:\n",
    "    def __init__(self):\n",
    "        print(\"Parent constructor\")\n",
    "\n",
    "class Child(Parent):\n",
    "    def __init__(self):\n",
    "        super().__init__()  # Calls Parent's constructor\n",
    "        print(\"Child constructor\")\n"
   ]
  },
  {
   "cell_type": "markdown",
   "metadata": {},
   "source": [
    "- # 3.  If Child Has No Constructor \n",
    "\n",
    "\n",
    "   - The parent class constructor is called automatically if the child doesn’t define its own __init__().\n",
    "\n"
   ]
  },
  {
   "cell_type": "code",
   "execution_count": null,
   "metadata": {},
   "outputs": [
    {
     "name": "stdout",
     "output_type": "stream",
     "text": [
      "Parent constructor\n"
     ]
    }
   ],
   "source": [
    "class Parent:\n",
    "    def __init__(self):\n",
    "        print(\"Parent constructor\")\n",
    "\n",
    "class Child(Parent):\n",
    "    pass\n",
    "\n",
    "c = Child()  \n"
   ]
  },
  {
   "cell_type": "markdown",
   "metadata": {},
   "source": [
    "- # 4. constructor with parameters :\n",
    "   \n"
   ]
  },
  {
   "cell_type": "code",
   "execution_count": 11,
   "metadata": {},
   "outputs": [],
   "source": [
    "class Parent:\n",
    "    def __init__(self, name):\n",
    "        print(\"Hello\", name)\n",
    "\n",
    "class Child(Parent):\n",
    "    def __init__(self, name, age):\n",
    "        super().__init__(name)\n",
    "        print(\"Age:\", age)\n"
   ]
  },
  {
   "cell_type": "markdown",
   "metadata": {},
   "source": [
    "### constructor overriding :\n",
    "\n",
    "- Constructor overriding happens when a child class defines its own __init__() method, which replaces (or \"overrides\") the parent class’s constructor.\n",
    "\n"
   ]
  },
  {
   "cell_type": "code",
   "execution_count": null,
   "metadata": {},
   "outputs": [
    {
     "name": "stdout",
     "output_type": "stream",
     "text": [
      "Child Constructor\n"
     ]
    }
   ],
   "source": [
    "class Parent:\n",
    "    def __init__(self):\n",
    "        print(\"Parent Constructor\")\n",
    "\n",
    "class Child(Parent):\n",
    "    def __init__(self):\n",
    "        print(\"Child Constructor\")  # Overrides Parent's constructor\n",
    "\n",
    "obj = Child()  \n"
   ]
  },
  {
   "cell_type": "markdown",
   "metadata": {},
   "source": [
    "🔹 How to Call Both Parent & Child Constructors?"
   ]
  },
  {
   "cell_type": "code",
   "execution_count": 13,
   "metadata": {},
   "outputs": [
    {
     "name": "stdout",
     "output_type": "stream",
     "text": [
      "Parent Constructor\n",
      "Child Constructor\n"
     ]
    }
   ],
   "source": [
    "class Parent:\n",
    "    def __init__(self):\n",
    "        print(\"Parent Constructor\")\n",
    "\n",
    "class Child(Parent):\n",
    "    def __init__(self):\n",
    "        super().__init__()  # Calls Parent constructor\n",
    "        print(\"Child Constructor\")\n",
    "\n",
    "obj = Child()"
   ]
  },
  {
   "cell_type": "markdown",
   "metadata": {},
   "source": [
    "### super() function:\n",
    "\n",
    "- super() is a built-in function in Python used to call methods or constructors of the parent (super) class.\n",
    "- Mainly used inside inherited classes."
   ]
  },
  {
   "cell_type": "code",
   "execution_count": 14,
   "metadata": {},
   "outputs": [
    {
     "name": "stdout",
     "output_type": "stream",
     "text": [
      "Parent Constructor\n",
      "Child Constructor\n"
     ]
    }
   ],
   "source": [
    "class Parent:\n",
    "    def __init__(self):\n",
    "        print(\"Parent Constructor\")\n",
    "\n",
    "class Child(Parent):\n",
    "    def __init__(self):\n",
    "        super().__init__()   # Calling Parent's constructor\n",
    "        print(\"Child Constructor\")\n",
    "\n",
    "obj = Child()\n"
   ]
  },
  {
   "cell_type": "markdown",
   "metadata": {},
   "source": [
    "### python suppoerts mainly six types of inheritance :\n",
    "\n",
    "- 1. single inheritance\n",
    "\n",
    "- 2. multiple inheritance \n",
    "\n",
    "- 3. multilevel inheritance \n",
    "\n",
    "- 4. hierarchical inheritance \n",
    "\n",
    "- 5. hybrid inheritance \n",
    "\n",
    "- 6. cyclic inheritance"
   ]
  },
  {
   "cell_type": "markdown",
   "metadata": {},
   "source": [
    "# 1. Single inheritance :\n",
    "\n",
    "-  A child class inherits from a single parent class.\n",
    "\n"
   ]
  },
  {
   "cell_type": "code",
   "execution_count": null,
   "metadata": {},
   "outputs": [],
   "source": [
    "# example \n",
    "class Parent:\n",
    "    def show(self):\n",
    "        print(\"Parent class\")\n",
    "\n",
    "class Child(Parent):\n",
    "    def display(self):\n",
    "        print(\"Child class\")\n",
    "\n",
    "c = Child()\n",
    "c.show()\n",
    "c.display()\n"
   ]
  },
  {
   "cell_type": "markdown",
   "metadata": {},
   "source": [
    "# 2. multiple inheritance \n",
    "\n",
    "- A child class inherits from more than one parent class"
   ]
  },
  {
   "cell_type": "code",
   "execution_count": null,
   "metadata": {},
   "outputs": [],
   "source": [
    "# example \n",
    "class Father:\n",
    "    def skills(self):\n",
    "        print(\"Father: Programming\")\n",
    "\n",
    "class Mother:\n",
    "    def hobbies(self):\n",
    "        print(\"Mother: Painting\")\n",
    "\n",
    "class Child(Father, Mother):\n",
    "    pass\n",
    "\n",
    "c = Child()\n",
    "c.skills()\n",
    "c.hobbies()\n",
    "# When you want to combine features from multiple sources."
   ]
  },
  {
   "cell_type": "markdown",
   "metadata": {},
   "source": [
    "* NOTE - Python handles conflicts using Method Resolution Order (MRO).\n",
    "\n"
   ]
  },
  {
   "cell_type": "markdown",
   "metadata": {},
   "source": [
    "# 3. multilevel inheritance \n",
    "\n",
    "- A class inherits from a child class, which in turn inherits from another class."
   ]
  },
  {
   "cell_type": "code",
   "execution_count": 15,
   "metadata": {},
   "outputs": [
    {
     "name": "stdout",
     "output_type": "stream",
     "text": [
      "Hi from Grandparent\n",
      "Hello from Parent\n",
      "Hey from Child\n"
     ]
    }
   ],
   "source": [
    "class Grandparent:\n",
    "    def say_hi(self):\n",
    "        print(\"Hi from Grandparent\")\n",
    "\n",
    "class Parent(Grandparent):\n",
    "    def say_hello(self):\n",
    "        print(\"Hello from Parent\")\n",
    "\n",
    "class Child(Parent):\n",
    "    def say_hey(self):\n",
    "        print(\"Hey from Child\")\n",
    "\n",
    "c = Child()\n",
    "c.say_hi()\n",
    "c.say_hello()\n",
    "c.say_hey()\n"
   ]
  },
  {
   "cell_type": "markdown",
   "metadata": {},
   "source": [
    "# 4. Hierarchical Inheritance\n",
    "\n",
    "- Multiple child classes inherit from the same parent class."
   ]
  },
  {
   "cell_type": "code",
   "execution_count": 16,
   "metadata": {},
   "outputs": [
    {
     "name": "stdout",
     "output_type": "stream",
     "text": [
      "Parent class\n",
      "Parent class\n"
     ]
    }
   ],
   "source": [
    "# example \n",
    "class Parent:\n",
    "    def show(self):\n",
    "        print(\"Parent class\")\n",
    "\n",
    "class Child1(Parent):\n",
    "    def child1_func(self):\n",
    "        print(\"Child1 class\")\n",
    "\n",
    "class Child2(Parent):\n",
    "    def child2_func(self):\n",
    "        print(\"Child2 class\")\n",
    "\n",
    "c1 = Child1()\n",
    "c1.show()\n",
    "c2 = Child2()\n",
    "c2.show()\n"
   ]
  },
  {
   "cell_type": "markdown",
   "metadata": {},
   "source": [
    "# 5. hybrid inheritance :\n",
    "\n",
    "- A combination of two or more types of inheritance.\n",
    "\n",
    "- it contains multiple types of inheritance \n",
    "\n",
    "Example: Combining multiple and multilevel inheritance.\n",
    "\n"
   ]
  },
  {
   "cell_type": "code",
   "execution_count": null,
   "metadata": {},
   "outputs": [
    {
     "name": "stdout",
     "output_type": "stream",
     "text": [
      "A\n",
      "C\n",
      "D\n"
     ]
    }
   ],
   "source": [
    "class A:\n",
    "    def methodA(self):\n",
    "        print(\"A\")\n",
    "\n",
    "class B(A):\n",
    "    def methodB(self):\n",
    "        print(\"B\")\n",
    "\n",
    "class C:\n",
    "    def methodC(self):\n",
    "        print(\"C\")\n",
    "\n",
    "class D(B, C):\n",
    "    def methodD(self):\n",
    "        print(\"D\")\n",
    "\n",
    "d = D()\n",
    "d.methodA()\n",
    "d.methodC()\n",
    "d.methodD()\n",
    "# Use case: Complex applications that need diverse behaviors."
   ]
  },
  {
   "cell_type": "markdown",
   "metadata": {},
   "source": [
    "# 6. cyclic inheritance \n",
    "\n",
    "- Cyclic Inheritance occurs when a class tries to inherit from itself directly or indirectly, creating a loop in the inheritance chain.\n",
    "\n",
    "- This is not allowed in Python (or most OOP languages), as it leads to logical errors and breaks the inheritance model."
   ]
  },
  {
   "cell_type": "code",
   "execution_count": null,
   "metadata": {},
   "outputs": [],
   "source": [
    "class A(B):   # A inherits B\n",
    "    pass\n",
    "\n",
    "class B(A):   # B inherits A → Creates a cycle ❌\n",
    "    pass\n"
   ]
  },
  {
   "cell_type": "markdown",
   "metadata": {},
   "source": [
    "### Why is Cyclic Inheritance Wrong?\n",
    "\n",
    "\n",
    "- It causes infinite loops or recursion in method resolution.\n",
    "\n",
    "- The interpreter cannot determine which constructor or method to call first.\n",
    "\n",
    "- It violates logic — a class can’t depend on itself being defined to exist.\n",
    "\n"
   ]
  },
  {
   "cell_type": "markdown",
   "metadata": {},
   "source": [
    "# MRO (method resolution order):\n",
    "MRO contains several rule that is following \n",
    "\n",
    "- # Rule 01:\n",
    "   \n",
    "   - python first search in child class and then goes to the parent class \n",
    "\n",
    "   - priority to the child class  "
   ]
  },
  {
   "cell_type": "markdown",
   "metadata": {},
   "source": [
    "- # Rule 02:\n",
    "\n",
    "   - MRO follows ' depth first left to right appproach ' "
   ]
  },
  {
   "cell_type": "markdown",
   "metadata": {},
   "source": [
    "- # Rule 03 :\n",
    "  \n",
    "  - you can use this mro() method for knowing  mro of any object   "
   ]
  },
  {
   "cell_type": "code",
   "execution_count": null,
   "metadata": {},
   "outputs": [
    {
     "name": "stdout",
     "output_type": "stream",
     "text": [
      "[<class '__main__.P'>, <class '__main__.X'>, <class '__main__.A'>, <class '__main__.Y'>, <class '__main__.B'>, <class '__main__.C'>, <class 'object'>]\n"
     ]
    }
   ],
   "source": [
    "class A:\n",
    "    pass\n",
    "class B:\n",
    "    pass\n",
    "class C:\n",
    "    pass\n",
    "class X(A,B,C):\n",
    "    pass\n",
    "class Y(B,C):\n",
    "    pass\n",
    "class P(X,Y):\n",
    "    pass\n",
    "print(P.mro())\n",
    "# here the mro is P,X,A,Y,B,C,OBJECT"
   ]
  }
 ],
 "metadata": {
  "kernelspec": {
   "display_name": "Python 3",
   "language": "python",
   "name": "python3"
  },
  "language_info": {
   "codemirror_mode": {
    "name": "ipython",
    "version": 3
   },
   "file_extension": ".py",
   "mimetype": "text/x-python",
   "name": "python",
   "nbconvert_exporter": "python",
   "pygments_lexer": "ipython3",
   "version": "3.13.3"
  }
 },
 "nbformat": 4,
 "nbformat_minor": 2
}
