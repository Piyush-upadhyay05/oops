{
 "cells": [
  {
   "cell_type": "markdown",
   "metadata": {},
   "source": [
    "### Inheritance \n",
    "\n",
    "- Inheritance is a mechanism that allows one class (called the child class or subclass) to acquire the properties and behaviors (methods and attributes) of another class (called the parent class or superclass).\n",
    "\n",
    "- It promotes code reusability and allows you to create a hierarchy of classes.\n",
    "\n",
    "- in other words deriving a new class from an exixting class so that new class inherit the all member (attributes and method) from existing class is called inheritance \n",
    "  \n",
    "   - old class - base class , parent class , existing class , super class\n",
    "   - new class - child class , sub class , derivede class \n",
    "\n",
    "- all class created in python is object class \n",
    "   - how to create a child class :\n",
    "  \n",
    "         "
   ]
  },
  {
   "cell_type": "code",
   "execution_count": null,
   "metadata": {},
   "outputs": [],
   "source": [
    "# syntax :\n",
    "class parenet(object):\n",
    "       #  attributes + method \n",
    "       pass\n",
    "class child(parenet):\n",
    "    #  attributes + method\n",
    "    pass\n"
   ]
  },
  {
   "cell_type": "code",
   "execution_count": 5,
   "metadata": {},
   "outputs": [
    {
     "name": "stdout",
     "output_type": "stream",
     "text": [
      "the bonus of employee\n",
      "the bonus of manager class\n",
      "the bonus of employee\n",
      "2000\n"
     ]
    }
   ],
   "source": [
    "# syntax of inheritance \n",
    "class employee: # parent class\n",
    "    bonus = 2000\n",
    "    def display(self):\n",
    "        print(\"the bonus of employee\")\n",
    "\n",
    "class manager(employee): # child class # inheritance\n",
    "    bonus1 = 5000\n",
    "    def show(self):\n",
    "        print(\"the bonus of manager class\")\n",
    "\n",
    "e1 = employee()\n",
    "m1 = manager()\n",
    "\n",
    "e1.display()\n",
    "m1.show()\n",
    "m1.display()\n",
    "print(m1.bonus)"
   ]
  },
  {
   "cell_type": "code",
   "execution_count": 7,
   "metadata": {},
   "outputs": [
    {
     "name": "stdout",
     "output_type": "stream",
     "text": [
      "the bonus of employee\n",
      "the bonus of manager class\n",
      "the bonus of employee\n",
      "2000\n",
      "5000\n"
     ]
    }
   ],
   "source": [
    "class employee(manager): # parent class\n",
    "    bonus = 2000\n",
    "    def display(self):\n",
    "        print(\"the bonus of employee\")\n",
    "\n",
    "class manager(employee): # child class # inheritance\n",
    "    bonus1 = 5000\n",
    "    def show(self):\n",
    "        print(\"the bonus of manager class\")\n",
    "\n",
    "e1 = employee()\n",
    "m1 = manager()\n",
    "\n",
    "e1.display()\n",
    "m1.show()\n",
    "m1.display()\n",
    "print(m1.bonus)\n",
    "print(e1.bonus1)"
   ]
  },
  {
   "cell_type": "markdown",
   "metadata": {},
   "source": [
    "### why we use inheritance:\n",
    "\n",
    "- Code Reusability – Reuse parent class methods/attributes in child classes.\n",
    "\n",
    "- Hierarchical Structure – Organize code logically (e.g., Animal → Dog).\n",
    "\n",
    "- Extensibility – Easily add new features to child classes.\n",
    "\n",
    "- Polymorphism Support – Same method name, different behaviors in subclasses.\n",
    "\n",
    "- Easy Maintenance – Changes in parent class affect all child classes.\n",
    "\n",
    "- DRY Principle – Avoid code duplication (Don't Repeat Yourself)."
   ]
  },
  {
   "cell_type": "markdown",
   "metadata": {},
   "source": [
    "### how we use constructor in inheritance\n",
    "\n",
    "- how constructor works in inheritance :\n",
    "   \n",
    "   - # 1. parent constructor is not inherited automatically\n",
    "       - If the child class has its own __init__(), it won’t call the parent’s __init__() automatically.\n",
    "   - # 2. use super() to call parent constructor "
   ]
  },
  {
   "cell_type": "code",
   "execution_count": 9,
   "metadata": {},
   "outputs": [],
   "source": [
    "class Parent:\n",
    "    def __init__(self):\n",
    "        print(\"Parent constructor\")\n",
    "\n",
    "class Child(Parent):\n",
    "    def __init__(self):\n",
    "        super().__init__()  # Calls Parent's constructor\n",
    "        print(\"Child constructor\")\n"
   ]
  },
  {
   "cell_type": "markdown",
   "metadata": {},
   "source": [
    "- # 3.  If Child Has No Constructor \n",
    "\n",
    "\n",
    "   - The parent class constructor is called automatically if the child doesn’t define its own __init__().\n",
    "\n"
   ]
  },
  {
   "cell_type": "code",
   "execution_count": null,
   "metadata": {},
   "outputs": [
    {
     "name": "stdout",
     "output_type": "stream",
     "text": [
      "Parent constructor\n"
     ]
    }
   ],
   "source": [
    "class Parent:\n",
    "    def __init__(self):\n",
    "        print(\"Parent constructor\")\n",
    "\n",
    "class Child(Parent):\n",
    "    pass\n",
    "\n",
    "c = Child()  \n"
   ]
  },
  {
   "cell_type": "markdown",
   "metadata": {},
   "source": [
    "- # 4. constructor with parameters :\n",
    "   \n"
   ]
  },
  {
   "cell_type": "code",
   "execution_count": 11,
   "metadata": {},
   "outputs": [],
   "source": [
    "class Parent:\n",
    "    def __init__(self, name):\n",
    "        print(\"Hello\", name)\n",
    "\n",
    "class Child(Parent):\n",
    "    def __init__(self, name, age):\n",
    "        super().__init__(name)\n",
    "        print(\"Age:\", age)\n"
   ]
  }
 ],
 "metadata": {
  "kernelspec": {
   "display_name": "Python 3",
   "language": "python",
   "name": "python3"
  },
  "language_info": {
   "codemirror_mode": {
    "name": "ipython",
    "version": 3
   },
   "file_extension": ".py",
   "mimetype": "text/x-python",
   "name": "python",
   "nbconvert_exporter": "python",
   "pygments_lexer": "ipython3",
   "version": "3.13.3"
  }
 },
 "nbformat": 4,
 "nbformat_minor": 2
}
