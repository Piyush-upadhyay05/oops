{
 "cells": [
  {
   "cell_type": "markdown",
   "metadata": {},
   "source": [
    "### OOPS \n",
    "\n",
    "- OOPs, or Object-Oriented Programming System, is a programming paradigm based on the concept of \"objects\", which can contain data (attributes) and methods (functions) that operate on that data.\n",
    "\n",
    "- oops allows you to structure a program as a collection of classes and object , making it modular , reusable and easir to maintain."
   ]
  },
  {
   "cell_type": "markdown",
   "metadata": {},
   "source": [
    "### why oops \n",
    "\n",
    "- modularity - code is organized into classes and object\n",
    "\n",
    "- reusability - once class is written code is reused\n",
    " \n",
    "- scalability - easier to add new feature by extending class \n",
    "\n",
    "- bugs and issues can resollved eassily  \n",
    "\n",
    "- encqapsulation hides internal data using\n",
    "\n",
    "- real world mapping - object in oops mirror real world entities  "
   ]
  },
  {
   "cell_type": "markdown",
   "metadata": {},
   "source": [
    "### programming paradigim \n",
    "\n",
    "- way of organizing programs \n",
    "\n",
    "- python supports multiple paradigm these are follows :\n",
    "   - 1. procedural oriented programming \n",
    "   - 2. functional oriented programming \n",
    "   - 3. object oriented programming "
   ]
  },
  {
   "cell_type": "markdown",
   "metadata": {},
   "source": [
    "### OBJECT - \n",
    " - An object is an instance of a class.\n",
    "  \n",
    " - It represents a real-world entity that combines data (attributes) and behavior (methods). "
   ]
  },
  {
   "cell_type": "code",
   "execution_count": 1,
   "metadata": {},
   "outputs": [
    {
     "name": "stdout",
     "output_type": "stream",
     "text": [
      "Aisha\n",
      "Name: Aisha, Age: 21\n"
     ]
    }
   ],
   "source": [
    "class Student:\n",
    "    def __init__(self, name, age):  # constructor\n",
    "        self.name = name\n",
    "        self.age = age\n",
    "\n",
    "    def show_info(self):\n",
    "        print(f\"Name: {self.name}, Age: {self.age}\")\n",
    "\n",
    "# Create an object of the class\n",
    "s1 = Student(\"Aisha\", 21)\n",
    "\n",
    "# Access attributes and methods\n",
    "print(s1.name)        # Output: Aisha\n",
    "s1.show_info()        # Output: Name: Aisha, Age: 21\n"
   ]
  },
  {
   "cell_type": "markdown",
   "metadata": {},
   "source": [
    "### CLASS \n",
    "\n",
    "- A class is a blueprint or template for creating objects. It defines a structure that includes attributes (data) and methods (functions) which describe and define the behavior of the objects."
   ]
  },
  {
   "cell_type": "code",
   "execution_count": null,
   "metadata": {},
   "outputs": [],
   "source": [
    "# syntax \n",
    "class ClassName:\n",
    "    # constructor\n",
    "    def __init__(self, attributes):\n",
    "        self.attribute = attributes\n",
    "\n",
    "    # method\n",
    "    def method_name(self):\n",
    "        # behavior\n",
    "        pass\n"
   ]
  },
  {
   "cell_type": "code",
   "execution_count": 11,
   "metadata": {},
   "outputs": [
    {
     "name": "stdout",
     "output_type": "stream",
     "text": [
      "raj\n",
      "Name: raj, Age: 23\n"
     ]
    }
   ],
   "source": [
    "# example for class\n",
    "class Employee:\n",
    "    def __init__(self,nm,ag):\n",
    "        self.name = nm # attributes\n",
    "        self.age = ag  # attributes\n",
    "    def display (self): # methods \n",
    "        print(self.name) # methods\n",
    "    def show_info(self):\n",
    "        print(f\"Name: {self.name}, Age: {self.age}\")\n",
    "e1 = Employee('raj' , 23)\n",
    "e2 = Employee('yash', 19)\n",
    "print(e1.name)\n",
    "e1.show_info()"
   ]
  },
  {
   "cell_type": "markdown",
   "metadata": {},
   "source": [
    "### constructor \n",
    "\n",
    "- A constructor is a special method in object-oriented programming that is automatically called when an object is created from a class.\n",
    "\n",
    "- main purpose is to initialize the object’s attributes \n",
    "\n",
    "- The constructor method is named __init__()\n"
   ]
  },
  {
   "cell_type": "code",
   "execution_count": 1,
   "metadata": {},
   "outputs": [
    {
     "name": "stdout",
     "output_type": "stream",
     "text": [
      "Aanya\n",
      "20\n"
     ]
    }
   ],
   "source": [
    "# example \n",
    "class Student:\n",
    "    def __init__(self, name, age):   # 👈 This is the constructor\n",
    "        self.name = name\n",
    "        self.age = age\n",
    "\n",
    "# Creating an object\n",
    "s1 = Student(\"Aanya\", 20)\n",
    "print(s1.name)  # Output: Aanya\n",
    "print(s1.age)   # Output: 20\n"
   ]
  },
  {
   "cell_type": "markdown",
   "metadata": {},
   "source": [
    "- In constructor first argument is (self)"
   ]
  },
  {
   "cell_type": "markdown",
   "metadata": {},
   "source": [
    "### types of constructor\n",
    "\n",
    "#### 1. default cosntructor / non parameterized constructor \n",
    "\n",
    "- A constructor that does not take any parameters (except self) and typically initializes default valu"
   ]
  },
  {
   "cell_type": "code",
   "execution_count": null,
   "metadata": {},
   "outputs": [
    {
     "name": "stdout",
     "output_type": "stream",
     "text": [
      "Unknown\n",
      "0\n"
     ]
    }
   ],
   "source": [
    "class Student:\n",
    "    def __init__(self): # here does not have any parameters\n",
    "        self.name = \"Unknown\"\n",
    "        self.age = 0\n",
    "\n",
    "s1 = Student()\n",
    "print(s1.name)  # Output: Unknown\n",
    "print(s1.age)   # Output: 0\n"
   ]
  },
  {
   "cell_type": "markdown",
   "metadata": {},
   "source": [
    "#### 2. parameterized constructor \n",
    "\n",
    "- A constructor that takes arguments to initialize the object with specific values"
   ]
  },
  {
   "cell_type": "code",
   "execution_count": 3,
   "metadata": {},
   "outputs": [
    {
     "name": "stdout",
     "output_type": "stream",
     "text": [
      "Aanya\n",
      "20\n"
     ]
    }
   ],
   "source": [
    "class Student:\n",
    "    def __init__(self, name, age): # here parameter is given like name , age\n",
    "        self.name = name\n",
    "        self.age = age\n",
    "\n",
    "s1 = Student(\"Aanya\", 20)\n",
    "print(s1.name)  # Output: Aanya\n",
    "print(s1.age)   # Output: 20\n"
   ]
  },
  {
   "cell_type": "markdown",
   "metadata": {},
   "source": [
    "#### 3.  Constructor with Default Arguments\n",
    "\n",
    "- A constructor that provides default values for some or all parameters, so it's flexible."
   ]
  },
  {
   "cell_type": "code",
   "execution_count": 4,
   "metadata": {},
   "outputs": [
    {
     "name": "stdout",
     "output_type": "stream",
     "text": [
      "Unknown 0\n",
      "Aanya 20\n"
     ]
    }
   ],
   "source": [
    "class Student:\n",
    "    def __init__(self, name=\"Unknown\", age=0):\n",
    "        self.name = name\n",
    "        self.age = age\n",
    "\n",
    "s1 = Student()               # No arguments\n",
    "s2 = Student(\"Aanya\", 20)    # With arguments\n",
    "\n",
    "print(s1.name, s1.age)  # Output: Unknown 0\n",
    "print(s2.name, s2.age)  # Output: Aanya 20\n"
   ]
  },
  {
   "cell_type": "markdown",
   "metadata": {},
   "source": [
    "without consructor object can not be created"
   ]
  },
  {
   "cell_type": "markdown",
   "metadata": {},
   "source": [
    "### self ?\n",
    "\n",
    "- self is a variable that containsn the memory reference of the current object \n",
    "\n",
    "- self is a convention used to refer to the current instance of the class"
   ]
  },
  {
   "cell_type": "code",
   "execution_count": 5,
   "metadata": {},
   "outputs": [
    {
     "name": "stdout",
     "output_type": "stream",
     "text": [
      "Name: Aanya\n",
      "Age: 20\n"
     ]
    }
   ],
   "source": [
    "class Student:\n",
    "    def __init__(self, name, age):\n",
    "        self.name = name  # instance variable\n",
    "        self.age = age\n",
    "\n",
    "    def show_info(self):\n",
    "        print(\"Name:\", self.name)\n",
    "        print(\"Age:\", self.age)\n",
    "\n",
    "# Create object\n",
    "s1 = Student(\"Aanya\", 20)\n",
    "\n",
    "# Call method\n",
    "s1.show_info()\n"
   ]
  },
  {
   "cell_type": "markdown",
   "metadata": {},
   "source": [
    " When you define a method inside a class, the first parameter of that method is always self (by convention). This parameter allows you to reference the instance of the object on which the method is being called."
   ]
  },
  {
   "cell_type": "markdown",
   "metadata": {},
   "source": [
    "### working of oops "
   ]
  },
  {
   "cell_type": "code",
   "execution_count": 6,
   "metadata": {},
   "outputs": [
    {
     "name": "stdout",
     "output_type": "stream",
     "text": [
      "{'salary': 24000, 'age': 21}\n"
     ]
    }
   ],
   "source": [
    "class Employee:\n",
    "    def __init__(self,sal,ag):\n",
    "        self.salary = sal\n",
    "        self.age = ag\n",
    "e1 = Employee(24000,21)\n",
    "e2 = Employee(25000,25)\n",
    "print(e1.__dict__)"
   ]
  },
  {
   "cell_type": "markdown",
   "metadata": {},
   "source": [
    "1. class - The class Employee is defined, which is a blueprint for creating employee objects. A class in OOP is a template for creating instances (objects) with specific attributes and behaviors.\n",
    "   \n",
    "\n",
    "2. Constructor (__init__ method) - constructor takes sal (salary) and ag (age) as arguments and assigns them to the instance variables self.salary and self.age.\n",
    "\n",
    "- self refers to the current object of the class. This means that each object will have its own unique salary and age attributes.\n",
    "\n",
    "3. Creating Objects - e1 = Employee(24000, 21) creates an instance of the Employee class and passes 24000 for the salary and 21 for the age to the constructor.\n",
    "\n",
    "- e2 = Employee(25000, 25) creates another instance of the Employee class with 25000 salary and 25 age.\n",
    "  \n",
    "4. __dict__ - print(e1.__dict__) is used to print the dictionary representation of the object e1\n",
    "\n",
    "- Every Python object has a __dict__ attribute that contains the object's attributes (instance variables) in key-value pairs. This shows the salary and age of e1 as a dictionary."
   ]
  },
  {
   "cell_type": "markdown",
   "metadata": {},
   "source": [
    "### __init__ function:\n",
    "\n",
    "- The __init__ function in Python is a special method, often referred to as the constructor\n",
    "\n",
    "- used to initialize the attributes of an object when it is created."
   ]
  },
  {
   "cell_type": "code",
   "execution_count": null,
   "metadata": {},
   "outputs": [],
   "source": [
    "# syntax\n",
    "def __init__(self, [parameters]):\n",
    "    # Initialize object attributes\n"
   ]
  },
  {
   "cell_type": "markdown",
   "metadata": {},
   "source": [
    "primary purpose of the __init__ method is to assign values to the instance attributes (variables specific to each object) of the class when an object is instantiated."
   ]
  }
 ],
 "metadata": {
  "kernelspec": {
   "display_name": "Python 3",
   "language": "python",
   "name": "python3"
  },
  "language_info": {
   "codemirror_mode": {
    "name": "ipython",
    "version": 3
   },
   "file_extension": ".py",
   "mimetype": "text/x-python",
   "name": "python",
   "nbconvert_exporter": "python",
   "pygments_lexer": "ipython3",
   "version": "3.13.3"
  }
 },
 "nbformat": 4,
 "nbformat_minor": 2
}
