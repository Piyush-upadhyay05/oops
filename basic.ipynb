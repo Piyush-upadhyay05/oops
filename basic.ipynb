{
 "cells": [
  {
   "cell_type": "markdown",
   "metadata": {},
   "source": [
    "### OOPS \n",
    "\n",
    "- OOPs, or Object-Oriented Programming System, is a programming paradigm based on the concept of \"objects\", which can contain data (attributes) and methods (functions) that operate on that data.\n",
    "\n",
    "- oops allows you to structure a program as a collection of classes and object , making it modular , reusable and easir to maintain."
   ]
  },
  {
   "cell_type": "markdown",
   "metadata": {},
   "source": [
    "### why oops \n",
    "\n",
    "- modularity - code is organized into classes and object\n",
    "\n",
    "- reusability - once class is written code is reused\n",
    " \n",
    "- scalability - easier to add new feature by extending class \n",
    "\n",
    "- bugs and issues can resollved eassily  \n",
    "\n",
    "- encqapsulation hides internal data using\n",
    "\n",
    "- real world mapping - object in oops mirror real world entities  "
   ]
  },
  {
   "cell_type": "markdown",
   "metadata": {},
   "source": [
    "### programming paradigim \n",
    "\n",
    "- way of organizing programs \n",
    "\n",
    "- python supports multiple paradigm these are follows :\n",
    "   - 1. procedural oriented programming \n",
    "   - 2. functional oriented programming \n",
    "   - 3. object oriented programming "
   ]
  },
  {
   "cell_type": "markdown",
   "metadata": {},
   "source": [
    "### OBJECT - \n",
    " - An object is an instance of a class.\n",
    "  \n",
    " - It represents a real-world entity that combines data (attributes) and behavior (methods). "
   ]
  },
  {
   "cell_type": "code",
   "execution_count": 1,
   "metadata": {},
   "outputs": [
    {
     "name": "stdout",
     "output_type": "stream",
     "text": [
      "Aisha\n",
      "Name: Aisha, Age: 21\n"
     ]
    }
   ],
   "source": [
    "class Student:\n",
    "    def __init__(self, name, age):  # constructor\n",
    "        self.name = name\n",
    "        self.age = age\n",
    "\n",
    "    def show_info(self):\n",
    "        print(f\"Name: {self.name}, Age: {self.age}\")\n",
    "\n",
    "# Create an object of the class\n",
    "s1 = Student(\"Aisha\", 21)\n",
    "\n",
    "# Access attributes and methods\n",
    "print(s1.name)        # Output: Aisha\n",
    "s1.show_info()        # Output: Name: Aisha, Age: 21\n"
   ]
  },
  {
   "cell_type": "markdown",
   "metadata": {},
   "source": [
    "### CLASS \n",
    "\n",
    "- A class is a blueprint or template for creating objects. It defines a structure that includes attributes (data) and methods (functions) which describe and define the behavior of the objects."
   ]
  },
  {
   "cell_type": "code",
   "execution_count": null,
   "metadata": {},
   "outputs": [],
   "source": [
    "# syntax \n",
    "class ClassName:\n",
    "    # constructor\n",
    "    def __init__(self, attributes):\n",
    "        self.attribute = attributes\n",
    "\n",
    "    # method\n",
    "    def method_name(self):\n",
    "        # behavior\n",
    "        pass\n"
   ]
  },
  {
   "cell_type": "code",
   "execution_count": 11,
   "metadata": {},
   "outputs": [
    {
     "name": "stdout",
     "output_type": "stream",
     "text": [
      "raj\n",
      "Name: raj, Age: 23\n"
     ]
    }
   ],
   "source": [
    "# example for class\n",
    "class Employee:\n",
    "    def __init__(self,nm,ag):\n",
    "        self.name = nm # attributes\n",
    "        self.age = ag  # attributes\n",
    "    def display (self): # methods \n",
    "        print(self.name) # methods\n",
    "    def show_info(self):\n",
    "        print(f\"Name: {self.name}, Age: {self.age}\")\n",
    "e1 = Employee('raj' , 23)\n",
    "e2 = Employee('yash', 19)\n",
    "print(e1.name)\n",
    "e1.show_info()"
   ]
  },
  {
   "cell_type": "markdown",
   "metadata": {},
   "source": [
    "### constructor \n",
    "\n",
    "- A constructor is a special method in object-oriented programming that is automatically called when an object is created from a class.\n",
    "\n",
    "- main purpose is to initialize the object’s attributes \n",
    "\n",
    "- The constructor method is named __init__()\n"
   ]
  },
  {
   "cell_type": "code",
   "execution_count": 1,
   "metadata": {},
   "outputs": [
    {
     "name": "stdout",
     "output_type": "stream",
     "text": [
      "Aanya\n",
      "20\n"
     ]
    }
   ],
   "source": [
    "# example \n",
    "class Student:\n",
    "    def __init__(self, name, age):   # 👈 This is the constructor\n",
    "        self.name = name\n",
    "        self.age = age\n",
    "\n",
    "# Creating an object\n",
    "s1 = Student(\"Aanya\", 20)\n",
    "print(s1.name)  # Output: Aanya\n",
    "print(s1.age)   # Output: 20\n"
   ]
  },
  {
   "cell_type": "markdown",
   "metadata": {},
   "source": [
    "- In constructor first argument is (self)"
   ]
  },
  {
   "cell_type": "markdown",
   "metadata": {},
   "source": [
    "### types of constructor\n",
    "\n",
    "#### 1. default cosntructor / non parameterized constructor \n",
    "\n",
    "- A constructor that does not take any parameters (except self) and typically initializes default valu"
   ]
  },
  {
   "cell_type": "code",
   "execution_count": null,
   "metadata": {},
   "outputs": [
    {
     "name": "stdout",
     "output_type": "stream",
     "text": [
      "Unknown\n",
      "0\n"
     ]
    }
   ],
   "source": [
    "class Student:\n",
    "    def __init__(self): # here does not have any parameters\n",
    "        self.name = \"Unknown\"\n",
    "        self.age = 0\n",
    "\n",
    "s1 = Student()\n",
    "print(s1.name)  # Output: Unknown\n",
    "print(s1.age)   # Output: 0\n"
   ]
  },
  {
   "cell_type": "markdown",
   "metadata": {},
   "source": [
    "#### 2. parameterized constructor \n",
    "\n",
    "- A constructor that takes arguments to initialize the object with specific values"
   ]
  },
  {
   "cell_type": "code",
   "execution_count": 3,
   "metadata": {},
   "outputs": [
    {
     "name": "stdout",
     "output_type": "stream",
     "text": [
      "Aanya\n",
      "20\n"
     ]
    }
   ],
   "source": [
    "class Student:\n",
    "    def __init__(self, name, age): # here parameter is given like name , age\n",
    "        self.name = name\n",
    "        self.age = age\n",
    "\n",
    "s1 = Student(\"Aanya\", 20)\n",
    "print(s1.name)  # Output: Aanya\n",
    "print(s1.age)   # Output: 20\n"
   ]
  },
  {
   "cell_type": "markdown",
   "metadata": {},
   "source": [
    "#### 3.  Constructor with Default Arguments\n",
    "\n",
    "- A constructor that provides default values for some or all parameters, so it's flexible."
   ]
  },
  {
   "cell_type": "code",
   "execution_count": 4,
   "metadata": {},
   "outputs": [
    {
     "name": "stdout",
     "output_type": "stream",
     "text": [
      "Unknown 0\n",
      "Aanya 20\n"
     ]
    }
   ],
   "source": [
    "class Student:\n",
    "    def __init__(self, name=\"Unknown\", age=0):\n",
    "        self.name = name\n",
    "        self.age = age\n",
    "\n",
    "s1 = Student()               # No arguments\n",
    "s2 = Student(\"Aanya\", 20)    # With arguments\n",
    "\n",
    "print(s1.name, s1.age)  # Output: Unknown 0\n",
    "print(s2.name, s2.age)  # Output: Aanya 20\n"
   ]
  },
  {
   "cell_type": "markdown",
   "metadata": {},
   "source": [
    "without consructor object can not be created"
   ]
  },
  {
   "cell_type": "markdown",
   "metadata": {},
   "source": [
    "### self ?\n",
    "\n",
    "- self is a variable that containsn the memory reference of the current object \n",
    "\n",
    "- self is a convention used to refer to the current instance of the class"
   ]
  },
  {
   "cell_type": "code",
   "execution_count": 5,
   "metadata": {},
   "outputs": [
    {
     "name": "stdout",
     "output_type": "stream",
     "text": [
      "Name: Aanya\n",
      "Age: 20\n"
     ]
    }
   ],
   "source": [
    "class Student:\n",
    "    def __init__(self, name, age):\n",
    "        self.name = name  # instance variable\n",
    "        self.age = age\n",
    "\n",
    "    def show_info(self):\n",
    "        print(\"Name:\", self.name)\n",
    "        print(\"Age:\", self.age)\n",
    "\n",
    "# Create object\n",
    "s1 = Student(\"Aanya\", 20)\n",
    "\n",
    "# Call method\n",
    "s1.show_info()\n"
   ]
  },
  {
   "cell_type": "markdown",
   "metadata": {},
   "source": [
    " When you define a method inside a class, the first parameter of that method is always self (by convention). This parameter allows you to reference the instance of the object on which the method is being called."
   ]
  },
  {
   "cell_type": "markdown",
   "metadata": {},
   "source": [
    "### working of oops "
   ]
  },
  {
   "cell_type": "code",
   "execution_count": 6,
   "metadata": {},
   "outputs": [
    {
     "name": "stdout",
     "output_type": "stream",
     "text": [
      "{'salary': 24000, 'age': 21}\n"
     ]
    }
   ],
   "source": [
    "class Employee:\n",
    "    def __init__(self,sal,ag):\n",
    "        self.salary = sal\n",
    "        self.age = ag\n",
    "e1 = Employee(24000,21)\n",
    "e2 = Employee(25000,25)\n",
    "print(e1.__dict__)"
   ]
  },
  {
   "cell_type": "markdown",
   "metadata": {},
   "source": [
    "1. class - The class Employee is defined, which is a blueprint for creating employee objects. A class in OOP is a template for creating instances (objects) with specific attributes and behaviors.\n",
    "   \n",
    "\n",
    "2. Constructor (__init__ method) - constructor takes sal (salary) and ag (age) as arguments and assigns them to the instance variables self.salary and self.age.\n",
    "\n",
    "- self refers to the current object of the class. This means that each object will have its own unique salary and age attributes.\n",
    "\n",
    "3. Creating Objects - e1 = Employee(24000, 21) creates an instance of the Employee class and passes 24000 for the salary and 21 for the age to the constructor.\n",
    "\n",
    "- e2 = Employee(25000, 25) creates another instance of the Employee class with 25000 salary and 25 age.\n",
    "  \n",
    "4. __dict__ - print(e1.__dict__) is used to print the dictionary representation of the object e1\n",
    "\n",
    "- Every Python object has a __dict__ attribute that contains the object's attributes (instance variables) in key-value pairs. This shows the salary and age of e1 as a dictionary."
   ]
  },
  {
   "cell_type": "markdown",
   "metadata": {},
   "source": [
    "### __init__ function:\n",
    "\n",
    "- The __init__ function in Python is a special method, often referred to as the constructor\n",
    "\n",
    "- used to initialize the attributes of an object when it is created."
   ]
  },
  {
   "cell_type": "code",
   "execution_count": null,
   "metadata": {},
   "outputs": [],
   "source": [
    "# syntax\n",
    "def __init__(self, [parameters]):\n",
    "    # Initialize object attributes\n"
   ]
  },
  {
   "cell_type": "markdown",
   "metadata": {},
   "source": [
    "primary purpose of the __init__ method is to assign values to the instance attributes (variables specific to each object) of the class when an object is instantiated."
   ]
  },
  {
   "cell_type": "markdown",
   "metadata": {},
   "source": [
    "#### why use init function - \n",
    "Why is __init__ important?\n",
    "- Object Initialization: The __init__ method ensures that the object is initialized with specific values as soon as it's created.\n",
    "\n",
    "- Custom Setup: You can customize the initialization process by defining specific behaviors or calculations within __init__."
   ]
  },
  {
   "cell_type": "markdown",
   "metadata": {},
   "source": [
    "### __str__ function:\n",
    "\n",
    "- The __str__ method is used to define a human-readable string representation of an object. It is called automatically when you use the print() function with an object, or use str(object).\n",
    "\n",
    "\n"
   ]
  },
  {
   "cell_type": "code",
   "execution_count": null,
   "metadata": {},
   "outputs": [],
   "source": [
    "# syntax\n",
    "def __str__(self):\n",
    "    return \"some string representation\"\n"
   ]
  },
  {
   "cell_type": "markdown",
   "metadata": {},
   "source": [
    "#### why str function is important \n",
    "\n",
    "Why use __str__?\n",
    "\n",
    "-By default, if you print an object without defining __str__, Python will print something like:\n",
    "\n",
    "-'<__main__.Employee object at 0x000001E8E0A5E4F0>'\n"
   ]
  },
  {
   "cell_type": "code",
   "execution_count": 7,
   "metadata": {},
   "outputs": [
    {
     "name": "stdout",
     "output_type": "stream",
     "text": [
      "Employee with salary: 24000, age: 21\n"
     ]
    }
   ],
   "source": [
    "# example of str function\n",
    "class Employee:\n",
    "    def __init__(self, sal, ag):\n",
    "        self.salary = sal\n",
    "        self.age = ag\n",
    "\n",
    "    def __str__(self):\n",
    "        return f\"Employee with salary: {self.salary}, age: {self.age}\"\n",
    "\n",
    "e1 = Employee(24000, 21)\n",
    "print(e1)\n"
   ]
  },
  {
   "cell_type": "markdown",
   "metadata": {},
   "source": [
    "### modify object properties"
   ]
  },
  {
   "cell_type": "code",
   "execution_count": 1,
   "metadata": {},
   "outputs": [
    {
     "name": "stdout",
     "output_type": "stream",
     "text": [
      "40\n"
     ]
    }
   ],
   "source": [
    "class Person:\n",
    "  def __init__(self, name, age):\n",
    "    self.name = name\n",
    "    self.age = age\n",
    "\n",
    "  def myfunc(self):\n",
    "    print(\"Hello my name is \" + self.name)\n",
    "\n",
    "p1 = Person(\"John\", 36)\n",
    "\n",
    "p1.age = 40\n",
    "\n",
    "print(p1.age)\n"
   ]
  },
  {
   "cell_type": "markdown",
   "metadata": {},
   "source": [
    "### delete object properties"
   ]
  },
  {
   "cell_type": "code",
   "execution_count": 2,
   "metadata": {},
   "outputs": [
    {
     "ename": "NameError",
     "evalue": "name 'p1' is not defined",
     "output_type": "error",
     "traceback": [
      "\u001b[31m---------------------------------------------------------------------------\u001b[39m",
      "\u001b[31mNameError\u001b[39m                                 Traceback (most recent call last)",
      "\u001b[36mCell\u001b[39m\u001b[36m \u001b[39m\u001b[32mIn[2]\u001b[39m\u001b[32m, line 13\u001b[39m\n\u001b[32m      9\u001b[39m p1 = Person(\u001b[33m\"\u001b[39m\u001b[33mJohn\u001b[39m\u001b[33m\"\u001b[39m, \u001b[32m36\u001b[39m)\n\u001b[32m     11\u001b[39m \u001b[38;5;28;01mdel\u001b[39;00m p1\n\u001b[32m---> \u001b[39m\u001b[32m13\u001b[39m \u001b[38;5;28mprint\u001b[39m(\u001b[43mp1\u001b[49m)\n",
      "\u001b[31mNameError\u001b[39m: name 'p1' is not defined"
     ]
    }
   ],
   "source": [
    "class Person:\n",
    "  def __init__(self, name, age):\n",
    "    self.name = name\n",
    "    self.age = age\n",
    "\n",
    "  def myfunc(self):\n",
    "    print(\"Hello my name is \" + self.name)\n",
    "\n",
    "p1 = Person(\"John\", 36)\n",
    "\n",
    "del p1\n",
    "\n",
    "print(p1)"
   ]
  },
  {
   "cell_type": "markdown",
   "metadata": {},
   "source": [
    "###  the pass statement - \n",
    "\n",
    "- class definitions cannot be empty, but if you for some reason have a class definition with no content, put in the pass statement to avoid getting an error."
   ]
  },
  {
   "cell_type": "code",
   "execution_count": 3,
   "metadata": {},
   "outputs": [],
   "source": [
    "class Person:\n",
    "  pass\n",
    "\n",
    "# having an empty class definition like this, would raise an error without the pass statement\n"
   ]
  },
  {
   "cell_type": "markdown",
   "metadata": {},
   "source": [
    "#### Class member :\n",
    "\n",
    "- class members refer to the variables and methods that are defined inside a class.\n",
    "\n",
    "- TYPES OF CLASS MEMBER:-\n",
    "- 1. data members(attributes)-\n",
    "   - Instance Variables: Belong to the object (instance) of the class.\n",
    "   - Class Variables: Belong to the class itself, shared among all instances.\n",
    "\n",
    "- 2. member function(methods)-\n",
    "    \n",
    "   - Functions defined inside a class that operate on class or instance variables."
   ]
  },
  {
   "cell_type": "code",
   "execution_count": 1,
   "metadata": {},
   "outputs": [
    {
     "name": "stdout",
     "output_type": "stream",
     "text": [
      "Green Valley School\n",
      "Green Valley School\n",
      "Anu\n",
      "10th\n",
      "Name: Anu, Grade: 10th\n"
     ]
    }
   ],
   "source": [
    "# how to access class member outside the class \n",
    "class Student:\n",
    "    # Class variable\n",
    "    school_name = \"Green Valley School\"\n",
    "\n",
    "    def __init__(self, name, grade):\n",
    "        # Instance variables\n",
    "        self.name = name\n",
    "        self.grade = grade\n",
    "\n",
    "    # Instance method\n",
    "    def display_info(self):\n",
    "        print(f\"Name: {self.name}, Grade: {self.grade}\")\n",
    "#  Accessing Class Variables\n",
    "print(Student.school_name)   # Access via class\n",
    "student1 = Student(\"Anu\", \"10th\")\n",
    "print(student1.school_name)  # Access via object (not recommended, but works)\n",
    "\n",
    "#Accessing Instance Variables\n",
    "print(student1.name)         # Access via object\n",
    "print(student1.grade)\n",
    "\n",
    "# Calling Methods\n",
    "student1.display_info()      # Correct way: object.method()\n"
   ]
  },
  {
   "cell_type": "markdown",
   "metadata": {},
   "source": [
    "### Built-in-classes \n",
    "\n",
    "- Sure! In Python, built-in class functions (also called built-in functions or class-related functions) are predefined functions provided by Python that help you work with classes and objects efficiently.\n",
    "\n",
    "-  These functions are either directly built into Python or related to Python's class system."
   ]
  },
  {
   "cell_type": "markdown",
   "metadata": {},
   "source": [
    "### common python built-in class function \n",
    "\n",
    "- # 1. type()\n",
    "\n",
    "   - return the type of the object and create a new class\n",
    "    \n",
    "   - Create a new class dynamically: If you pass 3 arguments to type(), it can be used to create a new class."
   ]
  },
  {
   "cell_type": "code",
   "execution_count": null,
   "metadata": {},
   "outputs": [],
   "source": [
    "#  type() to Create a New Class \n",
    "# SYNTSX\n",
    "type(class_name, bases, dict)"
   ]
  },
  {
   "cell_type": "code",
   "execution_count": 1,
   "metadata": {},
   "outputs": [
    {
     "name": "stdout",
     "output_type": "stream",
     "text": [
      "John\n",
      "30\n"
     ]
    }
   ],
   "source": [
    "# example of type to create a new class \n",
    "# Create a new class dynamically\n",
    "Person = type('Person', (object,), {'name': 'John', 'age': 30})\n",
    "\n",
    "# Instantiate the new class\n",
    "p = Person()\n",
    "print(p.name)  # Output: John\n",
    "print(p.age)   # Output: 30\n"
   ]
  },
  {
   "cell_type": "markdown",
   "metadata": {},
   "source": [
    "# 2. getattr()\n",
    "\n",
    "-  it is used to retrieve an attribute from an object dynamically. \n",
    "  \n",
    "-  allows you to access an attribute of an object by name, even if you don’t know the attribute's name at the time of writing the code. \n",
    "\n",
    "- syntax :\n",
    "     \n",
    "                 getattr(object, name, default)\n",
    "- getattr() retrieves an attribute from the object by name (as a string)."
   ]
  },
  {
   "cell_type": "code",
   "execution_count": 3,
   "metadata": {},
   "outputs": [
    {
     "name": "stdout",
     "output_type": "stream",
     "text": [
      "John\n",
      "30\n"
     ]
    }
   ],
   "source": [
    "# example \n",
    "class Person:\n",
    "    def __init__(self, name, age):\n",
    "        self.name = name\n",
    "        self.age = age\n",
    "\n",
    "p = Person(\"John\", 30)\n",
    "\n",
    "# Accessing the 'name' attribute dynamically\n",
    "print(getattr(p, 'name')) \n",
    "print(getattr(p , 'age')) # Output: John\n"
   ]
  },
  {
   "cell_type": "markdown",
   "metadata": {},
   "source": [
    "# 3.. setattr():\n",
    "\n",
    "  - The setattr() function is used to set (or update) the value of an attribute of an object. \n",
    "   \n",
    "  - It allows you to dynamically assign a value to an attribute, even if the attribute name is not hardcoded.\n"
   ]
  },
  {
   "cell_type": "code",
   "execution_count": null,
   "metadata": {},
   "outputs": [],
   "source": [
    "# syntax \n",
    "setattr(object, name, value)\n"
   ]
  },
  {
   "cell_type": "code",
   "execution_count": 5,
   "metadata": {},
   "outputs": [
    {
     "name": "stdout",
     "output_type": "stream",
     "text": [
      "123 Main St\n",
      "yash\n"
     ]
    }
   ],
   "source": [
    "class Person:\n",
    "    def __init__(self, name, age):\n",
    "        self.name = name\n",
    "        self.age = age\n",
    "\n",
    "p = Person(\"John\", 30)\n",
    "\n",
    "# Setting a new attribute 'address' using setattr\n",
    "setattr(p, 'address', '123 Main St')\n",
    "# you can modify using setatrr\n",
    "setattr(p,'name', 'yash' )\n",
    "\n",
    "print(p.address)  \n",
    "print(p.name)\n"
   ]
  },
  {
   "cell_type": "markdown",
   "metadata": {},
   "source": [
    "# 4. delattr()\n",
    "\n",
    " - it is used to delete attributes "
   ]
  },
  {
   "cell_type": "markdown",
   "metadata": {},
   "source": [
    "syntax :\n",
    "\n",
    "         del(object , name , value)"
   ]
  },
  {
   "cell_type": "code",
   "execution_count": null,
   "metadata": {},
   "outputs": [
    {
     "name": "stdout",
     "output_type": "stream",
     "text": [
      "{'name': 'yash'}\n"
     ]
    }
   ],
   "source": [
    "class Person:\n",
    "    def __init__(self , name , age):\n",
    "        self.name = name\n",
    "        self.age = age \n",
    "p = Person(\"yash\" , 30)\n",
    "# let suppose we have to delete age from object p\n",
    "delattr(p , 'age')\n",
    "print(p.__dict__)\n",
    "# you see age will be deleted"
   ]
  },
  {
   "cell_type": "markdown",
   "metadata": {},
   "source": [
    "# 5. hasattr() \n",
    "\n",
    "   - The hasattr() function is used to check whether an object has a given attribute or not. \n",
    "  \n",
    "   - It returns a boolean (True or False), making it very useful for writing safe, dynamic code.\n",
    "\n",
    "   - syntax :\n",
    "       \n",
    "               hasattr(object, name)\n"
   ]
  },
  {
   "cell_type": "code",
   "execution_count": 7,
   "metadata": {},
   "outputs": [
    {
     "name": "stdout",
     "output_type": "stream",
     "text": [
      "True\n",
      "False\n"
     ]
    }
   ],
   "source": [
    "class Student:\n",
    "    def __init__(self):\n",
    "        self.name = \"Aisha\"\n",
    "        self.age = 21\n",
    "\n",
    "s = Student()\n",
    "\n",
    "print(hasattr(s, 'name'))   # Output: True\n",
    "print(hasattr(s, 'grade'))  # Output: False\n"
   ]
  },
  {
   "cell_type": "code",
   "execution_count": 8,
   "metadata": {},
   "outputs": [
    {
     "name": "stdout",
     "output_type": "stream",
     "text": [
      "21\n",
      "A\n"
     ]
    }
   ],
   "source": [
    "#  Useful with getattr() and setattr()\n",
    "# getattr \n",
    "if hasattr(s, 'age'):\n",
    "    print(getattr(s, 'age'))  # Safe: Output will be 21\n",
    "else:\n",
    "    print(\"Attribute not found\")\n",
    "# setattr\n",
    "if not hasattr(s, 'grade'):\n",
    "    setattr(s, 'grade', 'A')\n",
    "\n",
    "print(s.grade)  # Output: A\n"
   ]
  },
  {
   "cell_type": "markdown",
   "metadata": {},
   "source": [
    "### Built-in-class attributes :\n",
    "\n",
    "-  classes have special built-in attributes that give useful metadata about the class itself.\n",
    "\n",
    "      - metadata :   Metadata is information that describes the properties or characteristics of data.\n",
    "\n",
    "- These are automatically created by Python when a class is defined and can be accessed using <u> dot notation. </u>\n",
    "     \n",
    "- Dot notation :   Dot notation is a way to access attributes and methods of an object using a dot (.)\n",
    "\n",
    "##### there are some common built in class attributes in python :\n",
    "\n",
    "\n",
    "\n"
   ]
  },
  {
   "cell_type": "markdown",
   "metadata": {},
   "source": [
    "# 1 . __dict__ attr: \n",
    "\n",
    "- Returns a dictionary representing the class's or instance’s attributes.\n",
    "\n",
    "\n"
   ]
  },
  {
   "cell_type": "code",
   "execution_count": 13,
   "metadata": {},
   "outputs": [
    {
     "name": "stdout",
     "output_type": "stream",
     "text": [
      "{'__module__': '__main__', '__firstlineno__': 1, 'name': 'Aisha', 'age': 21, '__static_attributes__': (), '__dict__': <attribute '__dict__' of 'Student' objects>, '__weakref__': <attribute '__weakref__' of 'Student' objects>, '__doc__': None}\n"
     ]
    }
   ],
   "source": [
    "class Student:\n",
    "    name = \"Aisha\"\n",
    "    age = 21\n",
    "\n",
    "print(Student.__dict__)\n"
   ]
  },
  {
   "cell_type": "markdown",
   "metadata": {},
   "source": [
    "# 2. __doc__ attr:\n",
    "\n",
    "- Returns the docstring of the class, if provided."
   ]
  },
  {
   "cell_type": "code",
   "execution_count": 14,
   "metadata": {},
   "outputs": [
    {
     "name": "stdout",
     "output_type": "stream",
     "text": [
      "This class stores student information.\n"
     ]
    }
   ],
   "source": [
    "class Student:\n",
    "    \"\"\"This class stores student information.\"\"\"\n",
    "    pass\n",
    "\n",
    "print(Student.__doc__)  # Output: This class stores student information.\n"
   ]
  },
  {
   "cell_type": "markdown",
   "metadata": {},
   "source": [
    "# 3. __name__ attr:\n",
    "\n",
    "- Gives the name of the class as a string."
   ]
  },
  {
   "cell_type": "code",
   "execution_count": 15,
   "metadata": {},
   "outputs": [
    {
     "name": "stdout",
     "output_type": "stream",
     "text": [
      "Student\n"
     ]
    }
   ],
   "source": [
    "class Student:\n",
    "    pass\n",
    "\n",
    "print(Student.__name__)  # Output: Student\n"
   ]
  },
  {
   "cell_type": "markdown",
   "metadata": {},
   "source": [
    "# 4. __module__ attr:\n",
    "\n",
    "- Returns the module name in which the class is defined."
   ]
  },
  {
   "cell_type": "code",
   "execution_count": 16,
   "metadata": {},
   "outputs": [
    {
     "name": "stdout",
     "output_type": "stream",
     "text": [
      "__main__\n"
     ]
    }
   ],
   "source": [
    "class Student:\n",
    "    pass\n",
    "\n",
    "print(Student.__module__)  # Output: __main__ (if run directly)\n"
   ]
  },
  {
   "cell_type": "markdown",
   "metadata": {},
   "source": [
    "# 5. __bases__ attr:\n",
    "\n",
    "- Gives a tuple of base classes (for inheritance)."
   ]
  },
  {
   "cell_type": "code",
   "execution_count": 17,
   "metadata": {},
   "outputs": [
    {
     "name": "stdout",
     "output_type": "stream",
     "text": [
      "(<class '__main__.Person'>,)\n"
     ]
    }
   ],
   "source": [
    "class Person:\n",
    "    pass\n",
    "\n",
    "class Student(Person):\n",
    "    pass\n",
    "\n",
    "print(Student.__bases__)  # Output: (<class '__main__.Person'>,)\n"
   ]
  },
  {
   "cell_type": "markdown",
   "metadata": {},
   "source": [
    "# 6. __class__ attr(for instances )\n",
    "\n",
    "- Returns the class to which an instance belongs."
   ]
  },
  {
   "cell_type": "code",
   "execution_count": 18,
   "metadata": {},
   "outputs": [
    {
     "name": "stdout",
     "output_type": "stream",
     "text": [
      "<class '__main__.Student'>\n"
     ]
    }
   ],
   "source": [
    "s = Student()\n",
    "print(s.__class__)  # Output: <class '__main__.Student'>\n"
   ]
  },
  {
   "cell_type": "markdown",
   "metadata": {},
   "source": [
    "### isinstance function :\n",
    "\n",
    "- The isinstance() function in Python is used to check if an object is an instance of a specific class or a tuple of classes.\n",
    "\n",
    "- syntax :\n",
    "   \n",
    "         isinstance(object, classinfo)\n"
   ]
  },
  {
   "cell_type": "code",
   "execution_count": 19,
   "metadata": {},
   "outputs": [
    {
     "name": "stdout",
     "output_type": "stream",
     "text": [
      "False\n",
      "True\n"
     ]
    }
   ],
   "source": [
    "# example\n",
    "class demo:\n",
    "    pass\n",
    "d1 = demo()\n",
    "class employee:\n",
    "    def __init__(self , name ,age):\n",
    "        self.name = name\n",
    "        self.age = age\n",
    "    def display(self):\n",
    "        print(f\"name is {self.name} and age is {self.age}\")\n",
    "e1 = employee('jay',22)\n",
    "e2 = employee('yash',20)\n",
    "print(isinstance(d1,employee))\n",
    "print(isinstance(e2,employee))"
   ]
  },
  {
   "cell_type": "markdown",
   "metadata": {},
   "source": [
    "\n",
    "#### variable :\n",
    "\n",
    "- In Object-Oriented Programming (OOP), variables are used to store data that belongs to objects (instances) and classes. \n",
    "\n",
    "- These variables define the state and behavior of the objects.\n",
    "\n",
    "- there are mainly three types of variable :-"
   ]
  },
  {
   "cell_type": "markdown",
   "metadata": {},
   "source": [
    "# 1. instance variable :\n",
    "\n",
    "- Instance variables are object-specific variables. They hold data that is unique to each instance of the class.\n",
    "\n",
    "- Declared using self keyword inside class methods (usually __init__).\n",
    " \n",
    "- Each object has its own copy."
   ]
  },
  {
   "cell_type": "code",
   "execution_count": null,
   "metadata": {},
   "outputs": [],
   "source": [
    "class Student:\n",
    "    def __init__(self, name, age):\n",
    "        self.name = name      # Instance variable(self.ame,self.age)\n",
    "        self.age = age\n"
   ]
  },
  {
   "cell_type": "markdown",
   "metadata": {},
   "source": [
    "#### why?\n",
    "\n",
    "- Any variable that starts with self. inside a class method refers to an attribute that belongs to the object.\n",
    "\n",
    "- So, self.name and self.age are instance variables because they store values that are specific to each object created from the Student class."
   ]
  },
  {
   "cell_type": "markdown",
   "metadata": {},
   "source": [
    "### instance method :\n",
    "\n",
    "- An instance method is a function defined inside a class that works on the instance (object) of that class.\n",
    "It can access and modify the attributes (data) of the specific object that calls it.\n",
    "\n",
    "- syntax :\n",
    "          <pre>class ClassName:\n",
    "              def instance_method(self, ...):  # 'self' refers to the instance\n",
    "              method body </pre>\n",
    "\n",
    "\n",
    "- example "
   ]
  },
  {
   "cell_type": "code",
   "execution_count": 32,
   "metadata": {},
   "outputs": [
    {
     "name": "stdout",
     "output_type": "stream",
     "text": [
      "{'name': 'abc', 'age': 100}\n"
     ]
    }
   ],
   "source": [
    "class Student:\n",
    "    def __init__(self, name , age):\n",
    "        self.name = name\n",
    "        self.age = age \n",
    "    def display(self):\n",
    "        print(self.name,self.age)\n",
    "    def change_data(self):  # instance method\n",
    "        self.name = 'abc'\n",
    "        self.age = 100\n",
    "\n",
    "std1 = Student('ajay', 22)\n",
    "std2 = Student('prem',25)\n",
    "std3 = Student('raj',38)\n",
    "\n",
    "std2.change_data()\n",
    "print(std2.__dict__)\n"
   ]
  },
  {
   "cell_type": "markdown",
   "metadata": {},
   "source": [
    "# 2. class variable:\n",
    "\n",
    "- Class variables are shared among all objects of a class. They store information that is common to all instances.\n",
    "\n",
    "- Declared inside the class, but outside any methods.\n",
    "\n",
    "- Shared memory, one copy for the entire class."
   ]
  },
  {
   "cell_type": "code",
   "execution_count": null,
   "metadata": {},
   "outputs": [],
   "source": [
    "class Student:\n",
    "    school_name = \"ABC School\"  # Class variable(school_name)\n"
   ]
  },
  {
   "cell_type": "markdown",
   "metadata": {},
   "source": [
    "#### Why?\n",
    "\n",
    "- It's defined inside the class but outside of any method.\n",
    "\n",
    "- It is shared by all instances of the class."
   ]
  },
  {
   "cell_type": "code",
   "execution_count": 3,
   "metadata": {},
   "outputs": [
    {
     "name": "stdout",
     "output_type": "stream",
     "text": [
      "sisco\n",
      "sisco\n",
      "TCS\n"
     ]
    }
   ],
   "source": [
    "# example \n",
    "class employee:\n",
    "    company_name = \"sisco\" # class variable \n",
    "    def __init__(self,nm,ag):\n",
    "        self.name = nm\n",
    "        self.age = ag\n",
    "\n",
    "e1 = employee(\"jay\",25)\n",
    "e2 = employee(\"vijay\",28)\n",
    "\n",
    "print(employee.company_name)\n",
    "print(e1.company_name)\n",
    "employee.company_name = 'TCS'\n",
    "print(employee.company_name)"
   ]
  },
  {
   "cell_type": "markdown",
   "metadata": {},
   "source": [
    "### class method :\n",
    "\n",
    "- A class method is a method that is bound to the class and not the instance of the class. It can access or modify class variables (shared across all instances), but not instance variables (which are unique to each object).\n",
    "\n",
    "- To define a class method, you use the @classmethod decorator, and the first parameter is always cls (referring to the class itself).\n",
    "\n",
    "- made using decorator @classmethod "
   ]
  },
  {
   "cell_type": "code",
   "execution_count": null,
   "metadata": {},
   "outputs": [],
   "source": [
    "class employee:\n",
    "    company_name = \"sisco\" # class variable \n",
    "    def __init__(self,nm,ag):\n",
    "        self.name = nm\n",
    "        self.age = ag\n",
    "    @classmethod\n",
    "    def get_company_name(cls):\n",
    "        print(f\"the company name is \", cls.company_name)\n",
    "\n",
    "e1 = employee(\"jay\",25)\n",
    "e2 = employee(\"vijay\",28)\n",
    "\n"
   ]
  },
  {
   "cell_type": "markdown",
   "metadata": {},
   "source": [
    "# 3. local variable:\n",
    "\n",
    "- Local variables are used inside methods/functions and exist only while the method runs.\n",
    "\n",
    "- Not accessed outside the method.\n",
    "\n",
    "- Used for temporary calculations or logic.\n",
    "\n"
   ]
  },
  {
   "cell_type": "code",
   "execution_count": null,
   "metadata": {},
   "outputs": [],
   "source": [
    "class Student:\n",
    "    def greet(self):\n",
    "        message = \"Hello!\"     # Local variable\n",
    "        print(message)\n",
    "# eason nothing is printed in this code is because you're only defining the class and the method, but you're not actually calling the method.\n"
   ]
  },
  {
   "cell_type": "code",
   "execution_count": 29,
   "metadata": {},
   "outputs": [
    {
     "name": "stdout",
     "output_type": "stream",
     "text": [
      "Hello!\n"
     ]
    }
   ],
   "source": [
    "class Student:\n",
    "    def greet(self):\n",
    "        message = \"Hello!\"     # Local variable\n",
    "        print(message)\n",
    "\n",
    "s1 = Student()     # Step 1: create object\n",
    "s1.greet()         # Step 2: call method\n",
    "\n",
    "# This just defines the class and the method greet().\n",
    "# To get output, you need to:\n",
    "\n",
    "# Create an object of the class.\n",
    "\n",
    "# Call the greet() method using that object.\n",
    "\n"
   ]
  },
  {
   "cell_type": "markdown",
   "metadata": {},
   "source": [
    "### why ?\n",
    "\n",
    "- message = \"Hello!\" is the local variable.\n",
    "\n",
    "- It's declared inside the method greet().\n",
    "\n",
    "- It's only accessible within that method, and it does not belong to the object or class.\n",
    "\n"
   ]
  }
 ],
 "metadata": {
  "kernelspec": {
   "display_name": "Python 3",
   "language": "python",
   "name": "python3"
  },
  "language_info": {
   "codemirror_mode": {
    "name": "ipython",
    "version": 3
   },
   "file_extension": ".py",
   "mimetype": "text/x-python",
   "name": "python",
   "nbconvert_exporter": "python",
   "pygments_lexer": "ipython3",
   "version": "3.13.3"
  }
 },
 "nbformat": 4,
 "nbformat_minor": 2
}
