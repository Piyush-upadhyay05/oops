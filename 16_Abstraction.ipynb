{
 "cells": [
  {
   "cell_type": "markdown",
   "metadata": {},
   "source": [
    "### Abstraction \n",
    "\n",
    "- Abstraction means hiding the internal implementation details and showing only the essential features to the user.\n",
    "\n",
    "#### Why is Abstraction Important?\n",
    "\n",
    "- It simplifies complex systems.\n",
    "\n",
    "- It helps in reducing programming complexity.\n",
    "\n",
    "- Makes code more modular and reusable.\n",
    "\n",
    "- Enhances security by hiding sensitive parts.\n",
    "\n"
   ]
  },
  {
   "cell_type": "markdown",
   "metadata": {},
   "source": [
    "### abc Module \n",
    "\n",
    "- abc module is used to used python to use abstraction "
   ]
  },
  {
   "cell_type": "code",
   "execution_count": 1,
   "metadata": {},
   "outputs": [],
   "source": [
    "from abc import ABC, abstractmethod\n"
   ]
  },
  {
   "cell_type": "markdown",
   "metadata": {},
   "source": [
    "- ABC: This is the base class for defining abstract classes.\n",
    "\n",
    "- @abstractmethod: A decorator to declare an abstract method that must be implemented by a subclass."
   ]
  }
 ],
 "metadata": {
  "kernelspec": {
   "display_name": "Python 3",
   "language": "python",
   "name": "python3"
  },
  "language_info": {
   "codemirror_mode": {
    "name": "ipython",
    "version": 3
   },
   "file_extension": ".py",
   "mimetype": "text/x-python",
   "name": "python",
   "nbconvert_exporter": "python",
   "pygments_lexer": "ipython3",
   "version": "3.13.3"
  }
 },
 "nbformat": 4,
 "nbformat_minor": 2
}
