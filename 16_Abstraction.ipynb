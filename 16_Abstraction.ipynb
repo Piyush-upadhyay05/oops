{
 "cells": [
  {
   "cell_type": "markdown",
   "metadata": {},
   "source": [
    "### Abstraction \n",
    "\n",
    "- Abstraction means hiding the internal implementation details and showing only the essential features to the user.\n",
    "\n",
    "#### Why is Abstraction Important?\n",
    "\n",
    "- It simplifies complex systems.\n",
    "\n",
    "- It helps in reducing programming complexity.\n",
    "\n",
    "- Makes code more modular and reusable.\n",
    "\n",
    "- Enhances security by hiding sensitive parts.\n",
    "\n"
   ]
  },
  {
   "cell_type": "code",
   "execution_count": 2,
   "metadata": {},
   "outputs": [
    {
     "name": "stdout",
     "output_type": "stream",
     "text": [
      "hello\n"
     ]
    }
   ],
   "source": [
    "print(\"hello\")"
   ]
  }
 ],
 "metadata": {
  "kernelspec": {
   "display_name": "Python 3",
   "language": "python",
   "name": "python3"
  },
  "language_info": {
   "codemirror_mode": {
    "name": "ipython",
    "version": 3
   },
   "file_extension": ".py",
   "mimetype": "text/x-python",
   "name": "python",
   "nbconvert_exporter": "python",
   "pygments_lexer": "ipython3",
   "version": "3.13.3"
  }
 },
 "nbformat": 4,
 "nbformat_minor": 2
}
