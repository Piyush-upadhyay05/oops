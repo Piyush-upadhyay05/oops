{
 "cells": [
  {
   "cell_type": "markdown",
   "metadata": {},
   "source": [
    "### Abstraction \n",
    "\n",
    "- Abstraction means hiding the internal implementation details and showing only the essential features to the user.\n",
    "\n",
    "- hiding complex implemetation detailes and showing only signstures to users .\n",
    "\n",
    "- you cant make the object of the abstract class \n",
    "\n",
    "- abstract class must have atleast one abstract method \n",
    "\n",
    "#### Why is Abstraction Important?\n",
    "\n",
    "- It simplifies complex systems.\n",
    "\n",
    "- It helps in reducing programming complexity.\n",
    "\n",
    "- Makes code more modular and reusable.\n",
    "\n",
    "- Enhances security by hiding sensitive parts.\n",
    "\n"
   ]
  },
  {
   "cell_type": "markdown",
   "metadata": {},
   "source": [
    "### Abstraction in Python\n",
    "\n",
    "- Python uses the abc module (Abstract Base Classes) to implement abstraction.\n",
    "\n",
    "-You can:\n",
    "\n",
    "  - Create abstract classes\n",
    "\n",
    "  - Define abstract methods\n",
    "    \n",
    "    - method that has a declaration and but does not have an implementation  \n",
    "\n",
    "  - Force subclasses to implement specific methods"
   ]
  },
  {
   "cell_type": "markdown",
   "metadata": {},
   "source": [
    "### abc Module \n",
    "\n",
    "- abc module is used to used python to use abstraction "
   ]
  },
  {
   "cell_type": "code",
   "execution_count": 1,
   "metadata": {},
   "outputs": [],
   "source": [
    "from abc import ABC, abstractmethod\n"
   ]
  },
  {
   "cell_type": "markdown",
   "metadata": {},
   "source": [
    "- ABC: This is the base class for defining abstract classes.\n",
    "\n",
    "- @abstractmethod: A decorator to declare an abstract method that must be implemented by a subclass."
   ]
  },
  {
   "cell_type": "markdown",
   "metadata": {},
   "source": [
    "- example \n"
   ]
  },
  {
   "cell_type": "code",
   "execution_count": 2,
   "metadata": {},
   "outputs": [
    {
     "name": "stdout",
     "output_type": "stream",
     "text": [
      "Woof! Woof!\n",
      "Sleeping...\n",
      "Meow! Meow!\n",
      "Sleeping...\n"
     ]
    }
   ],
   "source": [
    "from abc import ABC, abstractmethod\n",
    "\n",
    "# Abstract class\n",
    "class Animal(ABC):\n",
    "    \n",
    "    @abstractmethod\n",
    "    def make_sound(self):\n",
    "        pass  # Abstract method, no implementation\n",
    "\n",
    "    def sleep(self):\n",
    "        print(\"Sleeping...\")  # Concrete method\n",
    "\n",
    "# Subclass\n",
    "class Dog(Animal):\n",
    "    \n",
    "    def make_sound(self):\n",
    "        print(\"Woof! Woof!\")\n",
    "\n",
    "class Cat(Animal):\n",
    "    \n",
    "    def make_sound(self):\n",
    "        print(\"Meow! Meow!\")\n",
    "\n",
    "# Create objects\n",
    "d = Dog()\n",
    "d.make_sound()\n",
    "d.sleep()\n",
    "\n",
    "c = Cat()\n",
    "c.make_sound()\n",
    "c.sleep()\n"
   ]
  },
  {
   "cell_type": "markdown",
   "metadata": {},
   "source": [
    "### 9. 🆚 Abstraction vs. Encapsulation\n",
    "\n",
    "| Aspect               | Abstraction                                | Encapsulation                                      |\n",
    "|----------------------|---------------------------------------------|---------------------------------------------------|\n",
    "| Definition           | Hides implementation complexity             | Hides internal state via access modifiers         |\n",
    "| How it's achieved    | Achieved with abstract classes              | Achieved with private/protected members           |\n",
    "| Focus                | What an object does                         | How data is protected                             |\n",
    "| Example              | Phone functions                             | Private variables in a class                      |\n"
   ]
  },
  {
   "cell_type": "markdown",
   "metadata": {},
   "source": [
    "# important notes \n",
    "\n",
    "##### - you can't initiate the abstract classes \n",
    "##### - abstract class requires at least one abstract method \n",
    "##### - all abstract  method present in abstract class must be implemented in child classes else child class become abstract \n",
    "##### - if there is a abstract method in class , this method be abstract class "
   ]
  },
  {
   "cell_type": "markdown",
   "metadata": {},
   "source": [
    "### uses of abstraction :\n",
    "\n",
    "- when we have large code and functionality \n",
    "\n",
    "- your abstract class is like an api for other subclasses \n",
    "\n",
    "- used when third party is going to provide implementations \n",
    "\n",
    "- when we have different implementation for different object for same component \n",
    "\n",
    "- for creating interfaces \n",
    "\n"
   ]
  }
 ],
 "metadata": {
  "kernelspec": {
   "display_name": "Python 3",
   "language": "python",
   "name": "python3"
  },
  "language_info": {
   "codemirror_mode": {
    "name": "ipython",
    "version": 3
   },
   "file_extension": ".py",
   "mimetype": "text/x-python",
   "name": "python",
   "nbconvert_exporter": "python",
   "pygments_lexer": "ipython3",
   "version": "3.13.3"
  }
 },
 "nbformat": 4,
 "nbformat_minor": 2
}
