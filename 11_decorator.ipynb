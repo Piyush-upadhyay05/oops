{
 "cells": [
  {
   "cell_type": "markdown",
   "metadata": {},
   "source": [
    "### Decorator:\n",
    "\n",
    "- A decorator is a function that adds new functionality to an existing function without changing its code.\n",
    "\n",
    "- It’s a powerful tool in Python used for modifying or enhancing functions or methods dynamically"
   ]
  },
  {
   "cell_type": "markdown",
   "metadata": {},
   "source": [
    "### Why Use Decorators?\n",
    "\n",
    "- To add features (like logging, timing, validation, access control) to functions or methods\n",
    "\n",
    "- To avoid code duplication\n",
    "\n",
    "- To keep code clean and modular\n",
    "\n",
    "\n"
   ]
  },
  {
   "cell_type": "markdown",
   "metadata": {},
   "source": [
    "### there are two types of decorator \n",
    "\n",
    "# - 1. functional decorator \n",
    "\n",
    "# - 2. class decorator "
   ]
  },
  {
   "cell_type": "markdown",
   "metadata": {},
   "source": [
    "### 1. functional decorator \n",
    "\n",
    "- Used to modify or enhance functions.\n",
    "\n",
    "   - a) Basic Function Decorator\n",
    "  \n",
    "        Adds behavior before or after a function is called."
   ]
  },
  {
   "cell_type": "code",
   "execution_count": null,
   "metadata": {},
   "outputs": [],
   "source": [
    "def simple_decorator(func):\n",
    "    def wrapper():\n",
    "        print(\"Before function\")\n",
    "        func()\n",
    "        print(\"After function\")\n",
    "    return wrapper\n",
    "\n",
    "@simple_decorator\n",
    "def say_hello():\n",
    "    print(\"Hello!\")\n",
    "\n",
    "say_hello()\n"
   ]
  },
  {
   "cell_type": "markdown",
   "metadata": {},
   "source": [
    " - b) Function Decorator with Arguments\n",
    "  \n",
    "      Useful when decorating functions that take parameters"
   ]
  },
  {
   "cell_type": "code",
   "execution_count": null,
   "metadata": {},
   "outputs": [],
   "source": [
    "def decorator(func):\n",
    "    def wrapper(*args, **kwargs):\n",
    "        print(f\"Function called with arguments: {args}\")\n",
    "        return func(*args, **kwargs)\n",
    "    return wrapper\n",
    "\n",
    "@decorator\n",
    "def add(a, b):\n",
    "    return a + b\n",
    "\n",
    "print(add(2, 3))\n"
   ]
  },
  {
   "cell_type": "markdown",
   "metadata": {},
   "source": [
    "   - c) parameterized decorator \n",
    "\n",
    "        Decorators that take arguments themselves."
   ]
  },
  {
   "cell_type": "code",
   "execution_count": null,
   "metadata": {},
   "outputs": [],
   "source": [
    "def repeat(times):\n",
    "    def decorator(func):\n",
    "        def wrapper(*args, **kwargs):\n",
    "            for _ in range(times):\n",
    "                func(*args, **kwargs)\n",
    "        return wrapper\n",
    "    return decorator\n",
    "\n",
    "@repeat(3)\n",
    "def greet():\n",
    "    print(\"Hi!\")\n",
    "\n",
    "greet()\n"
   ]
  },
  {
   "cell_type": "markdown",
   "metadata": {},
   "source": [
    "### 2. Class Decorators\n",
    "\n",
    "- A class decorator is similar to a function decorator, but it decorates a class instead of a function.\n",
    "\n",
    "  It takes a class as input, modifies it or extends it, and returns a new (or the same) class.\n",
    "\n"
   ]
  },
  {
   "cell_type": "code",
   "execution_count": 1,
   "metadata": {},
   "outputs": [
    {
     "name": "stdout",
     "output_type": "stream",
     "text": [
      "Original method\n",
      "Hello! I'm a decorated class.\n"
     ]
    }
   ],
   "source": [
    "def add_greeting_method(cls):\n",
    "    # Add a new method to the class\n",
    "    def greet(self):\n",
    "        print(\"Hello! I'm a decorated class.\")\n",
    "\n",
    "    cls.greet = greet\n",
    "    return cls\n",
    "\n",
    "@add_greeting_method\n",
    "class MyClass:\n",
    "    def show(self):\n",
    "        print(\"Original method\")\n",
    "\n",
    "obj = MyClass()\n",
    "obj.show()     # Output: Original method\n",
    "obj.greet()    # Output: Hello! I'm a decorated class.\n"
   ]
  }
 ],
 "metadata": {
  "kernelspec": {
   "display_name": "Python 3",
   "language": "python",
   "name": "python3"
  },
  "language_info": {
   "codemirror_mode": {
    "name": "ipython",
    "version": 3
   },
   "file_extension": ".py",
   "mimetype": "text/x-python",
   "name": "python",
   "nbconvert_exporter": "python",
   "pygments_lexer": "ipython3",
   "version": "3.13.3"
  }
 },
 "nbformat": 4,
 "nbformat_minor": 2
}
