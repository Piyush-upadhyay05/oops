{
 "cells": [
  {
   "cell_type": "markdown",
   "metadata": {},
   "source": [
    "### Nested class :\n",
    "\n",
    "- A nested class is a class defined inside another class. It is also known as an inner class\n",
    "  \n",
    "- why we use nested class :\n",
    "  - You want to logically group classes that are only used in one place.\n",
    "\n",
    "  - You want to encapsulate or hide a class from the outside world.\n",
    "\n",
    "  - It helps in code organization and readability.\n",
    "\n",
    "  - when a one class cannot exist without another class object \n",
    "\n",
    "\n"
   ]
  },
  {
   "cell_type": "code",
   "execution_count": 2,
   "metadata": {},
   "outputs": [
    {
     "name": "stdout",
     "output_type": "stream",
     "text": [
      "outer class constructor called\n",
      "inner constructor called\n",
      "this is show method\n",
      "this is display method\n"
     ]
    }
   ],
   "source": [
    "class outer:\n",
    "    def __init__(self):\n",
    "        print(\"outer class constructor called\")\n",
    "    \n",
    "    def display(self):\n",
    "        print(\"this is display method\")\n",
    "    \n",
    "    class inner:\n",
    "        def __init__(self):\n",
    "            print(\"inner constructor called\")\n",
    "\n",
    "        def show(self):\n",
    "            print(\"this is show method\")\n",
    "\n",
    "obj = outer()\n",
    "in1=obj.inner()\n",
    "in1.show()\n",
    "obj.display()\n",
    "# obj.show() # you cannot access the inner class method using outer class object "
   ]
  },
  {
   "cell_type": "code",
   "execution_count": 7,
   "metadata": {},
   "outputs": [
    {
     "name": "stdout",
     "output_type": "stream",
     "text": [
      "name is yash and the roll is 101\n",
      "date of birth is 26/3/1999\n"
     ]
    }
   ],
   "source": [
    "class student:\n",
    "    def __init__(self,name,roll,dd,mm,yy):\n",
    "        self.name = name\n",
    "        self.roll = roll\n",
    "        self.dob=self.DOB(dd,mm,yy)\n",
    "    def display(self):\n",
    "        print(f\"name is {self.name} and the roll is {self.roll}\")\n",
    "        self.dob.display()\n",
    "\n",
    "    class DOB:\n",
    "        def __init__(self,dd,mm,yy):\n",
    "            self.date = dd\n",
    "            self.month = mm\n",
    "            self.year = yy\n",
    "        def display(self):\n",
    "            print(f\"date of birth is {self.date}/{self.month}/{self.year}\")\n",
    "\n",
    "s1 = student('yash',101,26,3,1999)\n",
    "s1.display()\n"
   ]
  },
  {
   "cell_type": "markdown",
   "metadata": {},
   "source": [
    "### Access member of one class into another \n",
    "\n",
    "- #### 1. Using Object of One Class in Another Class\n",
    "   - You can create an object of one class inside another class and access its members"
   ]
  },
  {
   "cell_type": "code",
   "execution_count": null,
   "metadata": {},
   "outputs": [],
   "source": [
    "class Student:\n",
    "    def __init__(self):\n",
    "        self.name = \"Piyush\"\n",
    "\n",
    "    def show_name(self):\n",
    "        print(\"Name:\", self.name)\n",
    "\n",
    "\n",
    "class School:\n",
    "    def display_student(self):\n",
    "        s = Student()  # creating object of Student\n",
    "        s.show_name()  # accessing method of Student\n",
    "\n",
    "\n",
    "school = School()\n",
    "school.display_student()\n"
   ]
  },
  {
   "cell_type": "code",
   "execution_count": 10,
   "metadata": {},
   "outputs": [
    {
     "name": "stdout",
     "output_type": "stream",
     "text": [
      "employee is : 101\n",
      "employee name is : piyush\n",
      "employee salary is : 70000\n"
     ]
    }
   ],
   "source": [
    "# example :\n",
    "class employee:\n",
    "    def __init__(self,eid,name,sal):\n",
    "        self.emp_id = eid\n",
    "        self.emp_name = name\n",
    "        self.emp_salary=sal\n",
    "    def display(self):\n",
    "        print(\"employee is :\",self.emp_id)\n",
    "        print(\"employee name is :\",self.emp_name)\n",
    "        print(\"employee salary is :\",self.emp_salary)\n",
    "class cahnges:\n",
    "    @staticmethod\n",
    "    def increment(obj):\n",
    "        obj.emp_salary=obj.emp_salary+20000\n",
    "        obj.display()\n",
    "e1 = employee(101,'piyush',50000)\n",
    "cahnges.increment(e1)"
   ]
  }
 ],
 "metadata": {
  "kernelspec": {
   "display_name": "Python 3",
   "language": "python",
   "name": "python3"
  },
  "language_info": {
   "codemirror_mode": {
    "name": "ipython",
    "version": 3
   },
   "file_extension": ".py",
   "mimetype": "text/x-python",
   "name": "python",
   "nbconvert_exporter": "python",
   "pygments_lexer": "ipython3",
   "version": "3.13.3"
  }
 },
 "nbformat": 4,
 "nbformat_minor": 2
}
