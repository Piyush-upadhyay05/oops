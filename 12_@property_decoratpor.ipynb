{
 "cells": [
  {
   "cell_type": "markdown",
   "metadata": {},
   "source": [
    "### types of decorator :\n",
    "\n",
    "- there are two types of decorator :\n",
    "    - 1. custom decorator \n",
    "      - example :\n",
    "        - a)function decorator\n",
    "        - b) class decorator \n",
    "        \n",
    "    - 2. built-in-decorators :\n",
    "      - example :\n",
    "       - a) @staticmethod \n",
    "       - b) @classmethod\n",
    "       - c) @property  "
   ]
  },
  {
   "cell_type": "markdown",
   "metadata": {},
   "source": [
    "### 1. @staticmethod :\n",
    "\n",
    "- Used when a method does not need access to self or cls.\n",
    "\n"
   ]
  },
  {
   "cell_type": "code",
   "execution_count": 1,
   "metadata": {},
   "outputs": [
    {
     "name": "stdout",
     "output_type": "stream",
     "text": [
      "Hello!\n"
     ]
    }
   ],
   "source": [
    "class Demo:\n",
    "    @staticmethod\n",
    "    def greet():\n",
    "        print(\"Hello!\")\n",
    "\n",
    "Demo.greet()\n"
   ]
  },
  {
   "cell_type": "markdown",
   "metadata": {},
   "source": [
    "### 2. @classmethod\n",
    "\n",
    "- Used when a method works with the class itself, not just instances. It takes cls as the first parameter."
   ]
  },
  {
   "cell_type": "code",
   "execution_count": null,
   "metadata": {},
   "outputs": [],
   "source": [
    "class Student:\n",
    "    count = 0\n",
    "\n",
    "    def __init__(self):\n",
    "        Student.count += 1\n",
    "\n",
    "    @classmethod\n",
    "    def get_count(cls):\n",
    "        return cls.count\n",
    "\n",
    "print(Student.get_count())\n"
   ]
  },
  {
   "cell_type": "markdown",
   "metadata": {},
   "source": [
    "### 3. @property\n",
    "\n",
    "- The @property decorator is used to turn a method into a read-only attribute.\n",
    "\n",
    "- it is built in decorator in python which is used to trate a method as a property or attributes \n",
    "\n",
    "It lets you:\n",
    "\n",
    "   - Access a method like a variable\n",
    "\n",
    "   - Hide implementation details\n",
    "\n",
    "   - Maintain encapsulation (OOP concept)\n",
    "\n"
   ]
  },
  {
   "cell_type": "markdown",
   "metadata": {},
   "source": [
    "### why do we need @property decorator \n",
    "\n",
    "- # 1. To use method as an attribute(cleaner code)"
   ]
  },
  {
   "cell_type": "code",
   "execution_count": 3,
   "metadata": {},
   "outputs": [
    {
     "name": "stdout",
     "output_type": "stream",
     "text": [
      "78.5\n"
     ]
    }
   ],
   "source": [
    "# Without @property\n",
    "class Circle:\n",
    "    def __init__(self, radius):\n",
    "        self.radius = radius\n",
    "\n",
    "    def area(self):\n",
    "        return 3.14 * self.radius ** 2\n",
    "\n",
    "c = Circle(5)\n",
    "print(c.area())   # function call\n"
   ]
  },
  {
   "cell_type": "code",
   "execution_count": 2,
   "metadata": {},
   "outputs": [
    {
     "name": "stdout",
     "output_type": "stream",
     "text": [
      "78.5\n"
     ]
    }
   ],
   "source": [
    "# with @property\n",
    "class Circle:\n",
    "    def __init__(self, radius):\n",
    "        self.radius = radius\n",
    "\n",
    "    @property\n",
    "    def area(self):\n",
    "        return 3.14 * self.radius ** 2\n",
    "\n",
    "c = Circle(5)\n",
    "print(c.area)   # looks like an attribute, but still runs logic\n"
   ]
  },
  {
   "cell_type": "markdown",
   "metadata": {},
   "source": [
    "Why it's better: Now you can use c.area like c.radius. You don’t need to remember where parentheses are required."
   ]
  },
  {
   "cell_type": "markdown",
   "metadata": {},
   "source": [
    "- # 2. To Implement Getter/Setter/Deleter Easily\n",
    "  \n",
    "   - Python allows us to manage internal attributes cleanly.\n",
    "\n"
   ]
  },
  {
   "cell_type": "code",
   "execution_count": null,
   "metadata": {},
   "outputs": [],
   "source": [
    "class Student:\n",
    "    def __init__(self):\n",
    "        self._marks = 0\n",
    "\n",
    "    @property\n",
    "    def marks(self):\n",
    "        return self._marks\n",
    "\n",
    "    @marks.setter\n",
    "    def marks(self, value):\n",
    "        if value < 0:\n",
    "            print(\"Marks can't be negative.\")\n",
    "        else:\n",
    "            self._marks = value\n",
    "\n",
    "    @marks.deleter\n",
    "    def marks(self):\n",
    "        print(\"Marks deleted!\")\n",
    "        del self._marks\n",
    "\n",
    "s = Student()\n",
    "s.marks = 95\n",
    "print(s.marks)\n",
    "del s.marks\n"
   ]
  },
  {
   "cell_type": "markdown",
   "metadata": {},
   "source": [
    " Without property, you’d need separate methods like get_marks(), set_marks(), del_marks() — which is not clean"
   ]
  },
  {
   "cell_type": "markdown",
   "metadata": {},
   "source": [
    "- # 3.  For Data Hiding / Validation\n",
    "\n",
    "   - You can allow access to private variables (_variable) safely."
   ]
  },
  {
   "cell_type": "code",
   "execution_count": null,
   "metadata": {},
   "outputs": [],
   "source": [
    "class Person:\n",
    "    def __init__(self, age):\n",
    "        self._age = age\n",
    "\n",
    "    @property\n",
    "    def age(self):\n",
    "        return self._age\n",
    "\n",
    "    @age.setter\n",
    "    def age(self, value):\n",
    "        if value >= 0:\n",
    "            self._age = value\n",
    "        else:\n",
    "            print(\"Invalid age\")\n",
    "\n",
    "p = Person(22)\n",
    "print(p.age)        # reading like variable\n",
    "p.age = -1          # triggers validation\n"
   ]
  }
 ],
 "metadata": {
  "kernelspec": {
   "display_name": "Python 3",
   "language": "python",
   "name": "python3"
  },
  "language_info": {
   "codemirror_mode": {
    "name": "ipython",
    "version": 3
   },
   "file_extension": ".py",
   "mimetype": "text/x-python",
   "name": "python",
   "nbconvert_exporter": "python",
   "pygments_lexer": "ipython3",
   "version": "3.13.3"
  }
 },
 "nbformat": 4,
 "nbformat_minor": 2
}
