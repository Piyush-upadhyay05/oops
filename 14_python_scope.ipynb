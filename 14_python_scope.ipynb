{
 "cells": [
  {
   "cell_type": "markdown",
   "metadata": {},
   "source": [
    "### python scope \n",
    "\n",
    "- A variable is only available from inside the region it is created. This is called scope."
   ]
  },
  {
   "cell_type": "markdown",
   "metadata": {},
   "source": [
    "#### Local scope \n",
    "\n",
    "- A variable created inside a function belongs to the local scope of that function, and can only be used inside that function.\n",
    "\n"
   ]
  },
  {
   "cell_type": "code",
   "execution_count": null,
   "metadata": {},
   "outputs": [],
   "source": [
    "# A variable created inside a function is available inside that function:\n",
    "\n",
    "def myfunc():\n",
    "  x = 300\n",
    "  print(x)\n",
    "\n",
    "myfunc()"
   ]
  },
  {
   "cell_type": "markdown",
   "metadata": {},
   "source": [
    "##### Function Inside Function\n",
    "\n",
    "- As explained in the example above, the variable x is not available outside the function, but it is available for any function inside the function:\n",
    "\n"
   ]
  },
  {
   "cell_type": "code",
   "execution_count": 1,
   "metadata": {},
   "outputs": [
    {
     "name": "stdout",
     "output_type": "stream",
     "text": [
      "300\n"
     ]
    }
   ],
   "source": [
    "# The local variable can be accessed from a function within the function:\n",
    "\n",
    "def myfunc():\n",
    "  x = 300\n",
    "  def myinnerfunc():\n",
    "    print(x)\n",
    "  myinnerfunc()\n",
    "\n",
    "myfunc()"
   ]
  },
  {
   "cell_type": "markdown",
   "metadata": {},
   "source": [
    "#### Global Scope\n",
    "\n",
    "- A variable created in the main body of the Python code is a global variable and belongs to the global scope.\n",
    "\n",
    "- Global variables are available from within any scope, global and local"
   ]
  },
  {
   "cell_type": "code",
   "execution_count": null,
   "metadata": {},
   "outputs": [],
   "source": [
    "# A variable created outside of a function is global and can be used by anyone:\n",
    "\n",
    "x = 300\n",
    "\n",
    "def myfunc():\n",
    "  print(x)\n",
    "\n",
    "myfunc()\n",
    "\n",
    "print(x)\n"
   ]
  },
  {
   "cell_type": "markdown",
   "metadata": {},
   "source": [
    "##### Naming Variables - \n",
    "\n",
    "- If you operate with the same variable name inside and outside of a function, Python will treat them as two separate variables, one available in the global scope (outside the          function)    and one available in the local scope (inside the function):"
   ]
  },
  {
   "cell_type": "code",
   "execution_count": null,
   "metadata": {},
   "outputs": [],
   "source": [
    "# The function will print the local x, and then the code will print the global x:\n",
    "\n",
    "x = 300\n",
    "\n",
    "def myfunc():\n",
    "  x = 200\n",
    "  print(x)\n",
    "\n",
    "myfunc()\n",
    "\n",
    "print(x)"
   ]
  },
  {
   "cell_type": "markdown",
   "metadata": {},
   "source": [
    "### Global Keyword\n",
    "\n",
    "- If you need to create a global variable, but are stuck in the local scope, you can use the global keyword.\n",
    "\n",
    "- The global keyword makes the variable global"
   ]
  },
  {
   "cell_type": "code",
   "execution_count": null,
   "metadata": {},
   "outputs": [],
   "source": [
    "# if you use the global keyword, the variable belongs to the global scope:\n",
    "\n",
    "def myfunc():\n",
    "  global x\n",
    "  x = 300\n",
    "\n",
    "myfunc()\n",
    "\n",
    "print(x)\n",
    "\n",
    "# Also, use the global keyword if you want to make a change to a global variable inside a function.\n",
    "\n",
    "# To change the value of a global variable inside a function, refer to the variable by using the global keyword:\n",
    "\n",
    "x = 300\n",
    "\n",
    "def myfunc():\n",
    "  global x\n",
    "  x = 200\n",
    "\n",
    "myfunc()\n",
    "\n",
    "print(x)"
   ]
  },
  {
   "cell_type": "markdown",
   "metadata": {},
   "source": [
    "### Nonlocal Keyword\n",
    "\n",
    "- The nonlocal keyword is used to work with variables inside nested functions.\n",
    "\n",
    "- The nonlocal keyword makes the variable belong to the outer function."
   ]
  },
  {
   "cell_type": "code",
   "execution_count": 2,
   "metadata": {},
   "outputs": [
    {
     "name": "stdout",
     "output_type": "stream",
     "text": [
      "hello\n"
     ]
    }
   ],
   "source": [
    "# If you use the nonlocal keyword, the variable will belong to the outer function:\n",
    "\n",
    "def myfunc1():\n",
    "  x = \"Jane\"\n",
    "  def myfunc2():\n",
    "    nonlocal x\n",
    "    x = \"hello\"\n",
    "  myfunc2()\n",
    "  return x\n",
    "\n",
    "print(myfunc1())\n"
   ]
  }
 ],
 "metadata": {
  "kernelspec": {
   "display_name": "Python 3",
   "language": "python",
   "name": "python3"
  },
  "language_info": {
   "codemirror_mode": {
    "name": "ipython",
    "version": 3
   },
   "file_extension": ".py",
   "mimetype": "text/x-python",
   "name": "python",
   "nbconvert_exporter": "python",
   "pygments_lexer": "ipython3",
   "version": "3.13.3"
  }
 },
 "nbformat": 4,
 "nbformat_minor": 2
}
