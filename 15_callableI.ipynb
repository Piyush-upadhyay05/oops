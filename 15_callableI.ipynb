{
 "cells": [
  {
   "cell_type": "markdown",
   "metadata": {},
   "source": [
    "### Callable()\n",
    "\n",
    "- it is a built in function in python in which we pass object \n",
    "\n",
    "- True = if pass object is callable it returns \n",
    "\n",
    "- False = if pass object is not callable "
   ]
  },
  {
   "cell_type": "markdown",
   "metadata": {},
   "source": [
    "### what are callable objects \n",
    "\n",
    "- anything that can be called using parentheses () like a function is called a callable\n",
    "\n",
    "- A callable object is any object that can be called like a function using object() syntax.\n",
    "\n",
    "- objects having __call()__ method in their class "
   ]
  },
  {
   "cell_type": "code",
   "execution_count": 2,
   "metadata": {},
   "outputs": [
    {
     "name": "stdout",
     "output_type": "stream",
     "text": [
      "30\n",
      "<class 'function'>\n",
      "False\n",
      "True\n"
     ]
    }
   ],
   "source": [
    "x = 100\n",
    "\n",
    "def add(a,b):\n",
    "    return a+b\n",
    "\n",
    "print(add(10,20))  # here add is called therefore it is a callable objects \n",
    "\n",
    "\n",
    "print(type(add))\n",
    "print(callable(x))\n",
    "print(callable(add))"
   ]
  },
  {
   "cell_type": "code",
   "execution_count": 6,
   "metadata": {},
   "outputs": [
    {
     "name": "stdout",
     "output_type": "stream",
     "text": [
      "30\n",
      "True\n",
      "600\n"
     ]
    }
   ],
   "source": [
    "class Add:\n",
    "    def __init__(self,a,b):\n",
    "        self.a=a\n",
    "        self.b=b\n",
    "    def __call__(self,a,b):\n",
    "        return a+b\n",
    "\n",
    "a1 = Add(10,20)\n",
    "print(a1(10,20))\n",
    "print(callable(a1))\n",
    "print(a1(100,500))"
   ]
  }
 ],
 "metadata": {
  "kernelspec": {
   "display_name": "Python 3",
   "language": "python",
   "name": "python3"
  },
  "language_info": {
   "codemirror_mode": {
    "name": "ipython",
    "version": 3
   },
   "file_extension": ".py",
   "mimetype": "text/x-python",
   "name": "python",
   "nbconvert_exporter": "python",
   "pygments_lexer": "ipython3",
   "version": "3.13.3"
  }
 },
 "nbformat": 4,
 "nbformat_minor": 2
}
