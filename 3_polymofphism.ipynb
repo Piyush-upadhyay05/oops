{
 "cells": [
  {
   "cell_type": "markdown",
   "metadata": {},
   "source": [
    "### Polymorphism :\n",
    "\n",
    "- polymorphism in python is an ability of python object to take many forms \n",
    "\n",
    "- if a variable , object , method perfomrs diferent behaviour according to situation is called as polymorphism .  \n"
   ]
  },
  {
   "cell_type": "markdown",
   "metadata": {},
   "source": [
    "### common built in function :"
   ]
  },
  {
   "cell_type": "markdown",
   "metadata": {},
   "source": [
    "#### 1. len() function "
   ]
  },
  {
   "cell_type": "code",
   "execution_count": 1,
   "metadata": {},
   "outputs": [
    {
     "name": "stdout",
     "output_type": "stream",
     "text": [
      "5\n",
      "3\n",
      "2\n"
     ]
    }
   ],
   "source": [
    "print(len(\"hello\"))       # 5 (length of string)\n",
    "print(len([1, 2, 3]))      # 3 (length of list)\n",
    "print(len({'a': 1, 'b': 2})) # 2 (number of keys in dict)\n"
   ]
  },
  {
   "cell_type": "markdown",
   "metadata": {},
   "source": [
    "- ➡ len() is polymorphic because it behaves differently for different data types."
   ]
  },
  {
   "cell_type": "markdown",
   "metadata": {},
   "source": [
    "#### 2. + (add operaotr) :\n",
    "\n",
    "- it usually add \n",
    "\n",
    "- Polymorphic behavior through operator overloading.\n",
    "\n"
   ]
  },
  {
   "cell_type": "code",
   "execution_count": 2,
   "metadata": {},
   "outputs": [
    {
     "name": "stdout",
     "output_type": "stream",
     "text": [
      "8\n",
      "Hello World\n",
      "[1, 2, 3, 4]\n"
     ]
    }
   ],
   "source": [
    "print(3 + 5)             # 8 (integer addition)\n",
    "print(\"Hello \" + \"World\") # \"Hello World\" (string concatenation)\n",
    "print([1, 2] + [3, 4])   # [1, 2, 3, 4] (list merge)\n",
    "\n"
   ]
  },
  {
   "cell_type": "markdown",
   "metadata": {},
   "source": [
    "#### 3. * (multiplication operator)\n",
    "\n",
    "- Used for multiplication, but behavior varies:"
   ]
  },
  {
   "cell_type": "code",
   "execution_count": 3,
   "metadata": {},
   "outputs": [
    {
     "name": "stdout",
     "output_type": "stream",
     "text": [
      "8\n",
      "hahaha\n",
      "[1, 2, 1, 2]\n"
     ]
    }
   ],
   "source": [
    "print(4 * 2)           # 8 (integer multiplication)\n",
    "print(\"ha\" * 3)        # \"hahaha\" (string repetition)\n",
    "print([1, 2] * 2)      # [1, 2, 1, 2] (list repetition)\n"
   ]
  },
  {
   "cell_type": "markdown",
   "metadata": {},
   "source": [
    "-  One operator, multiple behaviors based on data type."
   ]
  },
  {
   "cell_type": "markdown",
   "metadata": {},
   "source": [
    "#### 4.max() and min() Functions\n",
    "\n",
    "- Returns the max/min value from a collection. It works with:\n",
    "\n",
    "   - Strings\n",
    "\n",
    "   - Lists\n",
    "\n",
    "   - Tuples, etc."
   ]
  },
  {
   "cell_type": "code",
   "execution_count": 5,
   "metadata": {},
   "outputs": [
    {
     "name": "stdout",
     "output_type": "stream",
     "text": [
      "3\n",
      "n\n",
      "1\n",
      "7\n",
      "8\n",
      "y\n"
     ]
    }
   ],
   "source": [
    "print(max([1, 2, 3]))\n",
    "print(max(\"banana\"))         \n",
    "print(min((4, 2, 7, 1)))       \n",
    "print(max([3, 5, 7]))        # Output: 7 (list)\n",
    "print(max((2, 8, 1)))        # Output: 8 (tuple)\n",
    "print(max(\"python\"))        # Output: 'y' (based on ASCII values)\n",
    "\n",
    "\n"
   ]
  },
  {
   "cell_type": "markdown",
   "metadata": {},
   "source": [
    "#### 5. type() - return the type of any object "
   ]
  },
  {
   "cell_type": "code",
   "execution_count": 6,
   "metadata": {},
   "outputs": [
    {
     "name": "stdout",
     "output_type": "stream",
     "text": [
      "<class 'int'>\n",
      "<class 'str'>\n",
      "<class 'list'>\n"
     ]
    }
   ],
   "source": [
    "print(type(100))           # <class 'int'>\n",
    "print(type(\"ChatGPT\"))     # <class 'str'>\n",
    "print(type([1, 2, 3]))      # <class 'list'>\n"
   ]
  },
  {
   "cell_type": "markdown",
   "metadata": {},
   "source": [
    "#### 6. sorted() – Sorting Various Sequences"
   ]
  },
  {
   "cell_type": "code",
   "execution_count": 7,
   "metadata": {},
   "outputs": [
    {
     "name": "stdout",
     "output_type": "stream",
     "text": [
      "[1, 5, 9]\n",
      "['e', 'h', 'l', 'l', 'o']\n",
      "[1, 2, 3]\n"
     ]
    }
   ],
   "source": [
    "print(sorted([5, 1, 9]))        # [1, 5, 9] (list)\n",
    "print(sorted(\"hello\"))         # ['e', 'h', 'l', 'l', 'o'] (string → list of chars)\n",
    "print(sorted((3, 2, 1)))        # [1, 2, 3] (tuple → sorted list)\n"
   ]
  },
  {
   "cell_type": "markdown",
   "metadata": {},
   "source": [
    "- The sorted() function adapts to input types while maintaining its core functionality.\n",
    "\n"
   ]
  },
  {
   "cell_type": "markdown",
   "metadata": {},
   "source": [
    "#### 7. reversed() - The built-in reversed() function returns a reverse iterator over a reversible object.\n",
    "\n",
    "- The same function reversed() behaves differently based on the type of the object passed each object defines its own way of reversal through a polymorphic method.\n"
   ]
  },
  {
   "cell_type": "code",
   "execution_count": 8,
   "metadata": {},
   "outputs": [
    {
     "name": "stdout",
     "output_type": "stream",
     "text": [
      "s\n",
      "y\n",
      "s\n",
      "o\n",
      "f\n",
      "n\n",
      "i\n",
      "for list now\n",
      "pandey\n",
      "yash\n",
      "jay\n"
     ]
    }
   ],
   "source": [
    "emp = [ 'jay','yash','pandey']\n",
    "company = \"infosys\"\n",
    "\n",
    "for i in reversed(company):\n",
    "    print(i)  \n",
    "\n",
    "print(\"for list now\")\n",
    "for i in reversed(emp):\n",
    "    print(i)"
   ]
  }
 ],
 "metadata": {
  "kernelspec": {
   "display_name": "Python 3",
   "language": "python",
   "name": "python3"
  },
  "language_info": {
   "codemirror_mode": {
    "name": "ipython",
    "version": 3
   },
   "file_extension": ".py",
   "mimetype": "text/x-python",
   "name": "python",
   "nbconvert_exporter": "python",
   "pygments_lexer": "ipython3",
   "version": "3.13.3"
  }
 },
 "nbformat": 4,
 "nbformat_minor": 2
}
