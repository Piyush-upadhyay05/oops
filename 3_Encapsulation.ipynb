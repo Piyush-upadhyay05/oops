{
 "cells": [
  {
   "cell_type": "markdown",
   "metadata": {},
   "source": [
    "### Encapsulation:\n",
    "\n",
    "- Encapsulation is the process of binding data (variables) and functions (methods) that operate on the data into a single unit — typically a class — and restricting access to some of the object’s components.\n",
    "\n",
    "- encapsulation also called data hidig \n",
    "\n",
    "\n",
    "\n",
    "\n"
   ]
  },
  {
   "cell_type": "code",
   "execution_count": null,
   "metadata": {},
   "outputs": [
    {
     "ename": "NameError",
     "evalue": "name 'object_name' is not defined",
     "output_type": "error",
     "traceback": [
      "\u001b[31m---------------------------------------------------------------------------\u001b[39m",
      "\u001b[31mNameError\u001b[39m                                 Traceback (most recent call last)",
      "\u001b[36mCell\u001b[39m\u001b[36m \u001b[39m\u001b[32mIn[1]\u001b[39m\u001b[32m, line 9\u001b[39m\n\u001b[32m      6\u001b[39m     \u001b[38;5;28;01mdef\u001b[39;00m\u001b[38;5;250m \u001b[39m\u001b[34mdisplay\u001b[39m(\u001b[38;5;28mself\u001b[39m):\n\u001b[32m      7\u001b[39m         \u001b[38;5;28mprint\u001b[39m(\u001b[33mf\u001b[39m\u001b[33m\"\u001b[39m\u001b[33mname is \u001b[39m\u001b[38;5;132;01m{\u001b[39;00m\u001b[38;5;28mself\u001b[39m.name\u001b[38;5;132;01m}\u001b[39;00m\u001b[33m and the salary is \u001b[39m\u001b[38;5;132;01m{\u001b[39;00m\u001b[38;5;28mself\u001b[39m.salary\u001b[38;5;132;01m}\u001b[39;00m\u001b[33m\"\u001b[39m)\n\u001b[32m----> \u001b[39m\u001b[32m9\u001b[39m \u001b[43mobject_name\u001b[49m.name\n",
      "\u001b[31mNameError\u001b[39m: name 'object_name' is not defined"
     ]
    }
   ],
   "source": [
    "class employee:\n",
    "    def __init__(self,name,salary):\n",
    "        self.name=name\n",
    "        self.salary=salary\n",
    "\n",
    "    def display(self):\n",
    "        print(f\"name is {self.name} and the salary is {self.salary}\")\n",
    "\n",
    "object_name.name # you cannot call  the private atributes directly this happend by encapsulation \n"
   ]
  },
  {
   "cell_type": "code",
   "execution_count": 4,
   "metadata": {},
   "outputs": [
    {
     "name": "stdout",
     "output_type": "stream",
     "text": [
      "Name: piyush\n",
      "Roll Number: 0187CS231158\n",
      "Updated Name: yash\n"
     ]
    }
   ],
   "source": [
    "class Student:\n",
    "    def __init__(self, name, roll_number):\n",
    "        self.__name = name         # private attribute means this cant be accres directly\n",
    "        self.__roll_number = roll_number  # private attribute\n",
    "\n",
    "    # Getter  - this allow controlled acces to private data\n",
    "    def get_name(self):\n",
    "        return self.__name\n",
    "\n",
    "    def get_roll_number(self):\n",
    "        return self.__roll_number\n",
    "\n",
    "    # Setter method - These allow controlled modification of private data.\n",
    "    def set_name(self, name):\n",
    "        self.__name = name\n",
    "\n",
    "    def set_roll_number(self, roll_number):\n",
    "        self.__roll_number = roll_number\n",
    "\n",
    "\n",
    "# Creating an object\n",
    "student1 = Student(\"piyush\", \"0187CS231158\")\n",
    "\n",
    "# Accessing private data through methods\n",
    "print(\"Name:\", student1.get_name())\n",
    "print(\"Roll Number:\", student1.get_roll_number())\n",
    "\n",
    "# Modifying private data using setters\n",
    "student1.set_name(\"yash\")\n",
    "print(\"Updated Name:\", student1.get_name())\n"
   ]
  },
  {
   "cell_type": "markdown",
   "metadata": {},
   "source": [
    "- encapsulation restrict the data modification inside the class"
   ]
  },
  {
   "cell_type": "markdown",
   "metadata": {},
   "source": [
    "### Access modifier in python\n",
    "\n",
    "- Generally , we restrict data access outside the class in encapsulation\n",
    "\n",
    "- encapsulation can be achieved by deaclaring the data members and method of a class as private \n",
    "\n",
    "- Access modifiers control the visibility of class attributes and methods. They determine whether you can access or modify a variable from inside or outside the class.\n",
    "\n",
    "- there are three access specifier :- public , private , protected \n",
    "\n",
    "   - # 1 public members -  (No underscore)\n",
    "     - accessible anywhere by using object reference \n",
    "   - # 2. private members - created by (two unerscore __var)\n",
    "     - accessible within the class only via methods only    \n",
    "   - # 3. protected members - created by (single underscore _var)\n",
    "     - accesible within only class and its subclass "
   ]
  },
  {
   "cell_type": "markdown",
   "metadata": {},
   "source": [
    "### public member "
   ]
  },
  {
   "cell_type": "markdown",
   "metadata": {},
   "source": []
  },
  {
   "cell_type": "code",
   "execution_count": 5,
   "metadata": {},
   "outputs": [
    {
     "name": "stdout",
     "output_type": "stream",
     "text": [
      "yash\n"
     ]
    }
   ],
   "source": [
    "# public member \n",
    "class student:\n",
    "    def __init__(self):\n",
    "        self.name = \"yash\"   # public attribute\n",
    "\n",
    "obj = student()\n",
    "print(obj.name)  #  Can be accessed directly\n"
   ]
  },
  {
   "cell_type": "markdown",
   "metadata": {},
   "source": [
    "- use when --- You want the variable/method to be freely accessible.\n",
    "\n"
   ]
  },
  {
   "cell_type": "markdown",
   "metadata": {},
   "source": [
    "### private member "
   ]
  },
  {
   "cell_type": "code",
   "execution_count": 6,
   "metadata": {},
   "outputs": [
    {
     "name": "stdout",
     "output_type": "stream",
     "text": [
      "Salary: 50000\n"
     ]
    }
   ],
   "source": [
    "# private member\n",
    "class student:\n",
    "    def __init__(self):\n",
    "        self.__salary = 50000   # private attribute\n",
    "\n",
    "    def show_salary(self):\n",
    "        print(\"Salary:\", self.__salary)\n",
    "\n",
    "obj = student()\n",
    "obj.show_salary()  # ✅ Works\n",
    "\n",
    "# print(obj.__salary)  ❌ Error: 'student' object has no attribute '__salary'\n"
   ]
  },
  {
   "cell_type": "markdown",
   "metadata": {},
   "source": [
    "- use when -- You want to completely hide the data and protect it from being accessed or modified from outside the class."
   ]
  },
  {
   "cell_type": "markdown",
   "metadata": {},
   "source": [
    "### protected member "
   ]
  },
  {
   "cell_type": "code",
   "execution_count": 7,
   "metadata": {},
   "outputs": [
    {
     "name": "stdout",
     "output_type": "stream",
     "text": [
      "Age is: 20\n",
      "20\n"
     ]
    }
   ],
   "source": [
    "class student:\n",
    "    def __init__(self):\n",
    "        self._age = 20   # protected attribute\n",
    "\n",
    "class Child(student):\n",
    "    def display(self):\n",
    "        print(\"Age is:\", self._age)  # ✅ Accessible in child class\n",
    "\n",
    "obj = Child()\n",
    "obj.display()\n",
    "print(obj._age)  # ⚠️ Technically allowed, but not recommended\n"
   ]
  },
  {
   "cell_type": "markdown",
   "metadata": {},
   "source": [
    "- use when -- You want to suggest that an attribute is meant to be accessed only within the class or subclass, but not from outside.\n",
    "\n"
   ]
  },
  {
   "cell_type": "markdown",
   "metadata": {},
   "source": [
    "### Advantages :\n",
    "\n",
    "- 1. security\n",
    "\n",
    "- 2. prevents accidental modification \n",
    "\n",
    "- 3. simplicity "
   ]
  }
 ],
 "metadata": {
  "kernelspec": {
   "display_name": "Python 3",
   "language": "python",
   "name": "python3"
  },
  "language_info": {
   "codemirror_mode": {
    "name": "ipython",
    "version": 3
   },
   "file_extension": ".py",
   "mimetype": "text/x-python",
   "name": "python",
   "nbconvert_exporter": "python",
   "pygments_lexer": "ipython3",
   "version": "3.13.3"
  }
 },
 "nbformat": 4,
 "nbformat_minor": 2
}
