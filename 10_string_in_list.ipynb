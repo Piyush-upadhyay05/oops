{
 "cells": [
  {
   "cell_type": "markdown",
   "metadata": {},
   "source": [
    "### how to store multiple object inside list \n",
    "\n",
    "- create a movie class \n",
    "\n",
    "- create multiple movie object \n",
    "\n",
    "- add there objects into list \n",
    "\n",
    "- try top get objects one by one from list and print data "
   ]
  },
  {
   "cell_type": "code",
   "execution_count": 5,
   "metadata": {},
   "outputs": [
    {
     "name": "stdout",
     "output_type": "stream",
     "text": [
      "✅ Movie added to the list!\n",
      "\n",
      "🎬 All Movie Information:\n",
      "Title: simba\n",
      "Runtime: 140 min minutes\n",
      "Hero: ajay\n",
      "------------------------------\n"
     ]
    }
   ],
   "source": [
    "class Movie:\n",
    "    def __init__(self, title, mins, hero):\n",
    "        self.title = title \n",
    "        self.runtime = mins\n",
    "        self.hero = hero\n",
    "\n",
    "    def printer(self):\n",
    "        print(f\"Title: {self.title}\")\n",
    "        print(f\"Runtime: {self.runtime} minutes\")\n",
    "        print(f\"Hero: {self.hero}\")\n",
    "        print(\"-\" * 30)\n",
    "\n",
    "list_of_movies = []\n",
    "\n",
    "while True:\n",
    "    title = input(\"Enter the title of the movie: \")\n",
    "    mins = input(\"Enter the runtime of the movie (in minutes): \")\n",
    "    hero = input(\"Enter the name of the hero of the movie: \")\n",
    "\n",
    "    movie_obj = Movie(title, mins, hero)\n",
    "    list_of_movies.append(movie_obj)\n",
    "\n",
    "    print(\"✅ Movie added to the list!\")\n",
    "    \n",
    "    ans = input(\"Do you want to add another movie? (y/n): \")\n",
    "    if ans.lower() != 'y':\n",
    "        break\n",
    "\n",
    "print(\"\\n🎬 All Movie Information:\")\n",
    "for movie_obj in list_of_movies:\n",
    "    movie_obj.printer()\n"
   ]
  }
 ],
 "metadata": {
  "kernelspec": {
   "display_name": "Python 3",
   "language": "python",
   "name": "python3"
  },
  "language_info": {
   "codemirror_mode": {
    "name": "ipython",
    "version": 3
   },
   "file_extension": ".py",
   "mimetype": "text/x-python",
   "name": "python",
   "nbconvert_exporter": "python",
   "pygments_lexer": "ipython3",
   "version": "3.13.3"
  }
 },
 "nbformat": 4,
 "nbformat_minor": 2
}
