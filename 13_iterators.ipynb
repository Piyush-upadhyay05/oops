{
 "cells": [
  {
   "cell_type": "markdown",
   "metadata": {},
   "source": [
    "### iterators \n",
    "\n",
    "- An iterator is an object that contains a countable number of values.\n",
    "\n",
    "- An iterator is an object that can be iterated upon, meaning that you can traverse through all the values.\n",
    "\n",
    "- Technically, in Python, an iterator is an object which implements the iterator protocol, which consist of the methods __iter__() and __next__()."
   ]
  },
  {
   "cell_type": "markdown",
   "metadata": {},
   "source": [
    "### iterable VS iterator\n",
    "\n",
    "- Iterable: Any object you can loop over (for item in obj).\n",
    "\n",
    "  ➤ Example: list, tuple, str, dict, etc.\n",
    "\n",
    "- Iterable: Any object you can loop over (for item in obj).\n",
    "\n",
    "  ➤ Example: list, tuple, str, dict, etc."
   ]
  },
  {
   "cell_type": "code",
   "execution_count": null,
   "metadata": {},
   "outputs": [
    {
     "name": "stdout",
     "output_type": "stream",
     "text": [
      "apple\n",
      "banana\n",
      "cherry\n"
     ]
    }
   ],
   "source": [
    "# Return an iterator from a tuple, and print each value:\n",
    "\n",
    "mytuple = (\"apple\", \"banana\", \"cherry\")\n",
    "myit = iter(mytuple)\n",
    "\n",
    "print(next(myit))\n",
    "print(next(myit))\n",
    "print(next(myit))\n",
    "\n",
    "# Even strings are iterable objects, and can return an iterator:\n",
    "\n"
   ]
  },
  {
   "cell_type": "code",
   "execution_count": 3,
   "metadata": {},
   "outputs": [
    {
     "name": "stdout",
     "output_type": "stream",
     "text": [
      "b\n",
      "a\n",
      "n\n",
      "a\n",
      "n\n",
      "a\n"
     ]
    }
   ],
   "source": [
    "# Strings are also iterable objects, containing a sequence of characters:\n",
    "\n",
    "mystr = \"banana\"\n",
    "myit = iter(mystr)\n",
    "\n",
    "print(next(myit))\n",
    "print(next(myit))\n",
    "print(next(myit))\n",
    "print(next(myit))\n",
    "print(next(myit))\n",
    "print(next(myit))"
   ]
  },
  {
   "cell_type": "code",
   "execution_count": 4,
   "metadata": {},
   "outputs": [
    {
     "name": "stdout",
     "output_type": "stream",
     "text": [
      "10\n",
      "20\n",
      "30\n"
     ]
    }
   ],
   "source": [
    "nums = [10, 20, 30]       # This is an iterable\n",
    "it = iter(nums)           # Convert to iterator\n",
    "\n",
    "print(next(it))  # 10\n",
    "print(next(it))  # 20\n",
    "print(next(it))  # 30\n",
    "# print(next(it)) # raises StopIteration\n"
   ]
  },
  {
   "cell_type": "markdown",
   "metadata": {},
   "source": [
    "### Create an iterator\n",
    "\n",
    "- To create an object/class as an iterator you have to implement the methods __iter__() and __next__() to your object.\n",
    "\n",
    "- As you have learned in the Python Classes/Objects chapter, all classes have a function called __init__(), which allows you to do some initializing when the object is being created.\n",
    "\n",
    "- The __iter__() method acts similar, you can do operations (initializing etc.), but must always return the iterator object itself.\n",
    "\n",
    "- The __next__() method also allows you to do operations, and must return the next item in the sequence.\n",
    "\n",
    " "
   ]
  },
  {
   "cell_type": "code",
   "execution_count": null,
   "metadata": {},
   "outputs": [
    {
     "name": "stdout",
     "output_type": "stream",
     "text": [
      "1\n",
      "2\n",
      "3\n",
      "4\n",
      "5\n"
     ]
    }
   ],
   "source": [
    "# Create an iterator that returns numbers, starting with 1, and each sequence will increase by one (returning 1,2,3,4,5 etc.):\n",
    "\n",
    "class MyNumbers:\n",
    "  def __iter__(self): #  __iter__() → returns the iterator object\n",
    "    self.a = 1\n",
    "    return self\n",
    "\n",
    "  def __next__(self): # __next__() → returns next value and raises StopIteration when done\n",
    "    x = self.a\n",
    "    self.a += 1\n",
    "    return x\n",
    "\n",
    "myclass = MyNumbers()\n",
    "myiter = iter(myclass)\n",
    "\n",
    "print(next(myiter))\n",
    "print(next(myiter))\n",
    "print(next(myiter))\n",
    "print(next(myiter))\n",
    "print(next(myiter))\n",
    "\n",
    "# Define __next__() → returns next value and raises StopIteration when done"
   ]
  },
  {
   "cell_type": "markdown",
   "metadata": {},
   "source": [
    "### Some built-in classes that return iterators:\n",
    "\n",
    "- enumerate()\n",
    "\n",
    "- map()\n",
    "\n",
    "- zip()\n",
    "\n",
    "- filter()\n",
    "\n",
    "- reversed()"
   ]
  },
  {
   "cell_type": "markdown",
   "metadata": {},
   "source": [
    "### Stopiteration -\n",
    "\n",
    "- The example above would continue forever if you had enough next() statements, or if it was used in a for loop.\n",
    "\n",
    "- To prevent the iteration from going on forever, we can use the StopIteration statement.\n",
    "\n",
    "- In the __next__() method, we can add a terminating condition to raise an error if the iteration is done a specified number of times:\n",
    "\n"
   ]
  },
  {
   "cell_type": "code",
   "execution_count": 6,
   "metadata": {},
   "outputs": [
    {
     "name": "stdout",
     "output_type": "stream",
     "text": [
      "1\n",
      "2\n",
      "3\n",
      "4\n",
      "5\n",
      "6\n",
      "7\n",
      "8\n",
      "9\n",
      "10\n",
      "11\n",
      "12\n",
      "13\n",
      "14\n",
      "15\n",
      "16\n",
      "17\n",
      "18\n",
      "19\n",
      "20\n"
     ]
    }
   ],
   "source": [
    "class MyNumbers:\n",
    "  def __iter__(self):\n",
    "    self.a = 1\n",
    "    return self\n",
    "\n",
    "  def __next__(self):\n",
    "    if self.a <= 20:\n",
    "      x = self.a\n",
    "      self.a += 1\n",
    "      return x\n",
    "    else:\n",
    "      raise StopIteration\n",
    "\n",
    "myclass = MyNumbers()\n",
    "myiter = iter(myclass)\n",
    "\n",
    "for x in myiter:\n",
    "  print(x)\n"
   ]
  },
  {
   "cell_type": "markdown",
   "metadata": {},
   "source": [
    "### Key points :\n",
    "\n",
    "- Iterators help in memory-efficient looping, especially with large datasets.\n",
    "\n",
    "- You can use for loops directly on iterables without explicitly calling iter() or next() — Python does that behind the scenes.\n",
    "\n",
    "- StopIteration is automatically handled by for loops.\n",
    "\n"
   ]
  }
 ],
 "metadata": {
  "kernelspec": {
   "display_name": "Python 3",
   "language": "python",
   "name": "python3"
  },
  "language_info": {
   "codemirror_mode": {
    "name": "ipython",
    "version": 3
   },
   "file_extension": ".py",
   "mimetype": "text/x-python",
   "name": "python",
   "nbconvert_exporter": "python",
   "pygments_lexer": "ipython3",
   "version": "3.13.3"
  }
 },
 "nbformat": 4,
 "nbformat_minor": 2
}
